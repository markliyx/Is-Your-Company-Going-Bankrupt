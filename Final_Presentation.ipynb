{
  "nbformat": 4,
  "nbformat_minor": 0,
  "metadata": {
    "colab": {
      "name": "Final Presentation ",
      "provenance": [],
      "collapsed_sections": [],
      "include_colab_link": true
    },
    "kernelspec": {
      "name": "python3",
      "display_name": "Python 3"
    },
    "language_info": {
      "name": "python"
    }
  },
  "cells": [
    {
      "cell_type": "markdown",
      "metadata": {
        "id": "view-in-github",
        "colab_type": "text"
      },
      "source": [
        "<a href=\"https://colab.research.google.com/github/markliyx/Is-Your-Company-Going-Bankrupt/blob/main/Final_Presentation.ipynb\" target=\"_parent\"><img src=\"https://colab.research.google.com/assets/colab-badge.svg\" alt=\"Open In Colab\"/></a>"
      ]
    },
    {
      "cell_type": "markdown",
      "metadata": {
        "id": "84lihwIxmJRy"
      },
      "source": [
        "# **Is Your Company Heading to Bankruptcy?**\n",
        "\n",
        "###**---A Study of Bankruptcy Prediction**\n",
        "\n",
        "**Annotated Notebook**\n",
        "\n",
        "**Final Project By Zihan Chen, Yixiao (Mark) Li, and Zhenqi Ni**\n",
        "\n",
        "**CIS545 Spring 2021**"
      ]
    },
    {
      "cell_type": "markdown",
      "metadata": {
        "id": "uNuJvxcMh06f"
      },
      "source": [
        "## Introduction\n",
        "\n",
        "In this project, we explore and examine a dataset about bankruptcy prediction of Polish companies. First found on Kaggle, this dataset is directly from the Machine Learning Repository of University of California, Irvine. The link to the dataset is https://archive.ics.uci.edu/ml/datasets/Polish+companies+bankruptcy+data#.\n",
        "\n",
        "The data was originally collected from Emerging Markets Information Service (https://www.emis.com/), which is a database containing information on emerging markets around the world. The bankrupt companies were analyzed in the period 2000-2012, while the still operating companies were evaluated from 2007 to 2013.\n",
        "\n",
        "Our objective is to provide insight to finding important factors that can help predict company bankruptcies more accurately through our exploration and analysis of this particular dataset.\n",
        "\n",
        "Without further ado, let's dive into our data."
      ]
    },
    {
      "cell_type": "markdown",
      "metadata": {
        "id": "JHBsZL5VmNME"
      },
      "source": [
        "## Setup, Imports, and Data Loading\n",
        "\n",
        "First off, we finish our setup, import the necessary libraries, and read the dataset into Python.\n",
        "\n",
        "The original data set is composed of 5 separate arrf files, and we have pre-processed them to produced a single csv file. We also replaced the NAs with the mean value of the column. \n",
        "\n",
        "We first check the types of each column. It seems that every column of our dataframe is numerical, and ready to be fed into regressions, trees, and other models."
      ]
    },
    {
      "cell_type": "code",
      "metadata": {
        "colab": {
          "base_uri": "https://localhost:8080/"
        },
        "id": "AV8Nx7guoIH4",
        "outputId": "bde6dfc1-396b-4647-bd6b-5dabb82977e7"
      },
      "source": [
        "from google.colab import drive\n",
        "drive.mount('/content/drive')"
      ],
      "execution_count": null,
      "outputs": [
        {
          "output_type": "stream",
          "text": [
            "Mounted at /content/drive\n"
          ],
          "name": "stdout"
        }
      ]
    },
    {
      "cell_type": "code",
      "metadata": {
        "colab": {
          "base_uri": "https://localhost:8080/",
          "height": 439
        },
        "id": "PlmHxLeYnAVr",
        "outputId": "580796fa-991b-41b6-8ef2-01e2c17aee9f"
      },
      "source": [
        "import pandas as pd\n",
        "import seaborn as sns\n",
        "import numpy as np\n",
        "import matplotlib.pyplot as plt\n",
        "import os\n",
        "import statsmodels.formula.api as smf\n",
        "import sklearn\n",
        "import plotly.express as px\n",
        "from sklearn import tree\n",
        "from sklearn.model_selection import train_test_split\n",
        "\n",
        "#bankrupt_data = pd.read_csv('/content/drive/MyDrive/CIS545/CIS545 Final Project/bankrupt.csv').drop(['Unnamed: 0'], axis = 1)\n",
        "bankrupt_data = pd.read_csv('bankrupt.csv').drop(['Unnamed: 0'], axis = 1)\n",
        "\n",
        "bankrupt_data"
      ],
      "execution_count": null,
      "outputs": [
        {
          "output_type": "execute_result",
          "data": {
            "text/html": [
              "<div>\n",
              "<style scoped>\n",
              "    .dataframe tbody tr th:only-of-type {\n",
              "        vertical-align: middle;\n",
              "    }\n",
              "\n",
              "    .dataframe tbody tr th {\n",
              "        vertical-align: top;\n",
              "    }\n",
              "\n",
              "    .dataframe thead th {\n",
              "        text-align: right;\n",
              "    }\n",
              "</style>\n",
              "<table border=\"1\" class=\"dataframe\">\n",
              "  <thead>\n",
              "    <tr style=\"text-align: right;\">\n",
              "      <th></th>\n",
              "      <th>Attr1</th>\n",
              "      <th>Attr2</th>\n",
              "      <th>Attr3</th>\n",
              "      <th>Attr4</th>\n",
              "      <th>Attr5</th>\n",
              "      <th>Attr6</th>\n",
              "      <th>Attr7</th>\n",
              "      <th>Attr8</th>\n",
              "      <th>Attr9</th>\n",
              "      <th>Attr10</th>\n",
              "      <th>Attr11</th>\n",
              "      <th>Attr12</th>\n",
              "      <th>Attr13</th>\n",
              "      <th>Attr14</th>\n",
              "      <th>Attr15</th>\n",
              "      <th>Attr16</th>\n",
              "      <th>Attr17</th>\n",
              "      <th>Attr18</th>\n",
              "      <th>Attr19</th>\n",
              "      <th>Attr20</th>\n",
              "      <th>Attr21</th>\n",
              "      <th>Attr22</th>\n",
              "      <th>Attr23</th>\n",
              "      <th>Attr24</th>\n",
              "      <th>Attr25</th>\n",
              "      <th>Attr26</th>\n",
              "      <th>Attr27</th>\n",
              "      <th>Attr28</th>\n",
              "      <th>Attr29</th>\n",
              "      <th>Attr30</th>\n",
              "      <th>Attr31</th>\n",
              "      <th>Attr32</th>\n",
              "      <th>Attr33</th>\n",
              "      <th>Attr34</th>\n",
              "      <th>Attr35</th>\n",
              "      <th>Attr36</th>\n",
              "      <th>Attr37</th>\n",
              "      <th>Attr38</th>\n",
              "      <th>Attr39</th>\n",
              "      <th>Attr40</th>\n",
              "      <th>Attr41</th>\n",
              "      <th>Attr42</th>\n",
              "      <th>Attr43</th>\n",
              "      <th>Attr44</th>\n",
              "      <th>Attr45</th>\n",
              "      <th>Attr46</th>\n",
              "      <th>Attr47</th>\n",
              "      <th>Attr48</th>\n",
              "      <th>Attr49</th>\n",
              "      <th>Attr50</th>\n",
              "      <th>Attr51</th>\n",
              "      <th>Attr52</th>\n",
              "      <th>Attr53</th>\n",
              "      <th>Attr54</th>\n",
              "      <th>Attr55</th>\n",
              "      <th>Attr56</th>\n",
              "      <th>Attr57</th>\n",
              "      <th>Attr58</th>\n",
              "      <th>Attr59</th>\n",
              "      <th>Attr60</th>\n",
              "      <th>Attr61</th>\n",
              "      <th>Attr62</th>\n",
              "      <th>Attr63</th>\n",
              "      <th>Attr64</th>\n",
              "      <th>bankrupt</th>\n",
              "    </tr>\n",
              "  </thead>\n",
              "  <tbody>\n",
              "    <tr>\n",
              "      <th>0</th>\n",
              "      <td>0.200550</td>\n",
              "      <td>0.37951</td>\n",
              "      <td>0.396410</td>\n",
              "      <td>2.04720</td>\n",
              "      <td>32.3510</td>\n",
              "      <td>0.38825</td>\n",
              "      <td>0.249760</td>\n",
              "      <td>1.33050</td>\n",
              "      <td>1.13890</td>\n",
              "      <td>0.504940</td>\n",
              "      <td>0.249760</td>\n",
              "      <td>0.659800</td>\n",
              "      <td>0.166600</td>\n",
              "      <td>0.249760</td>\n",
              "      <td>497.42</td>\n",
              "      <td>0.733780</td>\n",
              "      <td>2.63490</td>\n",
              "      <td>0.249760</td>\n",
              "      <td>0.149420</td>\n",
              "      <td>43.3700</td>\n",
              "      <td>1.247900</td>\n",
              "      <td>0.214020</td>\n",
              "      <td>0.119980</td>\n",
              "      <td>0.477060</td>\n",
              "      <td>0.504940</td>\n",
              "      <td>0.604110</td>\n",
              "      <td>1.458200</td>\n",
              "      <td>1.761500</td>\n",
              "      <td>5.9443</td>\n",
              "      <td>0.11788</td>\n",
              "      <td>0.149420</td>\n",
              "      <td>94.140</td>\n",
              "      <td>3.8772</td>\n",
              "      <td>0.56393</td>\n",
              "      <td>0.214020</td>\n",
              "      <td>1.74100</td>\n",
              "      <td>593.270000</td>\n",
              "      <td>0.50591</td>\n",
              "      <td>0.128040</td>\n",
              "      <td>0.662950</td>\n",
              "      <td>0.051402</td>\n",
              "      <td>0.128040</td>\n",
              "      <td>114.420</td>\n",
              "      <td>71.0500</td>\n",
              "      <td>1.00970</td>\n",
              "      <td>1.52250</td>\n",
              "      <td>49.394</td>\n",
              "      <td>0.185300</td>\n",
              "      <td>0.110850</td>\n",
              "      <td>2.04200</td>\n",
              "      <td>0.37854</td>\n",
              "      <td>0.25792</td>\n",
              "      <td>2.24370</td>\n",
              "      <td>2.24800</td>\n",
              "      <td>348690.00</td>\n",
              "      <td>0.121960</td>\n",
              "      <td>0.397180</td>\n",
              "      <td>0.87804</td>\n",
              "      <td>0.001924</td>\n",
              "      <td>8.4160</td>\n",
              "      <td>5.1372</td>\n",
              "      <td>82.658</td>\n",
              "      <td>4.4158</td>\n",
              "      <td>7.42770</td>\n",
              "      <td>0</td>\n",
              "    </tr>\n",
              "    <tr>\n",
              "      <th>1</th>\n",
              "      <td>0.209120</td>\n",
              "      <td>0.49988</td>\n",
              "      <td>0.472250</td>\n",
              "      <td>1.94470</td>\n",
              "      <td>14.7860</td>\n",
              "      <td>0.00000</td>\n",
              "      <td>0.258340</td>\n",
              "      <td>0.99601</td>\n",
              "      <td>1.69960</td>\n",
              "      <td>0.497880</td>\n",
              "      <td>0.261140</td>\n",
              "      <td>0.516800</td>\n",
              "      <td>0.158350</td>\n",
              "      <td>0.258340</td>\n",
              "      <td>677.96</td>\n",
              "      <td>0.538380</td>\n",
              "      <td>2.00050</td>\n",
              "      <td>0.258340</td>\n",
              "      <td>0.152000</td>\n",
              "      <td>87.9810</td>\n",
              "      <td>1.429300</td>\n",
              "      <td>0.248060</td>\n",
              "      <td>0.123040</td>\n",
              "      <td>0.270012</td>\n",
              "      <td>0.395420</td>\n",
              "      <td>0.439920</td>\n",
              "      <td>88.444000</td>\n",
              "      <td>16.946000</td>\n",
              "      <td>3.6884</td>\n",
              "      <td>0.26969</td>\n",
              "      <td>0.152000</td>\n",
              "      <td>122.170</td>\n",
              "      <td>2.9876</td>\n",
              "      <td>2.98760</td>\n",
              "      <td>0.206160</td>\n",
              "      <td>1.69960</td>\n",
              "      <td>105.085363</td>\n",
              "      <td>0.49788</td>\n",
              "      <td>0.121300</td>\n",
              "      <td>0.086422</td>\n",
              "      <td>0.064371</td>\n",
              "      <td>0.145950</td>\n",
              "      <td>199.490</td>\n",
              "      <td>111.5100</td>\n",
              "      <td>0.51045</td>\n",
              "      <td>1.12520</td>\n",
              "      <td>100.130</td>\n",
              "      <td>0.237270</td>\n",
              "      <td>0.139610</td>\n",
              "      <td>1.94470</td>\n",
              "      <td>0.49988</td>\n",
              "      <td>0.33472</td>\n",
              "      <td>17.86600</td>\n",
              "      <td>17.86600</td>\n",
              "      <td>2304.60</td>\n",
              "      <td>0.121300</td>\n",
              "      <td>0.420020</td>\n",
              "      <td>0.85300</td>\n",
              "      <td>0.000000</td>\n",
              "      <td>4.1486</td>\n",
              "      <td>3.2732</td>\n",
              "      <td>107.350</td>\n",
              "      <td>3.4000</td>\n",
              "      <td>60.98700</td>\n",
              "      <td>0</td>\n",
              "    </tr>\n",
              "    <tr>\n",
              "      <th>2</th>\n",
              "      <td>0.248660</td>\n",
              "      <td>0.69592</td>\n",
              "      <td>0.267130</td>\n",
              "      <td>1.55480</td>\n",
              "      <td>-1.1523</td>\n",
              "      <td>0.00000</td>\n",
              "      <td>0.309060</td>\n",
              "      <td>0.43695</td>\n",
              "      <td>1.30900</td>\n",
              "      <td>0.304080</td>\n",
              "      <td>0.312580</td>\n",
              "      <td>0.641840</td>\n",
              "      <td>0.244350</td>\n",
              "      <td>0.309060</td>\n",
              "      <td>794.16</td>\n",
              "      <td>0.459610</td>\n",
              "      <td>1.43690</td>\n",
              "      <td>0.309060</td>\n",
              "      <td>0.236100</td>\n",
              "      <td>73.1330</td>\n",
              "      <td>1.428300</td>\n",
              "      <td>0.302600</td>\n",
              "      <td>0.189960</td>\n",
              "      <td>0.270012</td>\n",
              "      <td>0.289320</td>\n",
              "      <td>0.372820</td>\n",
              "      <td>86.011000</td>\n",
              "      <td>1.062700</td>\n",
              "      <td>4.3749</td>\n",
              "      <td>0.41929</td>\n",
              "      <td>0.238150</td>\n",
              "      <td>176.930</td>\n",
              "      <td>2.0630</td>\n",
              "      <td>1.42740</td>\n",
              "      <td>0.315650</td>\n",
              "      <td>1.30900</td>\n",
              "      <td>2.301900</td>\n",
              "      <td>0.51537</td>\n",
              "      <td>0.241140</td>\n",
              "      <td>0.322020</td>\n",
              "      <td>0.074020</td>\n",
              "      <td>0.231170</td>\n",
              "      <td>165.510</td>\n",
              "      <td>92.3810</td>\n",
              "      <td>0.94807</td>\n",
              "      <td>1.01010</td>\n",
              "      <td>96.372</td>\n",
              "      <td>0.291810</td>\n",
              "      <td>0.222930</td>\n",
              "      <td>1.07580</td>\n",
              "      <td>0.48152</td>\n",
              "      <td>0.48474</td>\n",
              "      <td>1.20980</td>\n",
              "      <td>2.05040</td>\n",
              "      <td>6332.70</td>\n",
              "      <td>0.241140</td>\n",
              "      <td>0.817740</td>\n",
              "      <td>0.76599</td>\n",
              "      <td>0.694840</td>\n",
              "      <td>4.9909</td>\n",
              "      <td>3.9510</td>\n",
              "      <td>134.270</td>\n",
              "      <td>2.7185</td>\n",
              "      <td>5.20780</td>\n",
              "      <td>0</td>\n",
              "    </tr>\n",
              "    <tr>\n",
              "      <th>3</th>\n",
              "      <td>0.081483</td>\n",
              "      <td>0.30734</td>\n",
              "      <td>0.458790</td>\n",
              "      <td>2.49280</td>\n",
              "      <td>51.9520</td>\n",
              "      <td>0.14988</td>\n",
              "      <td>0.092704</td>\n",
              "      <td>1.86610</td>\n",
              "      <td>1.05710</td>\n",
              "      <td>0.573530</td>\n",
              "      <td>0.092704</td>\n",
              "      <td>0.301630</td>\n",
              "      <td>0.094257</td>\n",
              "      <td>0.092704</td>\n",
              "      <td>917.01</td>\n",
              "      <td>0.398030</td>\n",
              "      <td>3.25370</td>\n",
              "      <td>0.092704</td>\n",
              "      <td>0.071428</td>\n",
              "      <td>79.7880</td>\n",
              "      <td>1.506900</td>\n",
              "      <td>0.115500</td>\n",
              "      <td>0.062782</td>\n",
              "      <td>0.171930</td>\n",
              "      <td>0.573530</td>\n",
              "      <td>0.361520</td>\n",
              "      <td>0.940760</td>\n",
              "      <td>1.961800</td>\n",
              "      <td>4.6511</td>\n",
              "      <td>0.14343</td>\n",
              "      <td>0.071428</td>\n",
              "      <td>91.370</td>\n",
              "      <td>3.9948</td>\n",
              "      <td>0.37581</td>\n",
              "      <td>0.115500</td>\n",
              "      <td>1.35620</td>\n",
              "      <td>105.085363</td>\n",
              "      <td>0.57353</td>\n",
              "      <td>0.088995</td>\n",
              "      <td>0.401390</td>\n",
              "      <td>0.069622</td>\n",
              "      <td>0.088995</td>\n",
              "      <td>180.770</td>\n",
              "      <td>100.9800</td>\n",
              "      <td>0.28720</td>\n",
              "      <td>1.56960</td>\n",
              "      <td>84.344</td>\n",
              "      <td>0.085874</td>\n",
              "      <td>0.066165</td>\n",
              "      <td>2.49280</td>\n",
              "      <td>0.30734</td>\n",
              "      <td>0.25033</td>\n",
              "      <td>2.45240</td>\n",
              "      <td>2.45240</td>\n",
              "      <td>20545.00</td>\n",
              "      <td>0.054015</td>\n",
              "      <td>0.142070</td>\n",
              "      <td>0.94598</td>\n",
              "      <td>0.000000</td>\n",
              "      <td>4.5746</td>\n",
              "      <td>3.6147</td>\n",
              "      <td>86.435</td>\n",
              "      <td>4.2228</td>\n",
              "      <td>5.54970</td>\n",
              "      <td>0</td>\n",
              "    </tr>\n",
              "    <tr>\n",
              "      <th>4</th>\n",
              "      <td>0.187320</td>\n",
              "      <td>0.61323</td>\n",
              "      <td>0.229600</td>\n",
              "      <td>1.40630</td>\n",
              "      <td>-7.3128</td>\n",
              "      <td>0.18732</td>\n",
              "      <td>0.187320</td>\n",
              "      <td>0.63070</td>\n",
              "      <td>1.15590</td>\n",
              "      <td>0.386770</td>\n",
              "      <td>0.187320</td>\n",
              "      <td>0.331470</td>\n",
              "      <td>0.121820</td>\n",
              "      <td>0.187320</td>\n",
              "      <td>1133.20</td>\n",
              "      <td>0.322110</td>\n",
              "      <td>1.63070</td>\n",
              "      <td>0.187320</td>\n",
              "      <td>0.115530</td>\n",
              "      <td>57.0450</td>\n",
              "      <td>3.884997</td>\n",
              "      <td>0.198320</td>\n",
              "      <td>0.115530</td>\n",
              "      <td>0.187320</td>\n",
              "      <td>0.386770</td>\n",
              "      <td>0.322110</td>\n",
              "      <td>1.413800</td>\n",
              "      <td>1.118400</td>\n",
              "      <td>4.1424</td>\n",
              "      <td>0.27884</td>\n",
              "      <td>0.115530</td>\n",
              "      <td>147.040</td>\n",
              "      <td>2.4823</td>\n",
              "      <td>0.32340</td>\n",
              "      <td>0.198320</td>\n",
              "      <td>1.62780</td>\n",
              "      <td>11.247000</td>\n",
              "      <td>0.43489</td>\n",
              "      <td>0.122310</td>\n",
              "      <td>0.293040</td>\n",
              "      <td>0.096680</td>\n",
              "      <td>0.122310</td>\n",
              "      <td>141.620</td>\n",
              "      <td>84.5740</td>\n",
              "      <td>0.73919</td>\n",
              "      <td>0.95787</td>\n",
              "      <td>65.936</td>\n",
              "      <td>0.188110</td>\n",
              "      <td>0.116010</td>\n",
              "      <td>1.29590</td>\n",
              "      <td>0.56511</td>\n",
              "      <td>0.40285</td>\n",
              "      <td>1.88390</td>\n",
              "      <td>2.11840</td>\n",
              "      <td>3186.60</td>\n",
              "      <td>0.134850</td>\n",
              "      <td>0.484310</td>\n",
              "      <td>0.86515</td>\n",
              "      <td>0.124440</td>\n",
              "      <td>6.3985</td>\n",
              "      <td>4.3158</td>\n",
              "      <td>127.210</td>\n",
              "      <td>2.8692</td>\n",
              "      <td>7.89800</td>\n",
              "      <td>0</td>\n",
              "    </tr>\n",
              "    <tr>\n",
              "      <th>...</th>\n",
              "      <td>...</td>\n",
              "      <td>...</td>\n",
              "      <td>...</td>\n",
              "      <td>...</td>\n",
              "      <td>...</td>\n",
              "      <td>...</td>\n",
              "      <td>...</td>\n",
              "      <td>...</td>\n",
              "      <td>...</td>\n",
              "      <td>...</td>\n",
              "      <td>...</td>\n",
              "      <td>...</td>\n",
              "      <td>...</td>\n",
              "      <td>...</td>\n",
              "      <td>...</td>\n",
              "      <td>...</td>\n",
              "      <td>...</td>\n",
              "      <td>...</td>\n",
              "      <td>...</td>\n",
              "      <td>...</td>\n",
              "      <td>...</td>\n",
              "      <td>...</td>\n",
              "      <td>...</td>\n",
              "      <td>...</td>\n",
              "      <td>...</td>\n",
              "      <td>...</td>\n",
              "      <td>...</td>\n",
              "      <td>...</td>\n",
              "      <td>...</td>\n",
              "      <td>...</td>\n",
              "      <td>...</td>\n",
              "      <td>...</td>\n",
              "      <td>...</td>\n",
              "      <td>...</td>\n",
              "      <td>...</td>\n",
              "      <td>...</td>\n",
              "      <td>...</td>\n",
              "      <td>...</td>\n",
              "      <td>...</td>\n",
              "      <td>...</td>\n",
              "      <td>...</td>\n",
              "      <td>...</td>\n",
              "      <td>...</td>\n",
              "      <td>...</td>\n",
              "      <td>...</td>\n",
              "      <td>...</td>\n",
              "      <td>...</td>\n",
              "      <td>...</td>\n",
              "      <td>...</td>\n",
              "      <td>...</td>\n",
              "      <td>...</td>\n",
              "      <td>...</td>\n",
              "      <td>...</td>\n",
              "      <td>...</td>\n",
              "      <td>...</td>\n",
              "      <td>...</td>\n",
              "      <td>...</td>\n",
              "      <td>...</td>\n",
              "      <td>...</td>\n",
              "      <td>...</td>\n",
              "      <td>...</td>\n",
              "      <td>...</td>\n",
              "      <td>...</td>\n",
              "      <td>...</td>\n",
              "      <td>...</td>\n",
              "    </tr>\n",
              "    <tr>\n",
              "      <th>43400</th>\n",
              "      <td>0.012898</td>\n",
              "      <td>0.70621</td>\n",
              "      <td>0.038857</td>\n",
              "      <td>1.17220</td>\n",
              "      <td>-18.9070</td>\n",
              "      <td>0.00000</td>\n",
              "      <td>0.013981</td>\n",
              "      <td>0.41600</td>\n",
              "      <td>1.67680</td>\n",
              "      <td>0.293790</td>\n",
              "      <td>0.041583</td>\n",
              "      <td>0.061959</td>\n",
              "      <td>0.023622</td>\n",
              "      <td>0.013981</td>\n",
              "      <td>6507.60</td>\n",
              "      <td>0.056089</td>\n",
              "      <td>1.41600</td>\n",
              "      <td>0.013981</td>\n",
              "      <td>0.008338</td>\n",
              "      <td>27.0920</td>\n",
              "      <td>1.033000</td>\n",
              "      <td>0.040401</td>\n",
              "      <td>0.007692</td>\n",
              "      <td>0.901840</td>\n",
              "      <td>0.083706</td>\n",
              "      <td>0.054556</td>\n",
              "      <td>1.463700</td>\n",
              "      <td>0.052831</td>\n",
              "      <td>4.9667</td>\n",
              "      <td>0.41853</td>\n",
              "      <td>0.024762</td>\n",
              "      <td>50.128</td>\n",
              "      <td>7.4000</td>\n",
              "      <td>2.36440</td>\n",
              "      <td>0.033819</td>\n",
              "      <td>1.67680</td>\n",
              "      <td>0.378500</td>\n",
              "      <td>0.66377</td>\n",
              "      <td>0.020169</td>\n",
              "      <td>0.022858</td>\n",
              "      <td>0.356510</td>\n",
              "      <td>0.024093</td>\n",
              "      <td>56.452</td>\n",
              "      <td>29.3600</td>\n",
              "      <td>0.10363</td>\n",
              "      <td>0.62061</td>\n",
              "      <td>27.207</td>\n",
              "      <td>0.014771</td>\n",
              "      <td>0.008809</td>\n",
              "      <td>0.37454</td>\n",
              "      <td>0.22564</td>\n",
              "      <td>0.13514</td>\n",
              "      <td>0.39944</td>\n",
              "      <td>0.90248</td>\n",
              "      <td>3599.10</td>\n",
              "      <td>0.020169</td>\n",
              "      <td>0.043904</td>\n",
              "      <td>1.01220</td>\n",
              "      <td>1.259400</td>\n",
              "      <td>13.4720</td>\n",
              "      <td>12.4320</td>\n",
              "      <td>49.117</td>\n",
              "      <td>7.4313</td>\n",
              "      <td>2.27990</td>\n",
              "      <td>1</td>\n",
              "    </tr>\n",
              "    <tr>\n",
              "      <th>43401</th>\n",
              "      <td>-0.578050</td>\n",
              "      <td>0.96702</td>\n",
              "      <td>-0.800850</td>\n",
              "      <td>0.16576</td>\n",
              "      <td>-67.3650</td>\n",
              "      <td>-0.57805</td>\n",
              "      <td>-0.578050</td>\n",
              "      <td>-0.40334</td>\n",
              "      <td>0.93979</td>\n",
              "      <td>-0.390040</td>\n",
              "      <td>-0.578050</td>\n",
              "      <td>-0.602160</td>\n",
              "      <td>-0.110220</td>\n",
              "      <td>-0.578050</td>\n",
              "      <td>-742.28</td>\n",
              "      <td>-0.491730</td>\n",
              "      <td>1.03410</td>\n",
              "      <td>-0.578050</td>\n",
              "      <td>-0.133990</td>\n",
              "      <td>3.2965</td>\n",
              "      <td>0.647700</td>\n",
              "      <td>-0.534920</td>\n",
              "      <td>-0.133990</td>\n",
              "      <td>-0.578050</td>\n",
              "      <td>-0.390040</td>\n",
              "      <td>-0.491730</td>\n",
              "      <td>1107.896314</td>\n",
              "      <td>-0.952400</td>\n",
              "      <td>4.0622</td>\n",
              "      <td>0.21864</td>\n",
              "      <td>-0.133990</td>\n",
              "      <td>76.330</td>\n",
              "      <td>4.7819</td>\n",
              "      <td>-0.55316</td>\n",
              "      <td>-0.534920</td>\n",
              "      <td>4.39120</td>\n",
              "      <td>17.036000</td>\n",
              "      <td>-0.38299</td>\n",
              "      <td>-0.123990</td>\n",
              "      <td>0.024771</td>\n",
              "      <td>-0.073529</td>\n",
              "      <td>-0.123990</td>\n",
              "      <td>11.451</td>\n",
              "      <td>8.1548</td>\n",
              "      <td>-14.83600</td>\n",
              "      <td>0.12517</td>\n",
              "      <td>3.098</td>\n",
              "      <td>-0.637460</td>\n",
              "      <td>-0.147760</td>\n",
              "      <td>0.16455</td>\n",
              "      <td>0.95997</td>\n",
              "      <td>0.20912</td>\n",
              "      <td>-0.46385</td>\n",
              "      <td>-0.45546</td>\n",
              "      <td>-9242.10</td>\n",
              "      <td>-0.064073</td>\n",
              "      <td>1.482000</td>\n",
              "      <td>1.06410</td>\n",
              "      <td>-0.018084</td>\n",
              "      <td>110.7200</td>\n",
              "      <td>44.7590</td>\n",
              "      <td>81.220</td>\n",
              "      <td>4.4940</td>\n",
              "      <td>5.13050</td>\n",
              "      <td>1</td>\n",
              "    </tr>\n",
              "    <tr>\n",
              "      <th>43402</th>\n",
              "      <td>-0.179050</td>\n",
              "      <td>1.25530</td>\n",
              "      <td>-0.275990</td>\n",
              "      <td>0.74554</td>\n",
              "      <td>-120.4400</td>\n",
              "      <td>-0.17905</td>\n",
              "      <td>-0.154930</td>\n",
              "      <td>-0.26018</td>\n",
              "      <td>1.17490</td>\n",
              "      <td>-0.326590</td>\n",
              "      <td>-0.154930</td>\n",
              "      <td>-0.142840</td>\n",
              "      <td>-0.072940</td>\n",
              "      <td>-0.154930</td>\n",
              "      <td>-3298.20</td>\n",
              "      <td>-0.110670</td>\n",
              "      <td>0.79665</td>\n",
              "      <td>-0.154930</td>\n",
              "      <td>-0.081350</td>\n",
              "      <td>37.0460</td>\n",
              "      <td>0.831040</td>\n",
              "      <td>0.176700</td>\n",
              "      <td>-0.094015</td>\n",
              "      <td>-0.154930</td>\n",
              "      <td>-0.326590</td>\n",
              "      <td>-0.129880</td>\n",
              "      <td>1107.896314</td>\n",
              "      <td>-1.442300</td>\n",
              "      <td>5.3244</td>\n",
              "      <td>0.65813</td>\n",
              "      <td>-0.081350</td>\n",
              "      <td>244.230</td>\n",
              "      <td>1.4945</td>\n",
              "      <td>0.14077</td>\n",
              "      <td>0.176700</td>\n",
              "      <td>1.95150</td>\n",
              "      <td>3.606500</td>\n",
              "      <td>-0.15597</td>\n",
              "      <td>0.092780</td>\n",
              "      <td>0.064095</td>\n",
              "      <td>0.214140</td>\n",
              "      <td>0.092780</td>\n",
              "      <td>141.650</td>\n",
              "      <td>104.6100</td>\n",
              "      <td>-0.92630</td>\n",
              "      <td>0.56733</td>\n",
              "      <td>43.526</td>\n",
              "      <td>0.160680</td>\n",
              "      <td>0.084370</td>\n",
              "      <td>0.64421</td>\n",
              "      <td>1.08460</td>\n",
              "      <td>0.66913</td>\n",
              "      <td>-1.70670</td>\n",
              "      <td>-0.81508</td>\n",
              "      <td>-58253.00</td>\n",
              "      <td>0.148880</td>\n",
              "      <td>0.548240</td>\n",
              "      <td>0.85112</td>\n",
              "      <td>-0.522430</td>\n",
              "      <td>9.8526</td>\n",
              "      <td>3.4892</td>\n",
              "      <td>207.870</td>\n",
              "      <td>1.7559</td>\n",
              "      <td>9.95270</td>\n",
              "      <td>1</td>\n",
              "    </tr>\n",
              "    <tr>\n",
              "      <th>43403</th>\n",
              "      <td>-0.108860</td>\n",
              "      <td>0.74394</td>\n",
              "      <td>0.015449</td>\n",
              "      <td>1.08780</td>\n",
              "      <td>-17.0030</td>\n",
              "      <td>-0.10886</td>\n",
              "      <td>-0.109180</td>\n",
              "      <td>0.12531</td>\n",
              "      <td>0.84516</td>\n",
              "      <td>0.093224</td>\n",
              "      <td>-0.109180</td>\n",
              "      <td>-0.620380</td>\n",
              "      <td>-0.065652</td>\n",
              "      <td>-0.109180</td>\n",
              "      <td>-5352.10</td>\n",
              "      <td>-0.068197</td>\n",
              "      <td>1.34420</td>\n",
              "      <td>-0.109180</td>\n",
              "      <td>-0.141280</td>\n",
              "      <td>26.2850</td>\n",
              "      <td>1.121000</td>\n",
              "      <td>-0.099950</td>\n",
              "      <td>-0.140860</td>\n",
              "      <td>-0.109180</td>\n",
              "      <td>0.093224</td>\n",
              "      <td>-0.067762</td>\n",
              "      <td>1107.896314</td>\n",
              "      <td>0.019106</td>\n",
              "      <td>4.8555</td>\n",
              "      <td>0.95181</td>\n",
              "      <td>-0.141280</td>\n",
              "      <td>70.252</td>\n",
              "      <td>5.1956</td>\n",
              "      <td>-0.13435</td>\n",
              "      <td>-0.099950</td>\n",
              "      <td>0.83553</td>\n",
              "      <td>0.239080</td>\n",
              "      <td>0.66118</td>\n",
              "      <td>-0.129340</td>\n",
              "      <td>0.048976</td>\n",
              "      <td>-0.589300</td>\n",
              "      <td>-0.129340</td>\n",
              "      <td>86.348</td>\n",
              "      <td>60.0640</td>\n",
              "      <td>-1.95610</td>\n",
              "      <td>0.77157</td>\n",
              "      <td>22.215</td>\n",
              "      <td>-0.158400</td>\n",
              "      <td>-0.204970</td>\n",
              "      <td>0.25733</td>\n",
              "      <td>0.17599</td>\n",
              "      <td>0.19247</td>\n",
              "      <td>0.11530</td>\n",
              "      <td>0.81772</td>\n",
              "      <td>1107.50</td>\n",
              "      <td>-0.183200</td>\n",
              "      <td>-1.167700</td>\n",
              "      <td>1.18320</td>\n",
              "      <td>6.092400</td>\n",
              "      <td>13.8860</td>\n",
              "      <td>6.0769</td>\n",
              "      <td>83.122</td>\n",
              "      <td>4.3911</td>\n",
              "      <td>0.95575</td>\n",
              "      <td>1</td>\n",
              "    </tr>\n",
              "    <tr>\n",
              "      <th>43404</th>\n",
              "      <td>-0.105370</td>\n",
              "      <td>0.53629</td>\n",
              "      <td>-0.045578</td>\n",
              "      <td>0.91478</td>\n",
              "      <td>-56.0680</td>\n",
              "      <td>-0.10537</td>\n",
              "      <td>-0.109940</td>\n",
              "      <td>0.86460</td>\n",
              "      <td>0.95040</td>\n",
              "      <td>0.463670</td>\n",
              "      <td>-0.109940</td>\n",
              "      <td>-0.205570</td>\n",
              "      <td>-0.066747</td>\n",
              "      <td>-0.109940</td>\n",
              "      <td>-2055.90</td>\n",
              "      <td>-0.177540</td>\n",
              "      <td>1.86470</td>\n",
              "      <td>-0.109940</td>\n",
              "      <td>-0.077072</td>\n",
              "      <td>47.1990</td>\n",
              "      <td>0.713510</td>\n",
              "      <td>-0.082947</td>\n",
              "      <td>-0.073868</td>\n",
              "      <td>-0.109940</td>\n",
              "      <td>0.463670</td>\n",
              "      <td>-0.169020</td>\n",
              "      <td>1107.896314</td>\n",
              "      <td>-0.089234</td>\n",
              "      <td>3.9698</td>\n",
              "      <td>0.37528</td>\n",
              "      <td>-0.077072</td>\n",
              "      <td>130.060</td>\n",
              "      <td>2.8064</td>\n",
              "      <td>-0.15467</td>\n",
              "      <td>-0.082947</td>\n",
              "      <td>1.44810</td>\n",
              "      <td>205.690000</td>\n",
              "      <td>0.46515</td>\n",
              "      <td>-0.058149</td>\n",
              "      <td>0.004456</td>\n",
              "      <td>-0.258460</td>\n",
              "      <td>-0.058149</td>\n",
              "      <td>124.570</td>\n",
              "      <td>77.3740</td>\n",
              "      <td>-0.57124</td>\n",
              "      <td>0.56987</td>\n",
              "      <td>44.858</td>\n",
              "      <td>-0.097675</td>\n",
              "      <td>-0.068474</td>\n",
              "      <td>0.91225</td>\n",
              "      <td>0.53481</td>\n",
              "      <td>0.35632</td>\n",
              "      <td>0.90779</td>\n",
              "      <td>0.91069</td>\n",
              "      <td>-425.13</td>\n",
              "      <td>-0.052186</td>\n",
              "      <td>-0.227250</td>\n",
              "      <td>1.05220</td>\n",
              "      <td>0.003196</td>\n",
              "      <td>7.7332</td>\n",
              "      <td>4.7174</td>\n",
              "      <td>136.850</td>\n",
              "      <td>2.6672</td>\n",
              "      <td>2.79270</td>\n",
              "      <td>1</td>\n",
              "    </tr>\n",
              "  </tbody>\n",
              "</table>\n",
              "<p>43405 rows × 65 columns</p>\n",
              "</div>"
            ],
            "text/plain": [
              "          Attr1    Attr2     Attr3  ...  Attr63    Attr64  bankrupt\n",
              "0      0.200550  0.37951  0.396410  ...  4.4158   7.42770         0\n",
              "1      0.209120  0.49988  0.472250  ...  3.4000  60.98700         0\n",
              "2      0.248660  0.69592  0.267130  ...  2.7185   5.20780         0\n",
              "3      0.081483  0.30734  0.458790  ...  4.2228   5.54970         0\n",
              "4      0.187320  0.61323  0.229600  ...  2.8692   7.89800         0\n",
              "...         ...      ...       ...  ...     ...       ...       ...\n",
              "43400  0.012898  0.70621  0.038857  ...  7.4313   2.27990         1\n",
              "43401 -0.578050  0.96702 -0.800850  ...  4.4940   5.13050         1\n",
              "43402 -0.179050  1.25530 -0.275990  ...  1.7559   9.95270         1\n",
              "43403 -0.108860  0.74394  0.015449  ...  4.3911   0.95575         1\n",
              "43404 -0.105370  0.53629 -0.045578  ...  2.6672   2.79270         1\n",
              "\n",
              "[43405 rows x 65 columns]"
            ]
          },
          "metadata": {
            "tags": []
          },
          "execution_count": 5
        }
      ]
    },
    {
      "cell_type": "code",
      "metadata": {
        "colab": {
          "base_uri": "https://localhost:8080/"
        },
        "id": "MHurAb31obuz",
        "outputId": "7b5b8668-f98d-4a18-bdea-b58899b6d9cb"
      },
      "source": [
        "bankrupt_data.dtypes"
      ],
      "execution_count": null,
      "outputs": [
        {
          "output_type": "execute_result",
          "data": {
            "text/plain": [
              "Attr1       float64\n",
              "Attr2       float64\n",
              "Attr3       float64\n",
              "Attr4       float64\n",
              "Attr5       float64\n",
              "             ...   \n",
              "Attr61      float64\n",
              "Attr62      float64\n",
              "Attr63      float64\n",
              "Attr64      float64\n",
              "bankrupt      int64\n",
              "Length: 65, dtype: object"
            ]
          },
          "metadata": {
            "tags": []
          },
          "execution_count": 3
        }
      ]
    },
    {
      "cell_type": "markdown",
      "metadata": {
        "id": "Qipv-0rEoc_x"
      },
      "source": [
        "# Exploratory Data Analysis\n",
        "First off, we count how many bankruptcies there are in out dataset. And the result is that out of all 43405 companies, we have 2091 bankruptcies."
      ]
    },
    {
      "cell_type": "code",
      "metadata": {
        "colab": {
          "base_uri": "https://localhost:8080/",
          "height": 142
        },
        "id": "70GSYcolptUR",
        "outputId": "97bdfe8d-d7bb-4c72-c8d4-d5a713521e09"
      },
      "source": [
        "# count the number of bankrupt and non-bankrupt companies\n",
        "bankrupt_data[['Attr1','bankrupt']].groupby(['bankrupt']).count()"
      ],
      "execution_count": null,
      "outputs": [
        {
          "output_type": "execute_result",
          "data": {
            "text/html": [
              "<div>\n",
              "<style scoped>\n",
              "    .dataframe tbody tr th:only-of-type {\n",
              "        vertical-align: middle;\n",
              "    }\n",
              "\n",
              "    .dataframe tbody tr th {\n",
              "        vertical-align: top;\n",
              "    }\n",
              "\n",
              "    .dataframe thead th {\n",
              "        text-align: right;\n",
              "    }\n",
              "</style>\n",
              "<table border=\"1\" class=\"dataframe\">\n",
              "  <thead>\n",
              "    <tr style=\"text-align: right;\">\n",
              "      <th></th>\n",
              "      <th>Attr1</th>\n",
              "    </tr>\n",
              "    <tr>\n",
              "      <th>bankrupt</th>\n",
              "      <th></th>\n",
              "    </tr>\n",
              "  </thead>\n",
              "  <tbody>\n",
              "    <tr>\n",
              "      <th>0</th>\n",
              "      <td>41314</td>\n",
              "    </tr>\n",
              "    <tr>\n",
              "      <th>1</th>\n",
              "      <td>2091</td>\n",
              "    </tr>\n",
              "  </tbody>\n",
              "</table>\n",
              "</div>"
            ],
            "text/plain": [
              "          Attr1\n",
              "bankrupt       \n",
              "0         41314\n",
              "1          2091"
            ]
          },
          "metadata": {
            "tags": []
          },
          "execution_count": 10
        }
      ]
    },
    {
      "cell_type": "markdown",
      "metadata": {
        "id": "dyphm8W4LYgn"
      },
      "source": [
        "The next thing we are interested in is the size of our companies, because our basic knowledge of corporate finance tells us that all these financial metrics mean different things to companies of different sizes. Plus, we wish to see whether bankrupt companies tend to be of some particular size."
      ]
    },
    {
      "cell_type": "markdown",
      "metadata": {
        "id": "PYF_pZuFPxx7"
      },
      "source": [
        "In order to accomplish this, the attribute we look to is Attr29, that is the logarithm of total assets.\n",
        "\n",
        "And the plot below tells us that the absolute majority of that data falls in the region between 2 and 6. The variance is relatively moderate. There are some outliers on the lower side though."
      ]
    },
    {
      "cell_type": "code",
      "metadata": {
        "colab": {
          "base_uri": "https://localhost:8080/",
          "height": 517
        },
        "id": "FPbog8JwN_SY",
        "outputId": "3e64c70c-0dfa-4ce8-eae0-ae69c7b65a90"
      },
      "source": [
        "from matplotlib import pyplot as plt\n",
        "plt.plot(bankrupt_data[['Attr29']])"
      ],
      "execution_count": null,
      "outputs": [
        {
          "output_type": "execute_result",
          "data": {
            "text/plain": [
              "[<matplotlib.lines.Line2D at 0x7f6e546b1a10>]"
            ]
          },
          "metadata": {
            "tags": []
          },
          "execution_count": 53
        },
        {
          "output_type": "display_data",
          "data": {
            "image/png": "[encoded data removed]",
            "text/plain": [
              "<Figure size 842.4x595.44 with 1 Axes>"
            ]
          },
          "metadata": {
            "tags": []
          }
        }
      ]
    },
    {
      "cell_type": "markdown",
      "metadata": {
        "id": "5KbnXykoS6yL"
      },
      "source": [
        "Then we highlight the sizes of the bankrupt companies we have. However, we discover that there is nothing speical that is visible about the sizes of these companies.\n",
        "\n",
        "As a matter of fact, the sizes of bankrupt companies have a smaller variance and basically no outliers.\n",
        "\n",
        "Hence, we obtained no concrete conclusion from observing this attribute alone. We proceed."
      ]
    },
    {
      "cell_type": "code",
      "metadata": {
        "colab": {
          "base_uri": "https://localhost:8080/",
          "height": 500
        },
        "id": "EeteOs5UR9u7",
        "outputId": "ffe6fa5f-1fee-4593-8116-3541f355c543"
      },
      "source": [
        "fig, ax1 = plt.subplots()\n",
        "ax1.plot(bankrupt_data.loc[bankrupt_data['bankrupt'] == 0, 'Attr29'], color='tab:red')\n",
        "ax1.plot(bankrupt_data.loc[bankrupt_data['bankrupt'] == 1, 'Attr29'], color='tab:blue')\n",
        "plt.show()"
      ],
      "execution_count": null,
      "outputs": [
        {
          "output_type": "display_data",
          "data": {
            "image/png": "[encoded data removed]",
            "text/plain": [
              "<Figure size 842.4x595.44 with 1 Axes>"
            ]
          },
          "metadata": {
            "tags": []
          }
        }
      ]
    },
    {
      "cell_type": "code",
      "metadata": {
        "colab": {
          "base_uri": "https://localhost:8080/",
          "height": 296
        },
        "id": "yYe29dYWqE6F",
        "outputId": "a05c3f88-4314-42ed-8f73-fce79a0b37cc"
      },
      "source": [
        "bankrupt_data['Attr1'].groupby(pd.cut(bankrupt_data['Attr1'], np.arange(0, 1, 0.05))).count().plot()"
      ],
      "execution_count": null,
      "outputs": [
        {
          "output_type": "execute_result",
          "data": {
            "text/plain": [
              "<matplotlib.axes._subplots.AxesSubplot at 0x7fbf0e5bbe90>"
            ]
          },
          "metadata": {
            "tags": []
          },
          "execution_count": 36
        },
        {
          "output_type": "display_data",
          "data": {
            "image/png": "[encoded data removed]",
            "text/plain": [
              "<Figure size 432x288 with 1 Axes>"
            ]
          },
          "metadata": {
            "tags": [],
            "needs_background": "light"
          }
        }
      ]
    },
    {
      "cell_type": "markdown",
      "metadata": {
        "id": "fS6_G9wp8Gma"
      },
      "source": [
        "Next, we compute and plot the correlation matrix of the features of our dataset in the form of a heatmap. We can see there exist some really negatively correlated features in our dataset, as shown by the very deep and blue squares. But overall, the correlations are not very high."
      ]
    },
    {
      "cell_type": "code",
      "metadata": {
        "colab": {
          "base_uri": "https://localhost:8080/",
          "height": 752
        },
        "id": "YjyXWi78ueaB",
        "outputId": "62c35588-a7ed-4e84-ee3e-d8f72cf97048"
      },
      "source": [
        "new_data = bankrupt_data\n",
        "corr = new_data.corr()\n",
        "\n",
        "mask = np.triu(np.ones_like(corr, dtype=bool))\n",
        "\n",
        "f, ax = plt.subplots(figsize=(15, 12))\n",
        "\n",
        "cmap = sns.diverging_palette(230, 20, as_cmap=True)\n",
        "\n",
        "sns.heatmap(corr, mask=mask, cmap=cmap, vmax=.3, center=0,\n",
        "            square=True, linewidths=.5, cbar_kws={\"shrink\": .5})"
      ],
      "execution_count": null,
      "outputs": [
        {
          "output_type": "execute_result",
          "data": {
            "text/plain": [
              "<matplotlib.axes._subplots.AxesSubplot at 0x7f089635ee50>"
            ]
          },
          "metadata": {
            "tags": []
          },
          "execution_count": 8
        },
        {
          "output_type": "display_data",
          "data": {
            "image/png": "[encoded data removed]",
            "text/plain": [
              "<Figure size 1080x864 with 2 Axes>"
            ]
          },
          "metadata": {
            "tags": [],
            "needs_background": "light"
          }
        }
      ]
    },
    {
      "cell_type": "code",
      "metadata": {
        "colab": {
          "base_uri": "https://localhost:8080/"
        },
        "id": "SzO72luN3OaG",
        "outputId": "a7506981-bfda-4963-cc1e-cea554147705"
      },
      "source": [
        "# find out the top 10 positively correlated features \n",
        "s = corr.unstack()\n",
        "sorted = s.sort_values(ascending=False)\n",
        "sorted = sorted.loc[sorted != 1]\n",
        "sorted.drop_duplicates().head(10)"
      ],
      "execution_count": null,
      "outputs": [
        {
          "output_type": "execute_result",
          "data": {
            "text/plain": [
              "Attr7   Attr14    1.000000\n",
              "Attr4   Attr46    0.999920\n",
              "Attr17  Attr8     0.999588\n",
              "Attr23  Attr19    0.999290\n",
              "Attr19  Attr31    0.999201\n",
              "Attr43  Attr44    0.999132\n",
              "Attr38  Attr10    0.998974\n",
              "Attr54  Attr53    0.998697\n",
              "Attr31  Attr23    0.998492\n",
              "Attr58  Attr20    0.998139\n",
              "dtype: float64"
            ]
          },
          "metadata": {
            "tags": []
          },
          "execution_count": 10
        }
      ]
    },
    {
      "cell_type": "markdown",
      "metadata": {
        "id": "IDMsZT_40y5b"
      },
      "source": [
        "As we can see, there exists quite a few rather high correlations between our features. But these can mostly be explained by the fact that these features are financial metrics and ratios and many of them describe essentially the same things. For example, Attr7 is EBIT / total assets while Attr14 is (gross profit + interest) / total assets. Given EBIT stands for Earnings Before Interest and Taxes, Attr14 is essentially a function of Attr7. That explains the correlation of 1."
      ]
    },
    {
      "cell_type": "code",
      "metadata": {
        "colab": {
          "base_uri": "https://localhost:8080/"
        },
        "id": "Qp-5Ax0p32Tr",
        "outputId": "c7a811c3-2206-4616-b6db-5170bb096108"
      },
      "source": [
        "# find out the top 10 negatively correlated features\n",
        "s = corr.unstack()\n",
        "sorted = s.sort_values(ascending=True)\n",
        "sorted.drop_duplicates().head(10)"
      ],
      "execution_count": null,
      "outputs": [
        {
          "output_type": "execute_result",
          "data": {
            "text/plain": [
              "Attr56  Attr20   -0.999880\n",
              "        Attr58   -0.998221\n",
              "Attr51  Attr3    -0.998219\n",
              "Attr43  Attr56   -0.992552\n",
              "Attr56  Attr44   -0.986657\n",
              "Attr49  Attr44   -0.975099\n",
              "Attr43  Attr49   -0.973587\n",
              "Attr20  Attr49   -0.959395\n",
              "Attr58  Attr49   -0.956988\n",
              "Attr30  Attr49   -0.948070\n",
              "dtype: float64"
            ]
          },
          "metadata": {
            "tags": []
          },
          "execution_count": 22
        }
      ]
    },
    {
      "cell_type": "markdown",
      "metadata": {
        "id": "P57xurRE41vU"
      },
      "source": [
        "We can see some rather negative correlations in our features as well. The reasoning is actually quite similar. For example, given Attr56 is (sales - cost of products sold) / sales and Attr20 is (inventory * 365) / sales, it is rather intuitive why they would be going basically in the opposite direction.\n",
        "\n",
        "Here, it is worth noting that Attr49 EBITDA (profit on operating activities - depreciation) / sales stands out in particular for being highly negatively correlated with 5 other variables.\n",
        " "
      ]
    },
    {
      "cell_type": "markdown",
      "metadata": {
        "id": "UJrnnqRxIuwk"
      },
      "source": [
        "After conducting these basic exploratory analysis on our data, we did some Internet searches for similar studies on the subject that can potentially give us some inspirations on our next steps. And the concept of Altman Z-Score popped up and became much of our interest in that this concept, or model, directly addresses the exact problem we are looking into."
      ]
    },
    {
      "cell_type": "markdown",
      "metadata": {
        "id": "n90iL7H-08ez"
      },
      "source": [
        "## Altman Z-Score\n",
        "In 1968, Dr. Ed Altman, then a finance professor at NYU, developed a simple formula to determine the risk of companies going bankrupt. He named it the Z-score and it is calculated as follows:\n",
        "\n",
        "\n",
        "\n",
        "> Z-Score = 1.2A + 1.4B + 3.3C + 0.6D + 1.0E\n",
        "\n",
        "Where:\n",
        "\n",
        "*   A = working capital / total assets\n",
        "*   B = retained earnings / total assets\n",
        "*   C = earnings before interest and tax / total assets\n",
        "*   D = market value of equity / total liabilities\n",
        "*   E = sales / total assets\n",
        "\n",
        "According to Altman, if a company's Z-Score is below 1.8, then the probability of it going bankrupt would be quite high. Let's see how his model performs."
      ]
    },
    {
      "cell_type": "markdown",
      "metadata": {
        "id": "n1_bC3UjH_tR"
      },
      "source": [
        "Before conducting any computation, we make a few plots of these five attributes that the model employs to get a sense of the data that we are dealing with here."
      ]
    },
    {
      "cell_type": "code",
      "metadata": {
        "id": "KH0uvYVVIfjo",
        "outputId": "15907cbb-09e8-4d26-b6a0-c5fb813512c4"
      },
      "source": [
        "sns.set(rc={'figure.figsize':(11.7,8.27)})\n",
        "bankrupt_raw_data = d.read_csv('bankrupt_raw.csv').drop(['Unnamed: 0'], axis = 1)\n",
        "plot_data = bankrupt_raw_data[['Attr3','Attr6','Attr7','Attr8','Attr9','bankrupt']]\n",
        "plot_data = plot_data.rename({'Attr3': 'working capital / total assets', \n",
        "                              'Attr6': 'retained earnings / total assets',\n",
        "                              'Attr7': 'earnings before interest and tax / total assets',\n",
        "                              'Attr8': 'market value of equity / total liabilities',\n",
        "                              'Attr9': 'sales / total assets'}, axis=1)\n",
        "\n",
        "fig, axs = plt.subplots(3,2)\n",
        "sns.boxplot(x = \"working capital / total assets\", y = 'bankrupt', data = plot_data,  palette = \"husl\", showfliers = False, ax=axs[0][0])\n",
        "sns.boxplot(x = \"retained earnings / total assets\", y = 'bankrupt', data = plot_data, palette = \"husl\", showfliers = False, ax=axs[0][1])\n",
        "sns.boxplot(x = \"earnings before interest and tax / total assets\", y = 'bankrupt', data = plot_data, palette = \"husl\", showfliers = False, ax=axs[1][0])\n",
        "sns.boxplot(x = \"market value of equity / total liabilities\", y = 'bankrupt', data = plot_data, palette = \"husl\", showfliers = False, ax=axs[1][1])\n",
        "sns.boxplot(x = \"sales / total assets\", y = 'bankrupt', data = plot_data, palette = \"husl\", showfliers = False, ax=axs[2][0])\n",
        "fig.tight_layout()"
      ],
      "execution_count": null,
      "outputs": [
        {
          "output_type": "display_data",
          "data": {
            "image/png": "[encoded data removed]",
            "text/plain": [
              "<Figure size 842.4x595.44 with 6 Axes>"
            ]
          },
          "metadata": {
            "tags": []
          }
        }
      ]
    },
    {
      "cell_type": "code",
      "metadata": {
        "id": "uCmWWkUvIpGp",
        "outputId": "5d5726d4-56ad-47f5-abde-a53426ec87ec"
      },
      "source": [
        "sns.set(rc={'figure.figsize':(11.7,8.27)})\n",
        "fig, axs = plt.subplots(3,2)\n",
        "sns.histplot(data=plot_data, x = \"working capital / total assets\", hue='bankrupt',palette = \"husl\", multiple=\"stack\", binrange = (-2, 2), log_scale=(False, True),ax=axs[0][0])\n",
        "sns.histplot(data=plot_data, x = \"retained earnings / total assets\", hue='bankrupt',palette = \"husl\", multiple=\"stack\", binrange = (-2, 2), log_scale=(False, True),ax=axs[0][1])\n",
        "sns.histplot(data=plot_data, x = \"earnings before interest and tax / total assets\", hue='bankrupt',palette = \"husl\", multiple=\"stack\", binrange = (-2, 2), log_scale=(False, True),ax=axs[1][0])\n",
        "sns.histplot(data=plot_data, x = \"market value of equity / total liabilities\", hue='bankrupt',palette = \"husl\", multiple=\"stack\", binrange = (-2, 40), log_scale=(False, True),ax=axs[1][1])\n",
        "sns.histplot(data=plot_data, x = \"sales / total assets\", hue='bankrupt',palette = \"husl\", multiple=\"stack\", binrange = (-1, 20), log_scale=(False, True),ax=axs[2][0])\n",
        "\n",
        "fig.tight_layout()\n",
        "\n",
        "\n"
      ],
      "execution_count": null,
      "outputs": [
        {
          "output_type": "display_data",
          "data": {
            "image/png": "[encoded data removed]",
            "text/plain": [
              "<Figure size 842.4x595.44 with 6 Axes>"
            ]
          },
          "metadata": {
            "tags": []
          }
        }
      ]
    },
    {
      "cell_type": "markdown",
      "metadata": {
        "id": "G6BeTxHTIfFg"
      },
      "source": [
        "In the graphs above, we plotted the five variables for companies that went into bankruptcy and those that haven't separately. And some patterns are can be recognized.\n",
        "\n",
        "In the histograms, we can see that the distributions of the five metrics of bankrupt companies are mostly of very similar shape as those of the non-bankrupt companies.\n",
        "\n",
        "And the box plots demonstrate that the mean values of all five variables of the non-bankrupt companies are higher than those of the bankrupt companies while the spreads of the metrics vary."
      ]
    },
    {
      "cell_type": "code",
      "metadata": {
        "id": "aVOI1dyTGxVm",
        "outputId": "5992a050-8bc1-432b-ca20-f82b707fc40a"
      },
      "source": [
        "bankrupt_data_z = bankrupt_data\n",
        "bankrupt_data_z[\"Altman\"] = 1.2*bankrupt_data_z[\"Attr3\"] + 1.4*bankrupt_data_z[\"Attr6\"] + 3.3*bankrupt_data_z[\"Attr7\"] + 0.6*bankrupt_data_z[\"Attr8\"] + 1.0*bankrupt_data_z[\"Attr9\"]\n",
        "bankrupt_data_z[\"Pred\"] = (bankrupt_data_z[\"Altman\"] <= 1.8)\n",
        "\n",
        "from sklearn.linear_model import LogisticRegression\n",
        "from sklearn.metrics import accuracy_score\n",
        "\n",
        "accuracy = accuracy_score(bankrupt_data_z[\"bankrupt\"], bankrupt_data_z[\"Pred\"])\n",
        "print(\"Test Accuracy is:\" + str(accuracy))\n",
        "\n",
        "print(sklearn.metrics.classification_report(bankrupt_data_z[\"bankrupt\"],bankrupt_data_z[\"Pred\"]))\n"
      ],
      "execution_count": null,
      "outputs": [
        {
          "output_type": "stream",
          "text": [
            "Test Accuracy is:0.7570556387512959\n",
            "              precision    recall  f1-score   support\n",
            "\n",
            "           0       0.97      0.77      0.86     41314\n",
            "           1       0.10      0.49      0.16      2091\n",
            "\n",
            "    accuracy                           0.76     43405\n",
            "   macro avg       0.53      0.63      0.51     43405\n",
            "weighted avg       0.93      0.76      0.82     43405\n",
            "\n"
          ],
          "name": "stdout"
        }
      ]
    },
    {
      "cell_type": "markdown",
      "metadata": {
        "id": "QGvgL7gJG3eK"
      },
      "source": [
        "His formula works fairly well in the sense that it correctly clasified about 50% of the companies that would go bankrupt in 5 years in our dataset, even though it also mistakenly predicted 23% of the non-bankrupt companies would also go bankrupt. Given its simplicity and intuitiveness, Altman's model could serve as a quick shot at the problem when needded."
      ]
    },
    {
      "cell_type": "markdown",
      "metadata": {
        "id": "kKqjnGz3HpIp"
      },
      "source": [
        "## Our Z-Score\n",
        "With the inspiration from Dr. Altman, we decided to formulate a simple formula ourselves, using what we learned in CIS 545. We first run a logistic regression on the whole data set with L1 regularization to find the most significant contributers of bankrupcy."
      ]
    },
    {
      "cell_type": "code",
      "metadata": {
        "id": "u0JsaI5jQdLG"
      },
      "source": [
        "from sklearn.model_selection import train_test_split\n",
        "\n",
        "label = bankrupt_data['bankrupt']\n",
        "features = bankrupt_data.drop(['bankrupt'], axis = 1)\n",
        "x_train, x_test, y_train, y_test = train_test_split(features, label, test_size=0.2, random_state=42)"
      ],
      "execution_count": null,
      "outputs": []
    },
    {
      "cell_type": "code",
      "metadata": {
        "id": "cTHCSxaJQHou",
        "outputId": "5ef1cd58-18fe-4414-b395-b8b700418edb"
      },
      "source": [
        "bankrupt_data_z = x_train\n",
        "bankrupt_data_z['bankrupt'] = y_train\n",
        "\n",
        "formula = 'bankrupt ~ ' + '+'.join(['Attr1', 'Attr2', 'Attr3', 'Attr4', 'Attr5', 'Attr6', 'Attr7', 'Attr8',\n",
        "       'Attr9', 'Attr10', 'Attr11', 'Attr12', 'Attr13', 'Attr14', 'Attr15',\n",
        "       'Attr16', 'Attr17', 'Attr18', 'Attr19', 'Attr20', 'Attr21', 'Attr22',\n",
        "       'Attr23', 'Attr24', 'Attr25', 'Attr26', 'Attr27', 'Attr28', 'Attr29',\n",
        "       'Attr30', 'Attr31', 'Attr32', 'Attr33', 'Attr34', 'Attr35', 'Attr36',\n",
        "       'Attr37', 'Attr38', 'Attr39', 'Attr40', 'Attr41', 'Attr42', 'Attr43',\n",
        "       'Attr44', 'Attr45', 'Attr46', 'Attr47', 'Attr48', 'Attr49', 'Attr50',\n",
        "       'Attr51', 'Attr52', 'Attr53', 'Attr54', 'Attr55', 'Attr56', 'Attr57',\n",
        "       'Attr58', 'Attr59', 'Attr60', 'Attr61', 'Attr62', 'Attr63', 'Attr64'])\n",
        "\n",
        "simp_mod = smf.logit(formula = formula, data = bankrupt_data_z)\n",
        "simp_mod_res = simp_mod.fit_regularized(maxiter=10000, method = 'l1')\n",
        "print(simp_mod_res.summary())"
      ],
      "execution_count": null,
      "outputs": [
        {
          "output_type": "stream",
          "text": [
            "Optimization terminated successfully    (Exit mode 0)\n",
            "            Current function value: 0.17908589647326964\n",
            "            Iterations: 595\n",
            "            Function evaluations: 823\n",
            "            Gradient evaluations: 595\n",
            "                           Logit Regression Results                           \n",
            "==============================================================================\n",
            "Dep. Variable:               bankrupt   No. Observations:                34724\n",
            "Model:                          Logit   Df Residuals:                    34660\n",
            "Method:                           MLE   Df Model:                           63\n",
            "Date:                Wed, 05 May 2021   Pseudo R-squ.:                 0.06306\n",
            "Time:                        23:36:42   Log-Likelihood:                -6218.6\n",
            "converged:                       True   LL-Null:                       -6637.1\n",
            "Covariance Type:            nonrobust   LLR p-value:                1.118e-135\n",
            "==============================================================================\n",
            "                 coef    std err          z      P>|z|      [0.025      0.975]\n",
            "------------------------------------------------------------------------------\n",
            "Intercept     -0.7763      0.197     -3.950      0.000      -1.161      -0.391\n",
            "Attr1         -0.1208      0.306     -0.395      0.693      -0.720       0.479\n",
            "Attr2          0.0611      0.113      0.541      0.588      -0.160       0.282\n",
            "Attr3         -0.1210      0.104     -1.158      0.247      -0.326       0.084\n",
            "Attr4         -0.0084      0.011     -0.764      0.445      -0.030       0.013\n",
            "Attr5       2.781e-07   1.17e-06      0.238      0.812   -2.01e-06    2.57e-06\n",
            "Attr6         -0.0090      0.013     -0.719      0.472      -0.034       0.016\n",
            "Attr7         -0.0346        nan        nan        nan         nan         nan\n",
            "Attr8          0.0314      0.067      0.468      0.640      -0.100       0.163\n",
            "Attr9         -0.1861      0.024     -7.718      0.000      -0.233      -0.139\n",
            "Attr10         0.1106      0.165      0.668      0.504      -0.214       0.435\n",
            "Attr11         0.0685      0.399      0.172      0.864      -0.713       0.850\n",
            "Attr12         0.0451      0.010      4.615      0.000       0.026       0.064\n",
            "Attr13        -0.0853      2.416     -0.035      0.972      -4.822       4.651\n",
            "Attr14        -0.0347        nan        nan        nan         nan         nan\n",
            "Attr15     -3.052e-08   1.92e-07     -0.159      0.874   -4.07e-07    3.46e-07\n",
            "Attr16        -0.2105      0.021     -9.964      0.000      -0.252      -0.169\n",
            "Attr17        -0.0317      0.067     -0.473      0.636      -0.163       0.100\n",
            "Attr18        -0.2471        nan        nan        nan         nan         nan\n",
            "Attr19         0.0751      2.437      0.031      0.975      -4.701       4.851\n",
            "Attr20        -0.4189      1.474     -0.284      0.776      -3.308       2.471\n",
            "Attr21        -0.0002      0.001     -0.321      0.748      -0.001       0.001\n",
            "Attr22        -3.2874      0.408     -8.054      0.000      -4.087      -2.487\n",
            "Attr23        -0.0858      0.114     -0.752      0.452      -0.310       0.138\n",
            "Attr24         0.0032      0.008      0.408      0.683      -0.012       0.018\n",
            "Attr25         0.0526      0.051      1.033      0.301      -0.047       0.153\n",
            "Attr26         0.1671      0.018      9.235      0.000       0.132       0.203\n",
            "Attr27     -5.359e-07   1.55e-06     -0.346      0.729   -3.57e-06     2.5e-06\n",
            "Attr28        -0.0008      0.000     -2.309      0.021      -0.001      -0.000\n",
            "Attr29        -0.2932      0.037     -8.024      0.000      -0.365      -0.222\n",
            "Attr30         0.0015      0.002      0.922      0.357      -0.002       0.005\n",
            "Attr31         0.0753      0.080      0.943      0.346      -0.081       0.232\n",
            "Attr32      9.023e-05   3.59e-05      2.512      0.012    1.98e-05       0.000\n",
            "Attr33         0.0701      0.013      5.457      0.000       0.045       0.095\n",
            "Attr34        -0.0014      0.003     -0.488      0.625      -0.007       0.004\n",
            "Attr35        -0.9140      0.147     -6.211      0.000      -1.202      -0.626\n",
            "Attr36         0.1144      0.022      5.225      0.000       0.071       0.157\n",
            "Attr37      1.633e-06   2.62e-05      0.062      0.950   -4.98e-05     5.3e-05\n",
            "Attr38        -0.3311      0.137     -2.415      0.016      -0.600      -0.062\n",
            "Attr39        -0.0473      0.061     -0.775      0.438      -0.167       0.072\n",
            "Attr40         0.5819      0.049     11.974      0.000       0.487       0.677\n",
            "Attr41        -0.0026      0.001     -1.919      0.055      -0.005     5.5e-05\n",
            "Attr42         0.2727      2.400      0.114      0.910      -4.430       4.976\n",
            "Attr43         0.4189      1.474      0.284      0.776      -2.471       3.308\n",
            "Attr44        -0.4189      1.474     -0.284      0.776      -3.309       2.471\n",
            "Attr45      1.905e-05   6.31e-05      0.302      0.763      -0.000       0.000\n",
            "Attr46        -0.5740      0.049    -11.764      0.000      -0.670      -0.478\n",
            "Attr47      7.665e-06   3.19e-05      0.241      0.810   -5.48e-05    7.01e-05\n",
            "Attr48         3.7838      0.373     10.146      0.000       3.053       4.515\n",
            "Attr49        -0.2062      2.401     -0.086      0.932      -4.912       4.499\n",
            "Attr51        -0.3383      0.129     -2.617      0.009      -0.592      -0.085\n",
            "Attr52        -0.0344      0.014     -2.530      0.011      -0.061      -0.008\n",
            "Attr53         0.0002      0.001      0.157      0.875      -0.002       0.002\n",
            "Attr54         0.0007      0.001      0.649      0.517      -0.001       0.003\n",
            "Attr55     -1.731e-06   6.62e-07     -2.614      0.009   -3.03e-06   -4.33e-07\n",
            "Attr56        -0.0305      0.031     -0.993      0.321      -0.091       0.030\n",
            "Attr57        -0.0037      0.001     -2.549      0.011      -0.006      -0.001\n",
            "Attr58        -0.0510      0.023     -2.231      0.026      -0.096      -0.006\n",
            "Attr59        -0.0005      0.001     -0.361      0.718      -0.003       0.002\n",
            "Attr60     -4.003e-06   9.16e-06     -0.437      0.662   -2.19e-05    1.39e-05\n",
            "Attr61        -0.0012      0.001     -1.757      0.079      -0.003       0.000\n",
            "Attr62     -1.083e-05   7.25e-06     -1.494      0.135    -2.5e-05    3.38e-06\n",
            "Attr63        -0.0532      0.013     -4.159      0.000      -0.078      -0.028\n",
            "Attr64     -2.932e-05   7.49e-05     -0.392      0.695      -0.000       0.000\n",
            "==============================================================================\n"
          ],
          "name": "stdout"
        },
        {
          "output_type": "stream",
          "text": [
            "/anaconda3/lib/python3.7/site-packages/statsmodels/base/model.py:1354: RuntimeWarning:\n",
            "\n",
            "invalid value encountered in sqrt\n",
            "\n"
          ],
          "name": "stderr"
        }
      ]
    },
    {
      "cell_type": "markdown",
      "metadata": {
        "id": "HmmVDGwXT-Q1"
      },
      "source": [
        "After revewing the model summary, we selecte the 4 most significant contributors with the highest statistical signifiance. They are the 22th, 35th, 48th, and 58th attribute. The corresponding statistics are\n",
        "\n",
        "*   Attr 22: Profit on Operating Activities / Total Assets\n",
        "*   Attr 35: Profit on Sales / Total Assets\n",
        "*   Attr 48: EBITDA (Profit on Operating Activities - Depreciation) / Total assets\n",
        "*   Attr 58: Total Costs / Total sales\n",
        "\n",
        "Notice that Attr 22 and Attr 48 are highly correlated, so we can combine them to form a new formula:\n",
        "\n",
        "> Z = 0.5A + 0.6B - 3.8C - 0.9D\n",
        "\n",
        "Where:\n",
        "*   A: Profit on Operating Activities / Total Assets\n",
        "*   B: Profit on Sales / Total Assets\n",
        "*   C: Depreciation / Total assets\n",
        "*   D: Total Cost / Total sales\n",
        "\n",
        "\n"
      ]
    },
    {
      "cell_type": "code",
      "metadata": {
        "id": "_srnJ4KUGxVn",
        "outputId": "f28e045a-60a8-4d75-b743-5af31562173f"
      },
      "source": [
        "testdf = x_test\n",
        "testdf['Z'] = 3.8*testdf[\"Attr48\"] + 0.6*testdf[\"Attr58\"]-3.3*testdf[\"Attr22\"]-0.9*testdf[\"Attr35\"]\n",
        "testdf[\"Pred\"] = (testdf['Z'] >= 0.48 )\n",
        "\n",
        "from sklearn.linear_model import LogisticRegression\n",
        "from sklearn.metrics import accuracy_score\n",
        "\n",
        "accuracy = accuracy_score(y_test, testdf[\"Pred\"])\n",
        "print(\"Test Accuracy is:\" + str(accuracy))\n",
        "\n",
        "print(sklearn.metrics.classification_report(y_test,testdf[\"Pred\"]))"
      ],
      "execution_count": null,
      "outputs": [
        {
          "output_type": "stream",
          "text": [
            "Test Accuracy is:0.7708789309987328\n",
            "              precision    recall  f1-score   support\n",
            "\n",
            "           0       0.97      0.79      0.87      8240\n",
            "           1       0.11      0.49      0.18       441\n",
            "\n",
            "    accuracy                           0.77      8681\n",
            "   macro avg       0.54      0.64      0.52      8681\n",
            "weighted avg       0.92      0.77      0.83      8681\n",
            "\n"
          ],
          "name": "stdout"
        },
        {
          "output_type": "stream",
          "text": [
            "/anaconda3/lib/python3.7/site-packages/ipykernel_launcher.py:2: SettingWithCopyWarning:\n",
            "\n",
            "\n",
            "A value is trying to be set on a copy of a slice from a DataFrame.\n",
            "Try using .loc[row_indexer,col_indexer] = value instead\n",
            "\n",
            "See the caveats in the documentation: http://pandas.pydata.org/pandas-docs/stable/user_guide/indexing.html#returning-a-view-versus-a-copy\n",
            "\n",
            "/anaconda3/lib/python3.7/site-packages/ipykernel_launcher.py:3: SettingWithCopyWarning:\n",
            "\n",
            "\n",
            "A value is trying to be set on a copy of a slice from a DataFrame.\n",
            "Try using .loc[row_indexer,col_indexer] = value instead\n",
            "\n",
            "See the caveats in the documentation: http://pandas.pydata.org/pandas-docs/stable/user_guide/indexing.html#returning-a-view-versus-a-copy\n",
            "\n"
          ],
          "name": "stderr"
        }
      ]
    },
    {
      "cell_type": "markdown",
      "metadata": {
        "id": "_UudWZJFaOom"
      },
      "source": [
        "Setting the threshold at 0.48, the formula have remarkably similar performance on the test set ast the Altman Z-score, using 1 less variable! However, the positive sign on the ratio between profit on operating activities and total asset is rather counter-intuitive. Thus, we further tuned the formula to eliminate A altogether:\n",
        "\n",
        "> Z = 0.6B - 3.5C - 0.9D\n",
        "\n",
        "Where:\n",
        "*   B: Profit on Sales / Total Assets\n",
        "*   C: Depreciation / Total assets\n",
        "*   D: Total Cost / Total sales\n",
        "\n",
        "Setting the threshold at 0.47, the performance of the 3-variable formula performs on par with both formula mentioned above"
      ]
    },
    {
      "cell_type": "code",
      "metadata": {
        "id": "9wAVMGykZxg2",
        "outputId": "33099b54-2d28-421b-c720-fed8c73486f8"
      },
      "source": [
        "testdf = x_test\n",
        "testdf['Z'] = 3.5*testdf[\"Attr48\"] + 0.6*testdf[\"Attr58\"]-3.5*testdf[\"Attr22\"]-0.9*testdf[\"Attr35\"]\n",
        "testdf[\"Pred\"] = (testdf['Z'] >= 0.37)\n",
        "\n",
        "from sklearn.linear_model import LogisticRegression\n",
        "from sklearn.metrics import accuracy_score\n",
        "\n",
        "accuracy = accuracy_score(y_test, testdf[\"Pred\"])\n",
        "print(\"Test Accuracy is:\" + str(accuracy))\n",
        "\n",
        "print(sklearn.metrics.classification_report(y_test,testdf[\"Pred\"]))"
      ],
      "execution_count": null,
      "outputs": [
        {
          "output_type": "stream",
          "text": [
            "Test Accuracy is:0.5855316207810161\n",
            "              precision    recall  f1-score   support\n",
            "\n",
            "           0       0.97      0.58      0.73      8240\n",
            "           1       0.08      0.69      0.14       441\n",
            "\n",
            "    accuracy                           0.59      8681\n",
            "   macro avg       0.53      0.64      0.44      8681\n",
            "weighted avg       0.93      0.59      0.70      8681\n",
            "\n"
          ],
          "name": "stdout"
        }
      ]
    },
    {
      "cell_type": "markdown",
      "metadata": {
        "id": "5ENKRDLRw06G"
      },
      "source": [
        "# Classification Models with Sklearn\n",
        "\n",
        "Firstly using the sklearn package, we will try a simple logistic classification model, a PCA model, and random forrest model."
      ]
    },
    {
      "cell_type": "markdown",
      "metadata": {
        "id": "H3QsqDGdj2wR"
      },
      "source": [
        "##Logistic Models\n",
        "\n",
        "As a classical model for classification, logistic regression come first in our list of candidates for recognition of companies with bankrupcy risks."
      ]
    },
    {
      "cell_type": "markdown",
      "metadata": {
        "id": "dBpfRDSsjyp_"
      },
      "source": [
        "### Simple Logistic Regression\n",
        "After the standard test-train split, we fit the train data to a simple logistic model. As we can see from the evaluation output, the model performs fairly well in predicting non-bankrupt companies. However, it not only did not converge, but also is particularly bad in both the precision and recall when predicting bankrupt company."
      ]
    },
    {
      "cell_type": "code",
      "metadata": {
        "id": "e0ohJHYZw2J-"
      },
      "source": [
        "from sklearn.model_selection import train_test_split\n",
        "\n",
        "label = bankrupt_data['bankrupt']\n",
        "features = bankrupt_data.drop(['bankrupt'], axis = 1)\n",
        "x_train, x_test, y_train, y_test = train_test_split(features, label, test_size=0.2, random_state=42)"
      ],
      "execution_count": null,
      "outputs": []
    },
    {
      "cell_type": "code",
      "metadata": {
        "id": "6G2fYIokw6vM"
      },
      "source": [
        "from sklearn import linear_model \n",
        "from sklearn.linear_model import LogisticRegression\n",
        "from sklearn.metrics import accuracy_score\n",
        "\n",
        "\n",
        "regr = LogisticRegression(max_iter = 100000)\n",
        "\n",
        "\n",
        "regr.fit(x_train, y_train)\n",
        "\n",
        "y_pred = regr.predict(x_test)\n",
        "\n",
        "accuracy = accuracy_score(y_test, y_pred)\n",
        "\n",
        "print(sklearn.metrics.classification_report(y_test,y_pred))"
      ],
      "execution_count": null,
      "outputs": []
    },
    {
      "cell_type": "markdown",
      "metadata": {
        "id": "8RBnusH3xgzE"
      },
      "source": [
        "### PCA Logistic Regression\n",
        "\n",
        "As the heat map earlier shows, there exist quite a few predictors that is highly correlated to groups of other predictors. Thus, it is natural for us to attempt using PCA to take account of that and improve performace. \n",
        "\n",
        "The explained variance ratio drops below 1% with around 30 predictors, and after some trial and error, we've found the optimal number of predictors in terms of precision is 37. Nonetheless, the cost for the increase in precision is a catastrophic near-zero recall."
      ]
    },
    {
      "cell_type": "code",
      "metadata": {
        "colab": {
          "base_uri": "https://localhost:8080/",
          "height": 690
        },
        "id": "26LDfS4Nxhp8",
        "outputId": "c5c8e5af-3ca4-485d-9a24-86c6003b86f2"
      },
      "source": [
        "from sklearn.preprocessing import StandardScaler\n",
        "from sklearn.pipeline import Pipeline\n",
        "from sklearn.decomposition import PCA\n",
        "\n",
        "scl = StandardScaler()\n",
        "pca = PCA()\n",
        "clf = LogisticRegression(max_iter=100000, penalty='l2')\n",
        "pipe = Pipeline(steps=[('Scale',scl),('PCA',pca),('LogReg',clf)])\n",
        "\n",
        "pipe.fit(x_train,y_train)\n",
        "plt.plot(pca.explained_variance_ratio_)\n",
        "print(pca.explained_variance_ratio_)\n",
        "\n",
        "y_pred = pipe.predict(x_test)\n",
        "\n",
        "print(sklearn.metrics.classification_report(y_test,y_pred))"
      ],
      "execution_count": null,
      "outputs": [
        {
          "output_type": "stream",
          "text": [
            "[1.57619900e-01 1.46818276e-01 7.60360609e-02 7.37459428e-02\n",
            " 5.12686394e-02 4.70569862e-02 4.40703419e-02 4.06479983e-02\n",
            " 3.27862130e-02 2.88798175e-02 2.05710192e-02 1.88337912e-02\n",
            " 1.85093700e-02 1.63294328e-02 1.56757549e-02 1.56374258e-02\n",
            " 1.56260086e-02 1.56117524e-02 1.53468608e-02 1.50130415e-02\n",
            " 1.49080010e-02 1.42969697e-02 1.34239833e-02 1.33312483e-02\n",
            " 1.25814837e-02 1.21927120e-02 1.10134671e-02 1.04870114e-02\n",
            " 7.55926300e-03 6.27939637e-03 5.55643867e-03 3.57019469e-03\n",
            " 1.69086317e-03 1.30797273e-03 1.05337570e-03 9.31114639e-04\n",
            " 8.73394750e-04 7.12577078e-04 6.88668460e-04 4.55710930e-04\n",
            " 2.14922489e-04 1.73785078e-04 1.54964921e-04 8.48476768e-05\n",
            " 7.23192272e-05 6.17992301e-05 4.19621326e-05 4.15054301e-05\n",
            " 3.20127170e-05 2.95708519e-05 2.89783790e-05 2.23516192e-05\n",
            " 1.24480332e-05 9.83123116e-06 8.58835161e-06 3.67764265e-06\n",
            " 2.03680034e-06 1.97141255e-06 1.31152833e-06 1.01210849e-06\n",
            " 8.97204194e-07 7.26080196e-07 6.53465101e-12 1.31777669e-15]\n",
            "              precision    recall  f1-score   support\n",
            "\n",
            "           0       0.95      1.00      0.97      8240\n",
            "           1       0.50      0.01      0.02       441\n",
            "\n",
            "    accuracy                           0.95      8681\n",
            "   macro avg       0.72      0.50      0.50      8681\n",
            "weighted avg       0.93      0.95      0.93      8681\n",
            "\n"
          ],
          "name": "stdout"
        },
        {
          "output_type": "display_data",
          "data": {
            "image/png": "[encoded data removed]",
            "text/plain": [
              "<Figure size 432x288 with 1 Axes>"
            ]
          },
          "metadata": {
            "tags": [],
            "needs_background": "light"
          }
        }
      ]
    },
    {
      "cell_type": "code",
      "metadata": {
        "colab": {
          "base_uri": "https://localhost:8080/"
        },
        "id": "CpK_tJY2xrvs",
        "outputId": "f917d22f-7b4c-4b0f-902d-b6c570011de6"
      },
      "source": [
        "scl = StandardScaler()\n",
        "pca = PCA(n_components = 37)\n",
        "clf = LogisticRegression(max_iter=100000, penalty='l2')\n",
        "pipe = Pipeline(steps=[('Scale',scl),('PCA',pca),('LogReg',clf)])\n",
        "\n",
        "pipe.fit(x_train,y_train)\n",
        "\n",
        "y_pred = pipe.predict(x_test)\n",
        "\n",
        "print(sklearn.metrics.classification_report(y_test,y_pred))"
      ],
      "execution_count": null,
      "outputs": [
        {
          "output_type": "stream",
          "text": [
            "              precision    recall  f1-score   support\n",
            "\n",
            "           0       0.95      1.00      0.97      8240\n",
            "           1       0.67      0.00      0.01       441\n",
            "\n",
            "    accuracy                           0.95      8681\n",
            "   macro avg       0.81      0.50      0.49      8681\n",
            "weighted avg       0.94      0.95      0.92      8681\n",
            "\n"
          ],
          "name": "stdout"
        }
      ]
    },
    {
      "cell_type": "markdown",
      "metadata": {
        "id": "dq8cJtrp1GtD"
      },
      "source": [
        "## Decision Trees \n",
        "\n",
        "Our dataset is split into two categories. Given our problem's classification nature, intuitively modelling using a decision tree is our next step. \n",
        "\n",
        "**First**, we will build a decision tree using all of our features and analyze its performance. We found out that while the precision for bankrupt companies has decreased about 20%, the recall has significantly improved from logistic regression. \n",
        "\n",
        "**Second**, to ensure our first decision tree is not over-fitted, we would use PCA to eliminate the features coincided with same correlation with identifying bankruptcy. \n",
        "\n",
        "**Third**, we will incorporate a grid search to fine tune the hyperparamters of the PCA (n_components) and decision tree (max_depth, criterion).  "
      ]
    },
    {
      "cell_type": "markdown",
      "metadata": {
        "id": "XFKKioZllLcZ"
      },
      "source": [
        "### Simple Decision Tree\n"
      ]
    },
    {
      "cell_type": "code",
      "metadata": {
        "colab": {
          "base_uri": "https://localhost:8080/"
        },
        "id": "lGFaHPn8Lm3a",
        "outputId": "501e3a0d-9f7a-41d8-a144-8ef91cb0e37d"
      },
      "source": [
        "from sklearn import tree \n",
        "\n",
        "#training step, on x_train and with y_train\n",
        "clf = tree.DecisionTreeClassifier()\n",
        "clf = clf.fit(X=x_train, y=y_train)\n",
        "\n",
        "#prediction step, with x_test and we will validate accuracy against y_test\n",
        "prediction = clf.predict(x_test)\n",
        "\n",
        "#test accuracy\n",
        "accuracy = sklearn.metrics.accuracy_score(y_test, prediction)\n",
        "print(\"Accuracy: %.1f%%\"% (accuracy*100))\n",
        "\n",
        "#more comprehensive report \n",
        "print(sklearn.metrics.classification_report(y_test, prediction))"
      ],
      "execution_count": null,
      "outputs": [
        {
          "output_type": "stream",
          "text": [
            "Accuracy: 94.9%\n",
            "              precision    recall  f1-score   support\n",
            "\n",
            "           0       0.97      0.97      0.97      8240\n",
            "           1       0.49      0.49      0.49       441\n",
            "\n",
            "    accuracy                           0.95      8681\n",
            "   macro avg       0.73      0.73      0.73      8681\n",
            "weighted avg       0.95      0.95      0.95      8681\n",
            "\n"
          ],
          "name": "stdout"
        }
      ]
    },
    {
      "cell_type": "code",
      "metadata": {
        "id": "hWOHzlTnVSHV"
      },
      "source": [
        "#visualizing the tree \n",
        "test_representation = tree.export_text(clf)\n",
        "print(test_representation )"
      ],
      "execution_count": null,
      "outputs": []
    },
    {
      "cell_type": "code",
      "metadata": {
        "colab": {
          "base_uri": "https://localhost:8080/"
        },
        "id": "Dkcrrw1kqh3b",
        "outputId": "20fd3f4b-8b6f-4469-e0cf-e4997a02d72a"
      },
      "source": [
        "#visualizing the tree \n",
        "test_representation = tree.export_text(clf)\n",
        "print(test_representation )"
      ],
      "execution_count": null,
      "outputs": [
        {
          "output_type": "stream",
          "text": [
            "|--- feature_26 <= 1098.10\n",
            "|   |--- feature_26 <= -1.41\n",
            "|   |   |--- feature_55 <= 0.08\n",
            "|   |   |   |--- feature_45 <= 0.52\n",
            "|   |   |   |   |--- feature_20 <= 2.39\n",
            "|   |   |   |   |   |--- feature_23 <= 0.50\n",
            "|   |   |   |   |   |   |--- feature_57 <= 1.02\n",
            "|   |   |   |   |   |   |   |--- feature_44 <= -0.58\n",
            "|   |   |   |   |   |   |   |   |--- feature_63 <= 1.59\n",
            "|   |   |   |   |   |   |   |   |   |--- class: 0\n",
            "|   |   |   |   |   |   |   |   |--- feature_63 >  1.59\n",
            "|   |   |   |   |   |   |   |   |   |--- feature_4 <= 232.62\n",
            "|   |   |   |   |   |   |   |   |   |   |--- class: 1\n",
            "|   |   |   |   |   |   |   |   |   |--- feature_4 >  232.62\n",
            "|   |   |   |   |   |   |   |   |   |   |--- class: 0\n",
            "|   |   |   |   |   |   |   |--- feature_44 >  -0.58\n",
            "|   |   |   |   |   |   |   |   |--- feature_40 <= -7.33\n",
            "|   |   |   |   |   |   |   |   |   |--- feature_54 <= -4108.65\n",
            "|   |   |   |   |   |   |   |   |   |   |--- class: 0\n",
            "|   |   |   |   |   |   |   |   |   |--- feature_54 >  -4108.65\n",
            "|   |   |   |   |   |   |   |   |   |   |--- class: 1\n",
            "|   |   |   |   |   |   |   |   |--- feature_40 >  -7.33\n",
            "|   |   |   |   |   |   |   |   |   |--- feature_49 <= 0.95\n",
            "|   |   |   |   |   |   |   |   |   |   |--- class: 0\n",
            "|   |   |   |   |   |   |   |   |   |--- feature_49 >  0.95\n",
            "|   |   |   |   |   |   |   |   |   |   |--- feature_13 <= -0.01\n",
            "|   |   |   |   |   |   |   |   |   |   |   |--- class: 1\n",
            "|   |   |   |   |   |   |   |   |   |   |--- feature_13 >  -0.01\n",
            "|   |   |   |   |   |   |   |   |   |   |   |--- class: 0\n",
            "|   |   |   |   |   |   |--- feature_57 >  1.02\n",
            "|   |   |   |   |   |   |   |--- feature_44 <= -1.83\n",
            "|   |   |   |   |   |   |   |   |--- feature_49 <= 0.67\n",
            "|   |   |   |   |   |   |   |   |   |--- feature_45 <= 0.14\n",
            "|   |   |   |   |   |   |   |   |   |   |--- feature_49 <= 0.16\n",
            "|   |   |   |   |   |   |   |   |   |   |   |--- truncated branch of depth 4\n",
            "|   |   |   |   |   |   |   |   |   |   |--- feature_49 >  0.16\n",
            "|   |   |   |   |   |   |   |   |   |   |   |--- truncated branch of depth 3\n",
            "|   |   |   |   |   |   |   |   |   |--- feature_45 >  0.14\n",
            "|   |   |   |   |   |   |   |   |   |   |--- feature_62 <= 7.48\n",
            "|   |   |   |   |   |   |   |   |   |   |   |--- truncated branch of depth 9\n",
            "|   |   |   |   |   |   |   |   |   |   |--- feature_62 >  7.48\n",
            "|   |   |   |   |   |   |   |   |   |   |   |--- truncated branch of depth 2\n",
            "|   |   |   |   |   |   |   |   |--- feature_49 >  0.67\n",
            "|   |   |   |   |   |   |   |   |   |--- feature_23 <= -0.68\n",
            "|   |   |   |   |   |   |   |   |   |   |--- feature_52 <= -5.63\n",
            "|   |   |   |   |   |   |   |   |   |   |   |--- class: 1\n",
            "|   |   |   |   |   |   |   |   |   |   |--- feature_52 >  -5.63\n",
            "|   |   |   |   |   |   |   |   |   |   |   |--- class: 0\n",
            "|   |   |   |   |   |   |   |   |   |--- feature_23 >  -0.68\n",
            "|   |   |   |   |   |   |   |   |   |   |--- class: 1\n",
            "|   |   |   |   |   |   |   |--- feature_44 >  -1.83\n",
            "|   |   |   |   |   |   |   |   |--- feature_50 <= 0.12\n",
            "|   |   |   |   |   |   |   |   |   |--- feature_30 <= -0.09\n",
            "|   |   |   |   |   |   |   |   |   |   |--- class: 1\n",
            "|   |   |   |   |   |   |   |   |   |--- feature_30 >  -0.09\n",
            "|   |   |   |   |   |   |   |   |   |   |--- class: 0\n",
            "|   |   |   |   |   |   |   |   |--- feature_50 >  0.12\n",
            "|   |   |   |   |   |   |   |   |   |--- feature_45 <= 0.00\n",
            "|   |   |   |   |   |   |   |   |   |   |--- feature_36 <= 52.55\n",
            "|   |   |   |   |   |   |   |   |   |   |   |--- class: 0\n",
            "|   |   |   |   |   |   |   |   |   |   |--- feature_36 >  52.55\n",
            "|   |   |   |   |   |   |   |   |   |   |   |--- class: 1\n",
            "|   |   |   |   |   |   |   |   |   |--- feature_45 >  0.00\n",
            "|   |   |   |   |   |   |   |   |   |   |--- feature_45 <= 0.44\n",
            "|   |   |   |   |   |   |   |   |   |   |   |--- truncated branch of depth 15\n",
            "|   |   |   |   |   |   |   |   |   |   |--- feature_45 >  0.44\n",
            "|   |   |   |   |   |   |   |   |   |   |   |--- truncated branch of depth 6\n",
            "|   |   |   |   |   |--- feature_23 >  0.50\n",
            "|   |   |   |   |   |   |--- feature_28 <= 3.88\n",
            "|   |   |   |   |   |   |   |--- feature_42 <= 119.78\n",
            "|   |   |   |   |   |   |   |   |--- class: 0\n",
            "|   |   |   |   |   |   |   |--- feature_42 >  119.78\n",
            "|   |   |   |   |   |   |   |   |--- feature_55 <= -1.92\n",
            "|   |   |   |   |   |   |   |   |   |--- class: 0\n",
            "|   |   |   |   |   |   |   |   |--- feature_55 >  -1.92\n",
            "|   |   |   |   |   |   |   |   |   |--- class: 1\n",
            "|   |   |   |   |   |   |--- feature_28 >  3.88\n",
            "|   |   |   |   |   |   |   |--- class: 1\n",
            "|   |   |   |   |--- feature_20 >  2.39\n",
            "|   |   |   |   |   |--- feature_19 <= 19.81\n",
            "|   |   |   |   |   |   |--- feature_3 <= 0.65\n",
            "|   |   |   |   |   |   |   |--- feature_37 <= -0.10\n",
            "|   |   |   |   |   |   |   |   |--- feature_37 <= -1.05\n",
            "|   |   |   |   |   |   |   |   |   |--- feature_43 <= 14.42\n",
            "|   |   |   |   |   |   |   |   |   |   |--- feature_23 <= -3.20\n",
            "|   |   |   |   |   |   |   |   |   |   |   |--- truncated branch of depth 2\n",
            "|   |   |   |   |   |   |   |   |   |   |--- feature_23 >  -3.20\n",
            "|   |   |   |   |   |   |   |   |   |   |   |--- class: 1\n",
            "|   |   |   |   |   |   |   |   |   |--- feature_43 >  14.42\n",
            "|   |   |   |   |   |   |   |   |   |   |--- class: 0\n",
            "|   |   |   |   |   |   |   |   |--- feature_37 >  -1.05\n",
            "|   |   |   |   |   |   |   |   |   |--- feature_39 <= 0.07\n",
            "|   |   |   |   |   |   |   |   |   |   |--- class: 1\n",
            "|   |   |   |   |   |   |   |   |   |--- feature_39 >  0.07\n",
            "|   |   |   |   |   |   |   |   |   |   |--- feature_63 <= 6.77\n",
            "|   |   |   |   |   |   |   |   |   |   |   |--- class: 0\n",
            "|   |   |   |   |   |   |   |   |   |   |--- feature_63 >  6.77\n",
            "|   |   |   |   |   |   |   |   |   |   |   |--- class: 1\n",
            "|   |   |   |   |   |   |   |--- feature_37 >  -0.10\n",
            "|   |   |   |   |   |   |   |   |--- feature_49 <= 0.27\n",
            "|   |   |   |   |   |   |   |   |   |--- class: 0\n",
            "|   |   |   |   |   |   |   |   |--- feature_49 >  0.27\n",
            "|   |   |   |   |   |   |   |   |   |--- feature_32 <= 3.99\n",
            "|   |   |   |   |   |   |   |   |   |   |--- feature_49 <= 0.48\n",
            "|   |   |   |   |   |   |   |   |   |   |   |--- class: 1\n",
            "|   |   |   |   |   |   |   |   |   |   |--- feature_49 >  0.48\n",
            "|   |   |   |   |   |   |   |   |   |   |   |--- class: 0\n",
            "|   |   |   |   |   |   |   |   |   |--- feature_32 >  3.99\n",
            "|   |   |   |   |   |   |   |   |   |   |--- class: 0\n",
            "|   |   |   |   |   |   |--- feature_3 >  0.65\n",
            "|   |   |   |   |   |   |   |--- class: 1\n",
            "|   |   |   |   |   |--- feature_19 >  19.81\n",
            "|   |   |   |   |   |   |--- feature_39 <= 0.00\n",
            "|   |   |   |   |   |   |   |--- feature_53 <= 0.33\n",
            "|   |   |   |   |   |   |   |   |--- feature_63 <= 7.21\n",
            "|   |   |   |   |   |   |   |   |   |--- class: 1\n",
            "|   |   |   |   |   |   |   |   |--- feature_63 >  7.21\n",
            "|   |   |   |   |   |   |   |   |   |--- class: 0\n",
            "|   |   |   |   |   |   |   |--- feature_53 >  0.33\n",
            "|   |   |   |   |   |   |   |   |--- feature_8 <= 1.37\n",
            "|   |   |   |   |   |   |   |   |   |--- class: 0\n",
            "|   |   |   |   |   |   |   |   |--- feature_8 >  1.37\n",
            "|   |   |   |   |   |   |   |   |   |--- class: 1\n",
            "|   |   |   |   |   |   |--- feature_39 >  0.00\n",
            "|   |   |   |   |   |   |   |--- feature_57 <= 0.99\n",
            "|   |   |   |   |   |   |   |   |--- feature_26 <= -12.66\n",
            "|   |   |   |   |   |   |   |   |   |--- class: 0\n",
            "|   |   |   |   |   |   |   |   |--- feature_26 >  -12.66\n",
            "|   |   |   |   |   |   |   |   |   |--- class: 1\n",
            "|   |   |   |   |   |   |   |--- feature_57 >  0.99\n",
            "|   |   |   |   |   |   |   |   |--- feature_42 <= 37.44\n",
            "|   |   |   |   |   |   |   |   |   |--- feature_45 <= 0.07\n",
            "|   |   |   |   |   |   |   |   |   |   |--- class: 0\n",
            "|   |   |   |   |   |   |   |   |   |--- feature_45 >  0.07\n",
            "|   |   |   |   |   |   |   |   |   |   |--- class: 1\n",
            "|   |   |   |   |   |   |   |   |--- feature_42 >  37.44\n",
            "|   |   |   |   |   |   |   |   |   |--- feature_28 <= 3.16\n",
            "|   |   |   |   |   |   |   |   |   |   |--- feature_45 <= 0.51\n",
            "|   |   |   |   |   |   |   |   |   |   |   |--- truncated branch of depth 3\n",
            "|   |   |   |   |   |   |   |   |   |   |--- feature_45 >  0.51\n",
            "|   |   |   |   |   |   |   |   |   |   |   |--- truncated branch of depth 2\n",
            "|   |   |   |   |   |   |   |   |   |--- feature_28 >  3.16\n",
            "|   |   |   |   |   |   |   |   |   |   |--- feature_33 <= 0.37\n",
            "|   |   |   |   |   |   |   |   |   |   |   |--- class: 0\n",
            "|   |   |   |   |   |   |   |   |   |   |--- feature_33 >  0.37\n",
            "|   |   |   |   |   |   |   |   |   |   |   |--- truncated branch of depth 7\n",
            "|   |   |   |--- feature_45 >  0.52\n",
            "|   |   |   |   |--- feature_16 <= 0.45\n",
            "|   |   |   |   |   |--- feature_30 <= -0.91\n",
            "|   |   |   |   |   |   |--- class: 1\n",
            "|   |   |   |   |   |--- feature_30 >  -0.91\n",
            "|   |   |   |   |   |   |--- feature_29 <= 1.31\n",
            "|   |   |   |   |   |   |   |--- class: 1\n",
            "|   |   |   |   |   |   |--- feature_29 >  1.31\n",
            "|   |   |   |   |   |   |   |--- class: 0\n",
            "|   |   |   |   |--- feature_16 >  0.45\n",
            "|   |   |   |   |   |--- feature_26 <= -1.41\n",
            "|   |   |   |   |   |   |--- feature_20 <= 2.48\n",
            "|   |   |   |   |   |   |   |--- feature_56 <= -31.57\n",
            "|   |   |   |   |   |   |   |   |--- feature_3 <= 0.68\n",
            "|   |   |   |   |   |   |   |   |   |--- class: 0\n",
            "|   |   |   |   |   |   |   |   |--- feature_3 >  0.68\n",
            "|   |   |   |   |   |   |   |   |   |--- class: 1\n",
            "|   |   |   |   |   |   |   |--- feature_56 >  -31.57\n",
            "|   |   |   |   |   |   |   |   |--- feature_60 <= 22.02\n",
            "|   |   |   |   |   |   |   |   |   |--- feature_46 <= 458.91\n",
            "|   |   |   |   |   |   |   |   |   |   |--- feature_43 <= 42.63\n",
            "|   |   |   |   |   |   |   |   |   |   |   |--- truncated branch of depth 13\n",
            "|   |   |   |   |   |   |   |   |   |   |--- feature_43 >  42.63\n",
            "|   |   |   |   |   |   |   |   |   |   |   |--- truncated branch of depth 11\n",
            "|   |   |   |   |   |   |   |   |   |--- feature_46 >  458.91\n",
            "|   |   |   |   |   |   |   |   |   |   |--- feature_56 <= -0.20\n",
            "|   |   |   |   |   |   |   |   |   |   |   |--- class: 1\n",
            "|   |   |   |   |   |   |   |   |   |   |--- feature_56 >  -0.20\n",
            "|   |   |   |   |   |   |   |   |   |   |   |--- class: 0\n",
            "|   |   |   |   |   |   |   |   |--- feature_60 >  22.02\n",
            "|   |   |   |   |   |   |   |   |   |--- feature_39 <= 0.27\n",
            "|   |   |   |   |   |   |   |   |   |   |--- feature_46 <= 18.35\n",
            "|   |   |   |   |   |   |   |   |   |   |   |--- class: 0\n",
            "|   |   |   |   |   |   |   |   |   |   |--- feature_46 >  18.35\n",
            "|   |   |   |   |   |   |   |   |   |   |   |--- truncated branch of depth 2\n",
            "|   |   |   |   |   |   |   |   |   |--- feature_39 >  0.27\n",
            "|   |   |   |   |   |   |   |   |   |   |--- feature_33 <= 73.78\n",
            "|   |   |   |   |   |   |   |   |   |   |   |--- truncated branch of depth 6\n",
            "|   |   |   |   |   |   |   |   |   |   |--- feature_33 >  73.78\n",
            "|   |   |   |   |   |   |   |   |   |   |   |--- class: 1\n",
            "|   |   |   |   |   |   |--- feature_20 >  2.48\n",
            "|   |   |   |   |   |   |   |--- feature_35 <= 0.54\n",
            "|   |   |   |   |   |   |   |   |--- feature_10 <= 0.08\n",
            "|   |   |   |   |   |   |   |   |   |--- feature_23 <= -0.46\n",
            "|   |   |   |   |   |   |   |   |   |   |--- feature_17 <= -0.47\n",
            "|   |   |   |   |   |   |   |   |   |   |   |--- class: 0\n",
            "|   |   |   |   |   |   |   |   |   |   |--- feature_17 >  -0.47\n",
            "|   |   |   |   |   |   |   |   |   |   |   |--- class: 1\n",
            "|   |   |   |   |   |   |   |   |   |--- feature_23 >  -0.46\n",
            "|   |   |   |   |   |   |   |   |   |   |--- class: 0\n",
            "|   |   |   |   |   |   |   |   |--- feature_10 >  0.08\n",
            "|   |   |   |   |   |   |   |   |   |--- feature_16 <= 20.31\n",
            "|   |   |   |   |   |   |   |   |   |   |--- class: 0\n",
            "|   |   |   |   |   |   |   |   |   |--- feature_16 >  20.31\n",
            "|   |   |   |   |   |   |   |   |   |   |--- class: 1\n",
            "|   |   |   |   |   |   |   |--- feature_35 >  0.54\n",
            "|   |   |   |   |   |   |   |   |--- feature_28 <= 3.47\n",
            "|   |   |   |   |   |   |   |   |   |--- feature_8 <= 0.68\n",
            "|   |   |   |   |   |   |   |   |   |   |--- feature_59 <= 3.25\n",
            "|   |   |   |   |   |   |   |   |   |   |   |--- class: 1\n",
            "|   |   |   |   |   |   |   |   |   |   |--- feature_59 >  3.25\n",
            "|   |   |   |   |   |   |   |   |   |   |   |--- truncated branch of depth 2\n",
            "|   |   |   |   |   |   |   |   |   |--- feature_8 >  0.68\n",
            "|   |   |   |   |   |   |   |   |   |   |--- feature_16 <= 0.52\n",
            "|   |   |   |   |   |   |   |   |   |   |   |--- class: 1\n",
            "|   |   |   |   |   |   |   |   |   |   |--- feature_16 >  0.52\n",
            "|   |   |   |   |   |   |   |   |   |   |   |--- truncated branch of depth 9\n",
            "|   |   |   |   |   |   |   |   |--- feature_28 >  3.47\n",
            "|   |   |   |   |   |   |   |   |   |--- feature_60 <= 4.30\n",
            "|   |   |   |   |   |   |   |   |   |   |--- feature_2 <= 0.39\n",
            "|   |   |   |   |   |   |   |   |   |   |   |--- class: 0\n",
            "|   |   |   |   |   |   |   |   |   |   |--- feature_2 >  0.39\n",
            "|   |   |   |   |   |   |   |   |   |   |   |--- truncated branch of depth 2\n",
            "|   |   |   |   |   |   |   |   |   |--- feature_60 >  4.30\n",
            "|   |   |   |   |   |   |   |   |   |   |--- feature_37 <= 0.75\n",
            "|   |   |   |   |   |   |   |   |   |   |   |--- truncated branch of depth 4\n",
            "|   |   |   |   |   |   |   |   |   |   |--- feature_37 >  0.75\n",
            "|   |   |   |   |   |   |   |   |   |   |   |--- truncated branch of depth 2\n",
            "|   |   |   |   |   |--- feature_26 >  -1.41\n",
            "|   |   |   |   |   |   |--- class: 1\n",
            "|   |   |--- feature_55 >  0.08\n",
            "|   |   |   |--- feature_34 <= -0.02\n",
            "|   |   |   |   |--- feature_4 <= 218.44\n",
            "|   |   |   |   |   |--- feature_4 <= -1158.05\n",
            "|   |   |   |   |   |   |--- class: 0\n",
            "|   |   |   |   |   |--- feature_4 >  -1158.05\n",
            "|   |   |   |   |   |   |--- feature_33 <= -0.03\n",
            "|   |   |   |   |   |   |   |--- class: 0\n",
            "|   |   |   |   |   |   |--- feature_33 >  -0.03\n",
            "|   |   |   |   |   |   |   |--- feature_24 <= 0.54\n",
            "|   |   |   |   |   |   |   |   |--- class: 1\n",
            "|   |   |   |   |   |   |   |--- feature_24 >  0.54\n",
            "|   |   |   |   |   |   |   |   |--- feature_53 <= 0.88\n",
            "|   |   |   |   |   |   |   |   |   |--- class: 1\n",
            "|   |   |   |   |   |   |   |   |--- feature_53 >  0.88\n",
            "|   |   |   |   |   |   |   |   |   |--- feature_10 <= -0.18\n",
            "|   |   |   |   |   |   |   |   |   |   |--- class: 1\n",
            "|   |   |   |   |   |   |   |   |   |--- feature_10 >  -0.18\n",
            "|   |   |   |   |   |   |   |   |   |   |--- class: 0\n",
            "|   |   |   |   |--- feature_4 >  218.44\n",
            "|   |   |   |   |   |--- feature_30 <= -0.57\n",
            "|   |   |   |   |   |   |--- class: 1\n",
            "|   |   |   |   |   |--- feature_30 >  -0.57\n",
            "|   |   |   |   |   |   |--- class: 0\n",
            "|   |   |   |--- feature_34 >  -0.02\n",
            "|   |   |   |   |--- feature_31 <= 21609.65\n",
            "|   |   |   |   |   |--- class: 0\n",
            "|   |   |   |   |--- feature_31 >  21609.65\n",
            "|   |   |   |   |   |--- feature_11 <= -0.45\n",
            "|   |   |   |   |   |   |--- class: 1\n",
            "|   |   |   |   |   |--- feature_11 >  -0.45\n",
            "|   |   |   |   |   |   |--- class: 0\n",
            "|   |--- feature_26 >  -1.41\n",
            "|   |   |--- feature_45 <= 0.24\n",
            "|   |   |   |--- feature_43 <= 70.69\n",
            "|   |   |   |   |--- feature_59 <= 24.88\n",
            "|   |   |   |   |   |--- feature_45 <= 0.24\n",
            "|   |   |   |   |   |   |--- feature_37 <= -0.46\n",
            "|   |   |   |   |   |   |   |--- feature_7 <= -0.33\n",
            "|   |   |   |   |   |   |   |   |--- feature_63 <= 3.05\n",
            "|   |   |   |   |   |   |   |   |   |--- feature_54 <= -11830.10\n",
            "|   |   |   |   |   |   |   |   |   |   |--- feature_33 <= 0.06\n",
            "|   |   |   |   |   |   |   |   |   |   |   |--- class: 0\n",
            "|   |   |   |   |   |   |   |   |   |   |--- feature_33 >  0.06\n",
            "|   |   |   |   |   |   |   |   |   |   |   |--- class: 1\n",
            "|   |   |   |   |   |   |   |   |   |--- feature_54 >  -11830.10\n",
            "|   |   |   |   |   |   |   |   |   |   |--- feature_33 <= 1.02\n",
            "|   |   |   |   |   |   |   |   |   |   |   |--- class: 0\n",
            "|   |   |   |   |   |   |   |   |   |   |--- feature_33 >  1.02\n",
            "|   |   |   |   |   |   |   |   |   |   |   |--- class: 1\n",
            "|   |   |   |   |   |   |   |   |--- feature_63 >  3.05\n",
            "|   |   |   |   |   |   |   |   |   |--- feature_33 <= 2.39\n",
            "|   |   |   |   |   |   |   |   |   |   |--- class: 0\n",
            "|   |   |   |   |   |   |   |   |   |--- feature_33 >  2.39\n",
            "|   |   |   |   |   |   |   |   |   |   |--- class: 1\n",
            "|   |   |   |   |   |   |   |--- feature_7 >  -0.33\n",
            "|   |   |   |   |   |   |   |   |--- class: 1\n",
            "|   |   |   |   |   |   |--- feature_37 >  -0.46\n",
            "|   |   |   |   |   |   |   |--- feature_3 <= 0.05\n",
            "|   |   |   |   |   |   |   |   |--- feature_35 <= 0.13\n",
            "|   |   |   |   |   |   |   |   |   |--- class: 0\n",
            "|   |   |   |   |   |   |   |   |--- feature_35 >  0.13\n",
            "|   |   |   |   |   |   |   |   |   |--- class: 1\n",
            "|   |   |   |   |   |   |   |--- feature_3 >  0.05\n",
            "|   |   |   |   |   |   |   |   |--- feature_43 <= 55.67\n",
            "|   |   |   |   |   |   |   |   |   |--- feature_23 <= 0.89\n",
            "|   |   |   |   |   |   |   |   |   |   |--- feature_56 <= -30.94\n",
            "|   |   |   |   |   |   |   |   |   |   |   |--- truncated branch of depth 2\n",
            "|   |   |   |   |   |   |   |   |   |   |--- feature_56 >  -30.94\n",
            "|   |   |   |   |   |   |   |   |   |   |   |--- truncated branch of depth 8\n",
            "|   |   |   |   |   |   |   |   |   |--- feature_23 >  0.89\n",
            "|   |   |   |   |   |   |   |   |   |   |--- feature_56 <= 0.11\n",
            "|   |   |   |   |   |   |   |   |   |   |   |--- class: 1\n",
            "|   |   |   |   |   |   |   |   |   |   |--- feature_56 >  0.11\n",
            "|   |   |   |   |   |   |   |   |   |   |   |--- class: 0\n",
            "|   |   |   |   |   |   |   |   |--- feature_43 >  55.67\n",
            "|   |   |   |   |   |   |   |   |   |--- feature_33 <= 0.86\n",
            "|   |   |   |   |   |   |   |   |   |   |--- class: 0\n",
            "|   |   |   |   |   |   |   |   |   |--- feature_33 >  0.86\n",
            "|   |   |   |   |   |   |   |   |   |   |--- feature_27 <= 0.29\n",
            "|   |   |   |   |   |   |   |   |   |   |   |--- truncated branch of depth 3\n",
            "|   |   |   |   |   |   |   |   |   |   |--- feature_27 >  0.29\n",
            "|   |   |   |   |   |   |   |   |   |   |   |--- class: 0\n",
            "|   |   |   |   |   |--- feature_45 >  0.24\n",
            "|   |   |   |   |   |   |--- class: 1\n",
            "|   |   |   |   |--- feature_59 >  24.88\n",
            "|   |   |   |   |   |--- feature_3 <= 0.54\n",
            "|   |   |   |   |   |   |--- feature_40 <= -0.65\n",
            "|   |   |   |   |   |   |   |--- feature_56 <= 0.01\n",
            "|   |   |   |   |   |   |   |   |--- class: 1\n",
            "|   |   |   |   |   |   |   |--- feature_56 >  0.01\n",
            "|   |   |   |   |   |   |   |   |--- class: 0\n",
            "|   |   |   |   |   |   |--- feature_40 >  -0.65\n",
            "|   |   |   |   |   |   |   |--- feature_45 <= 0.11\n",
            "|   |   |   |   |   |   |   |   |--- feature_3 <= 0.12\n",
            "|   |   |   |   |   |   |   |   |   |--- feature_18 <= -0.46\n",
            "|   |   |   |   |   |   |   |   |   |   |--- feature_29 <= 3.28\n",
            "|   |   |   |   |   |   |   |   |   |   |   |--- class: 0\n",
            "|   |   |   |   |   |   |   |   |   |   |--- feature_29 >  3.28\n",
            "|   |   |   |   |   |   |   |   |   |   |   |--- class: 1\n",
            "|   |   |   |   |   |   |   |   |   |--- feature_18 >  -0.46\n",
            "|   |   |   |   |   |   |   |   |   |   |--- feature_31 <= 9487.60\n",
            "|   |   |   |   |   |   |   |   |   |   |   |--- class: 0\n",
            "|   |   |   |   |   |   |   |   |   |   |--- feature_31 >  9487.60\n",
            "|   |   |   |   |   |   |   |   |   |   |   |--- truncated branch of depth 2\n",
            "|   |   |   |   |   |   |   |   |--- feature_3 >  0.12\n",
            "|   |   |   |   |   |   |   |   |   |--- feature_57 <= 1.00\n",
            "|   |   |   |   |   |   |   |   |   |   |--- class: 1\n",
            "|   |   |   |   |   |   |   |   |   |--- feature_57 >  1.00\n",
            "|   |   |   |   |   |   |   |   |   |   |--- feature_28 <= 4.27\n",
            "|   |   |   |   |   |   |   |   |   |   |   |--- class: 0\n",
            "|   |   |   |   |   |   |   |   |   |   |--- feature_28 >  4.27\n",
            "|   |   |   |   |   |   |   |   |   |   |   |--- class: 1\n",
            "|   |   |   |   |   |   |   |--- feature_45 >  0.11\n",
            "|   |   |   |   |   |   |   |   |--- feature_51 <= 0.06\n",
            "|   |   |   |   |   |   |   |   |   |--- feature_30 <= 0.03\n",
            "|   |   |   |   |   |   |   |   |   |   |--- class: 1\n",
            "|   |   |   |   |   |   |   |   |   |--- feature_30 >  0.03\n",
            "|   |   |   |   |   |   |   |   |   |   |--- class: 0\n",
            "|   |   |   |   |   |   |   |   |--- feature_51 >  0.06\n",
            "|   |   |   |   |   |   |   |   |   |--- feature_49 <= 0.33\n",
            "|   |   |   |   |   |   |   |   |   |   |--- class: 0\n",
            "|   |   |   |   |   |   |   |   |   |--- feature_49 >  0.33\n",
            "|   |   |   |   |   |   |   |   |   |   |--- feature_31 <= 101.00\n",
            "|   |   |   |   |   |   |   |   |   |   |   |--- class: 0\n",
            "|   |   |   |   |   |   |   |   |   |   |--- feature_31 >  101.00\n",
            "|   |   |   |   |   |   |   |   |   |   |   |--- class: 1\n",
            "|   |   |   |   |   |--- feature_3 >  0.54\n",
            "|   |   |   |   |   |   |--- feature_43 <= 6.96\n",
            "|   |   |   |   |   |   |   |--- class: 0\n",
            "|   |   |   |   |   |   |--- feature_43 >  6.96\n",
            "|   |   |   |   |   |   |   |--- class: 1\n",
            "|   |   |   |--- feature_43 >  70.69\n",
            "|   |   |   |   |--- feature_62 <= 1.17\n",
            "|   |   |   |   |   |--- feature_45 <= 0.11\n",
            "|   |   |   |   |   |   |--- feature_24 <= -5.06\n",
            "|   |   |   |   |   |   |   |--- class: 0\n",
            "|   |   |   |   |   |   |--- feature_24 >  -5.06\n",
            "|   |   |   |   |   |   |   |--- feature_35 <= 0.27\n",
            "|   |   |   |   |   |   |   |   |--- feature_29 <= 622.04\n",
            "|   |   |   |   |   |   |   |   |   |--- class: 0\n",
            "|   |   |   |   |   |   |   |   |--- feature_29 >  622.04\n",
            "|   |   |   |   |   |   |   |   |   |--- class: 1\n",
            "|   |   |   |   |   |   |   |--- feature_35 >  0.27\n",
            "|   |   |   |   |   |   |   |   |--- class: 1\n",
            "|   |   |   |   |   |--- feature_45 >  0.11\n",
            "|   |   |   |   |   |   |--- feature_40 <= -21.06\n",
            "|   |   |   |   |   |   |   |--- class: 1\n",
            "|   |   |   |   |   |   |--- feature_40 >  -21.06\n",
            "|   |   |   |   |   |   |   |--- feature_58 <= -59.99\n",
            "|   |   |   |   |   |   |   |   |--- class: 1\n",
            "|   |   |   |   |   |   |   |--- feature_58 >  -59.99\n",
            "|   |   |   |   |   |   |   |   |--- feature_14 <= -16294.00\n",
            "|   |   |   |   |   |   |   |   |   |--- feature_38 <= -0.12\n",
            "|   |   |   |   |   |   |   |   |   |   |--- class: 0\n",
            "|   |   |   |   |   |   |   |   |   |--- feature_38 >  -0.12\n",
            "|   |   |   |   |   |   |   |   |   |   |--- class: 1\n",
            "|   |   |   |   |   |   |   |   |--- feature_14 >  -16294.00\n",
            "|   |   |   |   |   |   |   |   |   |--- class: 0\n",
            "|   |   |   |   |--- feature_62 >  1.17\n",
            "|   |   |   |   |   |--- class: 1\n",
            "|   |   |--- feature_45 >  0.24\n",
            "|   |   |   |--- feature_20 <= 3.86\n",
            "|   |   |   |   |--- feature_25 <= 0.06\n",
            "|   |   |   |   |   |--- feature_33 <= 0.32\n",
            "|   |   |   |   |   |   |--- feature_40 <= 72.20\n",
            "|   |   |   |   |   |   |   |--- feature_2 <= 0.98\n",
            "|   |   |   |   |   |   |   |   |--- feature_46 <= 4386.30\n",
            "|   |   |   |   |   |   |   |   |   |--- class: 0\n",
            "|   |   |   |   |   |   |   |   |--- feature_46 >  4386.30\n",
            "|   |   |   |   |   |   |   |   |   |--- feature_15 <= 0.02\n",
            "|   |   |   |   |   |   |   |   |   |   |--- class: 0\n",
            "|   |   |   |   |   |   |   |   |   |--- feature_15 >  0.02\n",
            "|   |   |   |   |   |   |   |   |   |   |--- class: 1\n",
            "|   |   |   |   |   |   |   |--- feature_2 >  0.98\n",
            "|   |   |   |   |   |   |   |   |--- class: 1\n",
            "|   |   |   |   |   |   |--- feature_40 >  72.20\n",
            "|   |   |   |   |   |   |   |--- class: 1\n",
            "|   |   |   |   |   |--- feature_33 >  0.32\n",
            "|   |   |   |   |   |   |--- feature_23 <= 0.71\n",
            "|   |   |   |   |   |   |   |--- feature_38 <= -0.03\n",
            "|   |   |   |   |   |   |   |   |--- feature_57 <= 0.98\n",
            "|   |   |   |   |   |   |   |   |   |--- feature_41 <= 0.09\n",
            "|   |   |   |   |   |   |   |   |   |   |--- feature_4 <= 17425.46\n",
            "|   |   |   |   |   |   |   |   |   |   |   |--- class: 1\n",
            "|   |   |   |   |   |   |   |   |   |   |--- feature_4 >  17425.46\n",
            "|   |   |   |   |   |   |   |   |   |   |   |--- class: 0\n",
            "|   |   |   |   |   |   |   |   |   |--- feature_41 >  0.09\n",
            "|   |   |   |   |   |   |   |   |   |   |--- class: 0\n",
            "|   |   |   |   |   |   |   |   |--- feature_57 >  0.98\n",
            "|   |   |   |   |   |   |   |   |   |--- feature_55 <= -0.03\n",
            "|   |   |   |   |   |   |   |   |   |   |--- feature_57 <= 1.03\n",
            "|   |   |   |   |   |   |   |   |   |   |   |--- truncated branch of depth 6\n",
            "|   |   |   |   |   |   |   |   |   |   |--- feature_57 >  1.03\n",
            "|   |   |   |   |   |   |   |   |   |   |   |--- truncated branch of depth 5\n",
            "|   |   |   |   |   |   |   |   |   |--- feature_55 >  -0.03\n",
            "|   |   |   |   |   |   |   |   |   |   |--- feature_21 <= -0.05\n",
            "|   |   |   |   |   |   |   |   |   |   |   |--- class: 1\n",
            "|   |   |   |   |   |   |   |   |   |   |--- feature_21 >  -0.05\n",
            "|   |   |   |   |   |   |   |   |   |   |   |--- class: 0\n",
            "|   |   |   |   |   |   |   |--- feature_38 >  -0.03\n",
            "|   |   |   |   |   |   |   |   |--- feature_57 <= 0.99\n",
            "|   |   |   |   |   |   |   |   |   |--- feature_21 <= 0.01\n",
            "|   |   |   |   |   |   |   |   |   |   |--- feature_38 <= -0.01\n",
            "|   |   |   |   |   |   |   |   |   |   |   |--- class: 1\n",
            "|   |   |   |   |   |   |   |   |   |   |--- feature_38 >  -0.01\n",
            "|   |   |   |   |   |   |   |   |   |   |   |--- truncated branch of depth 5\n",
            "|   |   |   |   |   |   |   |   |   |--- feature_21 >  0.01\n",
            "|   |   |   |   |   |   |   |   |   |   |--- feature_18 <= 0.01\n",
            "|   |   |   |   |   |   |   |   |   |   |   |--- truncated branch of depth 8\n",
            "|   |   |   |   |   |   |   |   |   |   |--- feature_18 >  0.01\n",
            "|   |   |   |   |   |   |   |   |   |   |   |--- truncated branch of depth 13\n",
            "|   |   |   |   |   |   |   |   |--- feature_57 >  0.99\n",
            "|   |   |   |   |   |   |   |   |   |--- feature_40 <= -123.06\n",
            "|   |   |   |   |   |   |   |   |   |   |--- class: 1\n",
            "|   |   |   |   |   |   |   |   |   |--- feature_40 >  -123.06\n",
            "|   |   |   |   |   |   |   |   |   |   |--- feature_41 <= 0.00\n",
            "|   |   |   |   |   |   |   |   |   |   |   |--- truncated branch of depth 11\n",
            "|   |   |   |   |   |   |   |   |   |   |--- feature_41 >  0.00\n",
            "|   |   |   |   |   |   |   |   |   |   |   |--- truncated branch of depth 5\n",
            "|   |   |   |   |   |   |--- feature_23 >  0.71\n",
            "|   |   |   |   |   |   |   |--- feature_29 <= 0.39\n",
            "|   |   |   |   |   |   |   |   |--- feature_58 <= 0.07\n",
            "|   |   |   |   |   |   |   |   |   |--- class: 0\n",
            "|   |   |   |   |   |   |   |   |--- feature_58 >  0.07\n",
            "|   |   |   |   |   |   |   |   |   |--- feature_21 <= 0.06\n",
            "|   |   |   |   |   |   |   |   |   |   |--- class: 0\n",
            "|   |   |   |   |   |   |   |   |   |--- feature_21 >  0.06\n",
            "|   |   |   |   |   |   |   |   |   |   |--- class: 1\n",
            "|   |   |   |   |   |   |   |--- feature_29 >  0.39\n",
            "|   |   |   |   |   |   |   |   |--- feature_14 <= -5002.55\n",
            "|   |   |   |   |   |   |   |   |   |--- class: 0\n",
            "|   |   |   |   |   |   |   |   |--- feature_14 >  -5002.55\n",
            "|   |   |   |   |   |   |   |   |   |--- class: 1\n",
            "|   |   |   |   |--- feature_25 >  0.06\n",
            "|   |   |   |   |   |--- feature_33 <= 1.08\n",
            "|   |   |   |   |   |   |--- feature_14 <= -24971.50\n",
            "|   |   |   |   |   |   |   |--- feature_54 <= -65377.60\n",
            "|   |   |   |   |   |   |   |   |--- class: 1\n",
            "|   |   |   |   |   |   |   |--- feature_54 >  -65377.60\n",
            "|   |   |   |   |   |   |   |   |--- class: 0\n",
            "|   |   |   |   |   |   |--- feature_14 >  -24971.50\n",
            "|   |   |   |   |   |   |   |--- feature_26 <= 27.04\n",
            "|   |   |   |   |   |   |   |   |--- feature_39 <= 0.00\n",
            "|   |   |   |   |   |   |   |   |   |--- feature_37 <= 0.27\n",
            "|   |   |   |   |   |   |   |   |   |   |--- class: 1\n",
            "|   |   |   |   |   |   |   |   |   |--- feature_37 >  0.27\n",
            "|   |   |   |   |   |   |   |   |   |   |--- class: 0\n",
            "|   |   |   |   |   |   |   |   |--- feature_39 >  0.00\n",
            "|   |   |   |   |   |   |   |   |   |--- feature_8 <= 0.46\n",
            "|   |   |   |   |   |   |   |   |   |   |--- feature_8 <= 0.46\n",
            "|   |   |   |   |   |   |   |   |   |   |   |--- class: 0\n",
            "|   |   |   |   |   |   |   |   |   |   |--- feature_8 >  0.46\n",
            "|   |   |   |   |   |   |   |   |   |   |   |--- class: 1\n",
            "|   |   |   |   |   |   |   |   |   |--- feature_8 >  0.46\n",
            "|   |   |   |   |   |   |   |   |   |   |--- class: 0\n",
            "|   |   |   |   |   |   |   |--- feature_26 >  27.04\n",
            "|   |   |   |   |   |   |   |   |--- feature_30 <= 0.12\n",
            "|   |   |   |   |   |   |   |   |   |--- feature_48 <= 0.07\n",
            "|   |   |   |   |   |   |   |   |   |   |--- class: 0\n",
            "|   |   |   |   |   |   |   |   |   |--- feature_48 >  0.07\n",
            "|   |   |   |   |   |   |   |   |   |   |--- class: 1\n",
            "|   |   |   |   |   |   |   |   |--- feature_30 >  0.12\n",
            "|   |   |   |   |   |   |   |   |   |--- class: 0\n",
            "|   |   |   |   |   |--- feature_33 >  1.08\n",
            "|   |   |   |   |   |   |--- feature_62 <= 528.48\n",
            "|   |   |   |   |   |   |   |--- feature_45 <= 0.53\n",
            "|   |   |   |   |   |   |   |   |--- feature_4 <= -16.13\n",
            "|   |   |   |   |   |   |   |   |   |--- feature_29 <= 0.90\n",
            "|   |   |   |   |   |   |   |   |   |   |--- feature_54 <= -2663.70\n",
            "|   |   |   |   |   |   |   |   |   |   |   |--- truncated branch of depth 7\n",
            "|   |   |   |   |   |   |   |   |   |   |--- feature_54 >  -2663.70\n",
            "|   |   |   |   |   |   |   |   |   |   |   |--- truncated branch of depth 12\n",
            "|   |   |   |   |   |   |   |   |   |--- feature_29 >  0.90\n",
            "|   |   |   |   |   |   |   |   |   |   |--- feature_45 <= 0.33\n",
            "|   |   |   |   |   |   |   |   |   |   |   |--- class: 0\n",
            "|   |   |   |   |   |   |   |   |   |   |--- feature_45 >  0.33\n",
            "|   |   |   |   |   |   |   |   |   |   |   |--- class: 1\n",
            "|   |   |   |   |   |   |   |   |--- feature_4 >  -16.13\n",
            "|   |   |   |   |   |   |   |   |   |--- feature_4 <= 251.74\n",
            "|   |   |   |   |   |   |   |   |   |   |--- feature_43 <= 9.28\n",
            "|   |   |   |   |   |   |   |   |   |   |   |--- truncated branch of depth 2\n",
            "|   |   |   |   |   |   |   |   |   |   |--- feature_43 >  9.28\n",
            "|   |   |   |   |   |   |   |   |   |   |   |--- truncated branch of depth 3\n",
            "|   |   |   |   |   |   |   |   |   |--- feature_4 >  251.74\n",
            "|   |   |   |   |   |   |   |   |   |   |--- class: 0\n",
            "|   |   |   |   |   |   |   |--- feature_45 >  0.53\n",
            "|   |   |   |   |   |   |   |   |--- feature_61 <= 185.43\n",
            "|   |   |   |   |   |   |   |   |   |--- feature_0 <= 4.80\n",
            "|   |   |   |   |   |   |   |   |   |   |--- feature_5 <= -7.06\n",
            "|   |   |   |   |   |   |   |   |   |   |   |--- class: 1\n",
            "|   |   |   |   |   |   |   |   |   |   |--- feature_5 >  -7.06\n",
            "|   |   |   |   |   |   |   |   |   |   |   |--- truncated branch of depth 23\n",
            "|   |   |   |   |   |   |   |   |   |--- feature_0 >  4.80\n",
            "|   |   |   |   |   |   |   |   |   |   |--- class: 1\n",
            "|   |   |   |   |   |   |   |   |--- feature_61 >  185.43\n",
            "|   |   |   |   |   |   |   |   |   |--- feature_23 <= 0.92\n",
            "|   |   |   |   |   |   |   |   |   |   |--- feature_51 <= 0.27\n",
            "|   |   |   |   |   |   |   |   |   |   |   |--- truncated branch of depth 2\n",
            "|   |   |   |   |   |   |   |   |   |   |--- feature_51 >  0.27\n",
            "|   |   |   |   |   |   |   |   |   |   |   |--- truncated branch of depth 8\n",
            "|   |   |   |   |   |   |   |   |   |--- feature_23 >  0.92\n",
            "|   |   |   |   |   |   |   |   |   |   |--- feature_29 <= 0.84\n",
            "|   |   |   |   |   |   |   |   |   |   |   |--- class: 1\n",
            "|   |   |   |   |   |   |   |   |   |   |--- feature_29 >  0.84\n",
            "|   |   |   |   |   |   |   |   |   |   |   |--- class: 0\n",
            "|   |   |   |   |   |   |--- feature_62 >  528.48\n",
            "|   |   |   |   |   |   |   |--- feature_11 <= 1730.69\n",
            "|   |   |   |   |   |   |   |   |--- class: 1\n",
            "|   |   |   |   |   |   |   |--- feature_11 >  1730.69\n",
            "|   |   |   |   |   |   |   |   |--- class: 0\n",
            "|   |   |   |--- feature_20 >  3.86\n",
            "|   |   |   |   |--- feature_25 <= 0.14\n",
            "|   |   |   |   |   |--- feature_33 <= 0.76\n",
            "|   |   |   |   |   |   |--- feature_44 <= -23.83\n",
            "|   |   |   |   |   |   |   |--- feature_11 <= -2.15\n",
            "|   |   |   |   |   |   |   |   |--- class: 1\n",
            "|   |   |   |   |   |   |   |--- feature_11 >  -2.15\n",
            "|   |   |   |   |   |   |   |   |--- class: 0\n",
            "|   |   |   |   |   |   |--- feature_44 >  -23.83\n",
            "|   |   |   |   |   |   |   |--- feature_14 <= 34688.50\n",
            "|   |   |   |   |   |   |   |   |--- class: 0\n",
            "|   |   |   |   |   |   |   |--- feature_14 >  34688.50\n",
            "|   |   |   |   |   |   |   |   |--- feature_26 <= 1.75\n",
            "|   |   |   |   |   |   |   |   |   |--- class: 0\n",
            "|   |   |   |   |   |   |   |   |--- feature_26 >  1.75\n",
            "|   |   |   |   |   |   |   |   |   |--- class: 1\n",
            "|   |   |   |   |   |--- feature_33 >  0.76\n",
            "|   |   |   |   |   |   |--- feature_40 <= -4.22\n",
            "|   |   |   |   |   |   |   |--- feature_11 <= -0.11\n",
            "|   |   |   |   |   |   |   |   |--- class: 0\n",
            "|   |   |   |   |   |   |   |--- feature_11 >  -0.11\n",
            "|   |   |   |   |   |   |   |   |--- class: 1\n",
            "|   |   |   |   |   |   |--- feature_40 >  -4.22\n",
            "|   |   |   |   |   |   |   |--- feature_28 <= 3.98\n",
            "|   |   |   |   |   |   |   |   |--- feature_34 <= -0.40\n",
            "|   |   |   |   |   |   |   |   |   |--- feature_51 <= 1.00\n",
            "|   |   |   |   |   |   |   |   |   |   |--- class: 1\n",
            "|   |   |   |   |   |   |   |   |   |--- feature_51 >  1.00\n",
            "|   |   |   |   |   |   |   |   |   |   |--- class: 0\n",
            "|   |   |   |   |   |   |   |   |--- feature_34 >  -0.40\n",
            "|   |   |   |   |   |   |   |   |   |--- feature_43 <= 17.94\n",
            "|   |   |   |   |   |   |   |   |   |   |--- feature_28 <= 3.65\n",
            "|   |   |   |   |   |   |   |   |   |   |   |--- truncated branch of depth 8\n",
            "|   |   |   |   |   |   |   |   |   |   |--- feature_28 >  3.65\n",
            "|   |   |   |   |   |   |   |   |   |   |   |--- truncated branch of depth 3\n",
            "|   |   |   |   |   |   |   |   |   |--- feature_43 >  17.94\n",
            "|   |   |   |   |   |   |   |   |   |   |--- feature_60 <= 0.90\n",
            "|   |   |   |   |   |   |   |   |   |   |   |--- class: 1\n",
            "|   |   |   |   |   |   |   |   |   |   |--- feature_60 >  0.90\n",
            "|   |   |   |   |   |   |   |   |   |   |   |--- truncated branch of depth 14\n",
            "|   |   |   |   |   |   |   |--- feature_28 >  3.98\n",
            "|   |   |   |   |   |   |   |   |--- feature_14 <= 13574.00\n",
            "|   |   |   |   |   |   |   |   |   |--- feature_39 <= 0.01\n",
            "|   |   |   |   |   |   |   |   |   |   |--- feature_13 <= 0.02\n",
            "|   |   |   |   |   |   |   |   |   |   |   |--- class: 1\n",
            "|   |   |   |   |   |   |   |   |   |   |--- feature_13 >  0.02\n",
            "|   |   |   |   |   |   |   |   |   |   |   |--- class: 0\n",
            "|   |   |   |   |   |   |   |   |   |--- feature_39 >  0.01\n",
            "|   |   |   |   |   |   |   |   |   |   |--- feature_25 <= 0.14\n",
            "|   |   |   |   |   |   |   |   |   |   |   |--- truncated branch of depth 7\n",
            "|   |   |   |   |   |   |   |   |   |   |--- feature_25 >  0.14\n",
            "|   |   |   |   |   |   |   |   |   |   |   |--- class: 1\n",
            "|   |   |   |   |   |   |   |   |--- feature_14 >  13574.00\n",
            "|   |   |   |   |   |   |   |   |   |--- feature_22 <= 0.00\n",
            "|   |   |   |   |   |   |   |   |   |   |--- class: 0\n",
            "|   |   |   |   |   |   |   |   |   |--- feature_22 >  0.00\n",
            "|   |   |   |   |   |   |   |   |   |   |--- feature_26 <= 0.08\n",
            "|   |   |   |   |   |   |   |   |   |   |   |--- class: 0\n",
            "|   |   |   |   |   |   |   |   |   |   |--- feature_26 >  0.08\n",
            "|   |   |   |   |   |   |   |   |   |   |   |--- truncated branch of depth 2\n",
            "|   |   |   |   |--- feature_25 >  0.14\n",
            "|   |   |   |   |   |--- feature_34 <= -0.53\n",
            "|   |   |   |   |   |   |--- feature_60 <= 9.65\n",
            "|   |   |   |   |   |   |   |--- class: 0\n",
            "|   |   |   |   |   |   |--- feature_60 >  9.65\n",
            "|   |   |   |   |   |   |   |--- class: 1\n",
            "|   |   |   |   |   |--- feature_34 >  -0.53\n",
            "|   |   |   |   |   |   |--- feature_33 <= 60.39\n",
            "|   |   |   |   |   |   |   |--- feature_45 <= 0.81\n",
            "|   |   |   |   |   |   |   |   |--- feature_4 <= -10.41\n",
            "|   |   |   |   |   |   |   |   |   |--- feature_50 <= 0.89\n",
            "|   |   |   |   |   |   |   |   |   |   |--- feature_23 <= -0.08\n",
            "|   |   |   |   |   |   |   |   |   |   |   |--- class: 1\n",
            "|   |   |   |   |   |   |   |   |   |   |--- feature_23 >  -0.08\n",
            "|   |   |   |   |   |   |   |   |   |   |   |--- truncated branch of depth 7\n",
            "|   |   |   |   |   |   |   |   |   |--- feature_50 >  0.89\n",
            "|   |   |   |   |   |   |   |   |   |   |--- feature_56 <= 0.64\n",
            "|   |   |   |   |   |   |   |   |   |   |   |--- truncated branch of depth 2\n",
            "|   |   |   |   |   |   |   |   |   |   |--- feature_56 >  0.64\n",
            "|   |   |   |   |   |   |   |   |   |   |   |--- class: 1\n",
            "|   |   |   |   |   |   |   |   |--- feature_4 >  -10.41\n",
            "|   |   |   |   |   |   |   |   |   |--- feature_47 <= 0.01\n",
            "|   |   |   |   |   |   |   |   |   |   |--- feature_4 <= 12.62\n",
            "|   |   |   |   |   |   |   |   |   |   |   |--- truncated branch of depth 2\n",
            "|   |   |   |   |   |   |   |   |   |   |--- feature_4 >  12.62\n",
            "|   |   |   |   |   |   |   |   |   |   |   |--- class: 0\n",
            "|   |   |   |   |   |   |   |   |   |--- feature_47 >  0.01\n",
            "|   |   |   |   |   |   |   |   |   |   |--- feature_2 <= -0.00\n",
            "|   |   |   |   |   |   |   |   |   |   |   |--- class: 0\n",
            "|   |   |   |   |   |   |   |   |   |   |--- feature_2 >  -0.00\n",
            "|   |   |   |   |   |   |   |   |   |   |   |--- truncated branch of depth 2\n",
            "|   |   |   |   |   |   |   |--- feature_45 >  0.81\n",
            "|   |   |   |   |   |   |   |   |--- feature_4 <= -27.14\n",
            "|   |   |   |   |   |   |   |   |   |--- feature_19 <= 80.59\n",
            "|   |   |   |   |   |   |   |   |   |   |--- feature_4 <= -28.88\n",
            "|   |   |   |   |   |   |   |   |   |   |   |--- truncated branch of depth 4\n",
            "|   |   |   |   |   |   |   |   |   |   |--- feature_4 >  -28.88\n",
            "|   |   |   |   |   |   |   |   |   |   |   |--- class: 1\n",
            "|   |   |   |   |   |   |   |   |   |--- feature_19 >  80.59\n",
            "|   |   |   |   |   |   |   |   |   |   |--- feature_39 <= 0.27\n",
            "|   |   |   |   |   |   |   |   |   |   |   |--- truncated branch of depth 2\n",
            "|   |   |   |   |   |   |   |   |   |   |--- feature_39 >  0.27\n",
            "|   |   |   |   |   |   |   |   |   |   |   |--- class: 0\n",
            "|   |   |   |   |   |   |   |   |--- feature_4 >  -27.14\n",
            "|   |   |   |   |   |   |   |   |   |--- feature_28 <= 1.45\n",
            "|   |   |   |   |   |   |   |   |   |   |--- feature_42 <= 101.22\n",
            "|   |   |   |   |   |   |   |   |   |   |   |--- class: 1\n",
            "|   |   |   |   |   |   |   |   |   |   |--- feature_42 >  101.22\n",
            "|   |   |   |   |   |   |   |   |   |   |   |--- class: 0\n",
            "|   |   |   |   |   |   |   |   |   |--- feature_28 >  1.45\n",
            "|   |   |   |   |   |   |   |   |   |   |--- feature_34 <= -0.40\n",
            "|   |   |   |   |   |   |   |   |   |   |   |--- truncated branch of depth 2\n",
            "|   |   |   |   |   |   |   |   |   |   |--- feature_34 >  -0.40\n",
            "|   |   |   |   |   |   |   |   |   |   |   |--- truncated branch of depth 15\n",
            "|   |   |   |   |   |   |--- feature_33 >  60.39\n",
            "|   |   |   |   |   |   |   |--- feature_29 <= -0.37\n",
            "|   |   |   |   |   |   |   |   |--- feature_59 <= 226.28\n",
            "|   |   |   |   |   |   |   |   |   |--- class: 0\n",
            "|   |   |   |   |   |   |   |   |--- feature_59 >  226.28\n",
            "|   |   |   |   |   |   |   |   |   |--- class: 1\n",
            "|   |   |   |   |   |   |   |--- feature_29 >  -0.37\n",
            "|   |   |   |   |   |   |   |   |--- feature_47 <= -0.07\n",
            "|   |   |   |   |   |   |   |   |   |--- class: 1\n",
            "|   |   |   |   |   |   |   |   |--- feature_47 >  -0.07\n",
            "|   |   |   |   |   |   |   |   |   |--- feature_17 <= 0.00\n",
            "|   |   |   |   |   |   |   |   |   |   |--- class: 1\n",
            "|   |   |   |   |   |   |   |   |   |--- feature_17 >  0.00\n",
            "|   |   |   |   |   |   |   |   |   |   |--- class: 0\n",
            "|--- feature_26 >  1098.10\n",
            "|   |--- feature_33 <= 0.58\n",
            "|   |   |--- feature_57 <= 0.82\n",
            "|   |   |   |--- feature_55 <= 0.33\n",
            "|   |   |   |   |--- feature_28 <= 4.08\n",
            "|   |   |   |   |   |--- feature_35 <= 33.10\n",
            "|   |   |   |   |   |   |--- class: 0\n",
            "|   |   |   |   |   |--- feature_35 >  33.10\n",
            "|   |   |   |   |   |   |--- class: 1\n",
            "|   |   |   |   |--- feature_28 >  4.08\n",
            "|   |   |   |   |   |--- feature_58 <= 5.28\n",
            "|   |   |   |   |   |   |--- class: 1\n",
            "|   |   |   |   |   |--- feature_58 >  5.28\n",
            "|   |   |   |   |   |   |--- class: 0\n",
            "|   |   |   |--- feature_55 >  0.33\n",
            "|   |   |   |   |--- class: 0\n",
            "|   |   |--- feature_57 >  0.82\n",
            "|   |   |   |--- feature_8 <= 0.40\n",
            "|   |   |   |   |--- feature_33 <= -0.05\n",
            "|   |   |   |   |   |--- class: 1\n",
            "|   |   |   |   |--- feature_33 >  -0.05\n",
            "|   |   |   |   |   |--- feature_29 <= 0.51\n",
            "|   |   |   |   |   |   |--- class: 1\n",
            "|   |   |   |   |   |--- feature_29 >  0.51\n",
            "|   |   |   |   |   |   |--- feature_22 <= -45.08\n",
            "|   |   |   |   |   |   |   |--- class: 1\n",
            "|   |   |   |   |   |   |--- feature_22 >  -45.08\n",
            "|   |   |   |   |   |   |   |--- feature_7 <= -0.79\n",
            "|   |   |   |   |   |   |   |   |--- class: 1\n",
            "|   |   |   |   |   |   |   |--- feature_7 >  -0.79\n",
            "|   |   |   |   |   |   |   |   |--- feature_46 <= 18862.70\n",
            "|   |   |   |   |   |   |   |   |   |--- feature_3 <= 0.21\n",
            "|   |   |   |   |   |   |   |   |   |   |--- feature_37 <= 0.29\n",
            "|   |   |   |   |   |   |   |   |   |   |   |--- class: 0\n",
            "|   |   |   |   |   |   |   |   |   |   |--- feature_37 >  0.29\n",
            "|   |   |   |   |   |   |   |   |   |   |   |--- class: 1\n",
            "|   |   |   |   |   |   |   |   |   |--- feature_3 >  0.21\n",
            "|   |   |   |   |   |   |   |   |   |   |--- class: 0\n",
            "|   |   |   |   |   |   |   |   |--- feature_46 >  18862.70\n",
            "|   |   |   |   |   |   |   |   |   |--- class: 1\n",
            "|   |   |   |--- feature_8 >  0.40\n",
            "|   |   |   |   |--- feature_28 <= 2.70\n",
            "|   |   |   |   |   |--- feature_38 <= -0.27\n",
            "|   |   |   |   |   |   |--- class: 1\n",
            "|   |   |   |   |   |--- feature_38 >  -0.27\n",
            "|   |   |   |   |   |   |--- class: 0\n",
            "|   |   |   |   |--- feature_28 >  2.70\n",
            "|   |   |   |   |   |--- feature_12 <= 0.64\n",
            "|   |   |   |   |   |   |--- feature_8 <= 0.68\n",
            "|   |   |   |   |   |   |   |--- feature_48 <= -0.39\n",
            "|   |   |   |   |   |   |   |   |--- class: 1\n",
            "|   |   |   |   |   |   |   |--- feature_48 >  -0.39\n",
            "|   |   |   |   |   |   |   |   |--- class: 0\n",
            "|   |   |   |   |   |   |--- feature_8 >  0.68\n",
            "|   |   |   |   |   |   |   |--- class: 1\n",
            "|   |   |   |   |   |--- feature_12 >  0.64\n",
            "|   |   |   |   |   |   |--- class: 0\n",
            "|   |--- feature_33 >  0.58\n",
            "|   |   |--- feature_5 <= 0.04\n",
            "|   |   |   |--- feature_40 <= -0.01\n",
            "|   |   |   |   |--- feature_45 <= 0.29\n",
            "|   |   |   |   |   |--- feature_50 <= 0.89\n",
            "|   |   |   |   |   |   |--- class: 1\n",
            "|   |   |   |   |   |--- feature_50 >  0.89\n",
            "|   |   |   |   |   |   |--- feature_56 <= 1.44\n",
            "|   |   |   |   |   |   |   |--- class: 0\n",
            "|   |   |   |   |   |   |--- feature_56 >  1.44\n",
            "|   |   |   |   |   |   |   |--- class: 1\n",
            "|   |   |   |   |--- feature_45 >  0.29\n",
            "|   |   |   |   |   |--- feature_12 <= -0.26\n",
            "|   |   |   |   |   |   |--- feature_0 <= -0.32\n",
            "|   |   |   |   |   |   |   |--- class: 0\n",
            "|   |   |   |   |   |   |--- feature_0 >  -0.32\n",
            "|   |   |   |   |   |   |   |--- feature_51 <= 0.29\n",
            "|   |   |   |   |   |   |   |   |--- feature_40 <= -0.01\n",
            "|   |   |   |   |   |   |   |   |   |--- class: 1\n",
            "|   |   |   |   |   |   |   |   |--- feature_40 >  -0.01\n",
            "|   |   |   |   |   |   |   |   |   |--- feature_20 <= 0.31\n",
            "|   |   |   |   |   |   |   |   |   |   |--- class: 0\n",
            "|   |   |   |   |   |   |   |   |   |--- feature_20 >  0.31\n",
            "|   |   |   |   |   |   |   |   |   |   |--- class: 1\n",
            "|   |   |   |   |   |   |   |--- feature_51 >  0.29\n",
            "|   |   |   |   |   |   |   |   |--- class: 0\n",
            "|   |   |   |   |   |--- feature_12 >  -0.26\n",
            "|   |   |   |   |   |   |--- feature_24 <= 0.92\n",
            "|   |   |   |   |   |   |   |--- feature_35 <= 2.44\n",
            "|   |   |   |   |   |   |   |   |--- feature_17 <= -0.35\n",
            "|   |   |   |   |   |   |   |   |   |--- feature_4 <= 5.49\n",
            "|   |   |   |   |   |   |   |   |   |   |--- class: 1\n",
            "|   |   |   |   |   |   |   |   |   |--- feature_4 >  5.49\n",
            "|   |   |   |   |   |   |   |   |   |   |--- class: 0\n",
            "|   |   |   |   |   |   |   |   |--- feature_17 >  -0.35\n",
            "|   |   |   |   |   |   |   |   |   |--- feature_20 <= 0.34\n",
            "|   |   |   |   |   |   |   |   |   |   |--- feature_5 <= -0.41\n",
            "|   |   |   |   |   |   |   |   |   |   |   |--- class: 1\n",
            "|   |   |   |   |   |   |   |   |   |   |--- feature_5 >  -0.41\n",
            "|   |   |   |   |   |   |   |   |   |   |   |--- class: 0\n",
            "|   |   |   |   |   |   |   |   |   |--- feature_20 >  0.34\n",
            "|   |   |   |   |   |   |   |   |   |   |--- class: 0\n",
            "|   |   |   |   |   |   |   |--- feature_35 >  2.44\n",
            "|   |   |   |   |   |   |   |   |--- feature_8 <= 2.45\n",
            "|   |   |   |   |   |   |   |   |   |--- class: 1\n",
            "|   |   |   |   |   |   |   |   |--- feature_8 >  2.45\n",
            "|   |   |   |   |   |   |   |   |   |--- feature_34 <= 0.03\n",
            "|   |   |   |   |   |   |   |   |   |   |--- feature_14 <= -52827.50\n",
            "|   |   |   |   |   |   |   |   |   |   |   |--- class: 1\n",
            "|   |   |   |   |   |   |   |   |   |   |--- feature_14 >  -52827.50\n",
            "|   |   |   |   |   |   |   |   |   |   |   |--- truncated branch of depth 6\n",
            "|   |   |   |   |   |   |   |   |   |--- feature_34 >  0.03\n",
            "|   |   |   |   |   |   |   |   |   |   |--- class: 1\n",
            "|   |   |   |   |   |   |--- feature_24 >  0.92\n",
            "|   |   |   |   |   |   |   |--- class: 1\n",
            "|   |   |   |--- feature_40 >  -0.01\n",
            "|   |   |   |   |--- feature_61 <= -118.26\n",
            "|   |   |   |   |   |--- class: 1\n",
            "|   |   |   |   |--- feature_61 >  -118.26\n",
            "|   |   |   |   |   |--- feature_9 <= 183.28\n",
            "|   |   |   |   |   |   |--- feature_56 <= -58.25\n",
            "|   |   |   |   |   |   |   |--- class: 1\n",
            "|   |   |   |   |   |   |--- feature_56 >  -58.25\n",
            "|   |   |   |   |   |   |   |--- feature_20 <= 7.50\n",
            "|   |   |   |   |   |   |   |   |--- feature_26 <= 1102.75\n",
            "|   |   |   |   |   |   |   |   |   |--- class: 1\n",
            "|   |   |   |   |   |   |   |   |--- feature_26 >  1102.75\n",
            "|   |   |   |   |   |   |   |   |   |--- feature_37 <= 0.20\n",
            "|   |   |   |   |   |   |   |   |   |   |--- feature_63 <= 641.09\n",
            "|   |   |   |   |   |   |   |   |   |   |   |--- truncated branch of depth 7\n",
            "|   |   |   |   |   |   |   |   |   |   |--- feature_63 >  641.09\n",
            "|   |   |   |   |   |   |   |   |   |   |   |--- truncated branch of depth 3\n",
            "|   |   |   |   |   |   |   |   |   |--- feature_37 >  0.20\n",
            "|   |   |   |   |   |   |   |   |   |   |--- feature_25 <= 210.74\n",
            "|   |   |   |   |   |   |   |   |   |   |   |--- truncated branch of depth 15\n",
            "|   |   |   |   |   |   |   |   |   |   |--- feature_25 >  210.74\n",
            "|   |   |   |   |   |   |   |   |   |   |   |--- truncated branch of depth 2\n",
            "|   |   |   |   |   |   |   |--- feature_20 >  7.50\n",
            "|   |   |   |   |   |   |   |   |--- class: 1\n",
            "|   |   |   |   |   |--- feature_9 >  183.28\n",
            "|   |   |   |   |   |   |--- class: 1\n",
            "|   |   |--- feature_5 >  0.04\n",
            "|   |   |   |--- feature_33 <= 1.59\n",
            "|   |   |   |   |--- feature_51 <= 0.37\n",
            "|   |   |   |   |   |--- class: 1\n",
            "|   |   |   |   |--- feature_51 >  0.37\n",
            "|   |   |   |   |   |--- class: 0\n",
            "|   |   |   |--- feature_33 >  1.59\n",
            "|   |   |   |   |--- feature_40 <= -0.09\n",
            "|   |   |   |   |   |--- feature_45 <= 1.09\n",
            "|   |   |   |   |   |   |--- class: 1\n",
            "|   |   |   |   |   |--- feature_45 >  1.09\n",
            "|   |   |   |   |   |   |--- class: 0\n",
            "|   |   |   |   |--- feature_40 >  -0.09\n",
            "|   |   |   |   |   |--- feature_54 <= 12099.00\n",
            "|   |   |   |   |   |   |--- feature_2 <= 0.99\n",
            "|   |   |   |   |   |   |   |--- feature_21 <= 1.10\n",
            "|   |   |   |   |   |   |   |   |--- feature_5 <= 0.04\n",
            "|   |   |   |   |   |   |   |   |   |--- class: 1\n",
            "|   |   |   |   |   |   |   |   |--- feature_5 >  0.04\n",
            "|   |   |   |   |   |   |   |   |   |--- feature_39 <= 0.03\n",
            "|   |   |   |   |   |   |   |   |   |   |--- feature_62 <= 13.38\n",
            "|   |   |   |   |   |   |   |   |   |   |   |--- class: 0\n",
            "|   |   |   |   |   |   |   |   |   |   |--- feature_62 >  13.38\n",
            "|   |   |   |   |   |   |   |   |   |   |   |--- class: 1\n",
            "|   |   |   |   |   |   |   |   |   |--- feature_39 >  0.03\n",
            "|   |   |   |   |   |   |   |   |   |   |--- feature_45 <= 0.33\n",
            "|   |   |   |   |   |   |   |   |   |   |   |--- class: 1\n",
            "|   |   |   |   |   |   |   |   |   |   |--- feature_45 >  0.33\n",
            "|   |   |   |   |   |   |   |   |   |   |   |--- truncated branch of depth 3\n",
            "|   |   |   |   |   |   |   |--- feature_21 >  1.10\n",
            "|   |   |   |   |   |   |   |   |--- class: 1\n",
            "|   |   |   |   |   |   |--- feature_2 >  0.99\n",
            "|   |   |   |   |   |   |   |--- class: 1\n",
            "|   |   |   |   |   |--- feature_54 >  12099.00\n",
            "|   |   |   |   |   |   |--- feature_33 <= 2.85\n",
            "|   |   |   |   |   |   |   |--- class: 1\n",
            "|   |   |   |   |   |   |--- feature_33 >  2.85\n",
            "|   |   |   |   |   |   |   |--- class: 0\n",
            "\n"
          ],
          "name": "stdout"
        }
      ]
    },
    {
      "cell_type": "markdown",
      "metadata": {
        "id": "kH5ekkCxUp-R"
      },
      "source": [
        "###PCA Decision Tree \n",
        "Using a PCA enabled decision tree does not help with our model very very much. \n",
        "\n",
        "After few trial and error, implementing # components to 49 and maximum depth of the tree to 6 improves the precision of predicting bankrupt companies increases by 20%, but it comes with a trade-off of lower recall. "
      ]
    },
    {
      "cell_type": "code",
      "metadata": {
        "colab": {
          "base_uri": "https://localhost:8080/"
        },
        "id": "aLc9sv_pUuZg",
        "outputId": "c80ae592-df9f-416d-af17-27a8aed2c537"
      },
      "source": [
        "#initiate pca enabled dataset \n",
        "pca = PCA(n_components=49)\n",
        "clf = tree.DecisionTreeClassifier(max_depth=6)\n",
        "\n",
        "#create pipeline \n",
        "pipeline_steps = [('scale', StandardScaler()), ('pca', pca), ('decisiontree', clf)]\n",
        "pipeline = Pipeline(pipeline_steps)\n",
        "print(pipeline)\n",
        "\n",
        "#prediction step, with x_test and we will validate accuracy against y_test\n",
        "clf = pipeline.fit(x_train, y_train)\n",
        "prediction = clf.predict(x_test)\n",
        "\n",
        "#test accuracy\n",
        "accuracy = sklearn.metrics.accuracy_score(y_test, prediction)\n",
        "print(\"Accuracy: %.1f%%\"% (accuracy*100))\n",
        "\n",
        "#more comprehensive report \n",
        "print(sklearn.metrics.classification_report(y_test,prediction))"
      ],
      "execution_count": null,
      "outputs": [
        {
          "output_type": "stream",
          "text": [
            "Pipeline(memory=None,\n",
            "         steps=[('scale',\n",
            "                 StandardScaler(copy=True, with_mean=True, with_std=True)),\n",
            "                ('pca',\n",
            "                 PCA(copy=True, iterated_power='auto', n_components=49,\n",
            "                     random_state=None, svd_solver='auto', tol=0.0,\n",
            "                     whiten=False)),\n",
            "                ('decisiontree',\n",
            "                 DecisionTreeClassifier(ccp_alpha=0.0, class_weight=None,\n",
            "                                        criterion='gini', max_depth=6,\n",
            "                                        max_features=None, max_leaf_nodes=None,\n",
            "                                        min_impurity_decrease=0.0,\n",
            "                                        min_impurity_split=None,\n",
            "                                        min_samples_leaf=1, min_samples_split=2,\n",
            "                                        min_weight_fraction_leaf=0.0,\n",
            "                                        presort='deprecated', random_state=None,\n",
            "                                        splitter='best'))],\n",
            "         verbose=False)\n",
            "Accuracy: 95.1%\n",
            "              precision    recall  f1-score   support\n",
            "\n",
            "           0       0.95      1.00      0.97      8240\n",
            "           1       0.59      0.11      0.19       441\n",
            "\n",
            "    accuracy                           0.95      8681\n",
            "   macro avg       0.77      0.55      0.58      8681\n",
            "weighted avg       0.94      0.95      0.93      8681\n",
            "\n"
          ],
          "name": "stdout"
        }
      ]
    },
    {
      "cell_type": "markdown",
      "metadata": {
        "id": "rQ_a3lFbbBDw"
      },
      "source": [
        "###Decision tree with Grid Search\n",
        "Instead of manully changing the parameters, in this section, we use a grid search to fine tune our hyper-paramters for our PCA decision tree. Our result is similar but slightly improved from manual tunning. Precision for bankrupt companies improved by 0.01 and recall improved by 0.01. Our f1-score for predicting bankruptcy improved by 0.01 as well. "
      ]
    },
    {
      "cell_type": "code",
      "metadata": {
        "id": "HDsMHm4Wyyxv"
      },
      "source": [
        "# decision tree with grid search\n",
        "from sklearn import decomposition, datasets\n",
        "from sklearn import tree\n",
        "from sklearn.pipeline import Pipeline\n",
        "from sklearn.model_selection import GridSearchCV\n",
        "from sklearn.preprocessing import StandardScaler\n",
        "\n",
        "x = bankrupt_data.drop(['bankrupt'], axis=1).values\n",
        "y = bankrupt_data['bankrupt'].values\n",
        "\n",
        "std_slc = StandardScaler()\n",
        "pca = decomposition.PCA()\n",
        "dec_tree = tree.DecisionTreeClassifier()\n",
        "\n",
        "pipe = Pipeline(steps=[('sts_slc', std_slc), ('pca', pca), ('dec_tree', dec_tree)])\n",
        "\n",
        "n_components = list(range(1, x.shape[1]+1, 1))\n",
        "param_grid = {\n",
        "    'pca__n_components': n_components,\n",
        "    'dec_tree__criterion' : ['gini', 'entropy'], \n",
        "    'dec_tree__max_depth': [2, 4, 6, 8, 10, 12]\n",
        "}\n"
      ],
      "execution_count": null,
      "outputs": []
    },
    {
      "cell_type": "code",
      "metadata": {
        "colab": {
          "background_save": true
        },
        "id": "fIvOss3D1DJN",
        "outputId": "f46eb8aa-3657-4213-ddcd-d3e4ee0c3f7c"
      },
      "source": [
        "clf_GS = GridSearchCV(pipe, param_grid)\n",
        "clf_GS.fit(x, y)"
      ],
      "execution_count": null,
      "outputs": [
        {
          "output_type": "execute_result",
          "data": {
            "text/plain": [
              "GridSearchCV(cv=None, error_score=nan,\n",
              "             estimator=Pipeline(memory=None,\n",
              "                                steps=[('sts_slc',\n",
              "                                        StandardScaler(copy=True,\n",
              "                                                       with_mean=True,\n",
              "                                                       with_std=True)),\n",
              "                                       ('pca',\n",
              "                                        PCA(copy=True, iterated_power='auto',\n",
              "                                            n_components=None,\n",
              "                                            random_state=None,\n",
              "                                            svd_solver='auto', tol=0.0,\n",
              "                                            whiten=False)),\n",
              "                                       ('dec_tree',\n",
              "                                        DecisionTreeClassifier(ccp_alpha=0.0,\n",
              "                                                               class_weight=None,\n",
              "                                                               criterion='gini',\n",
              "                                                               max_...\n",
              "                                                               random_state=None,\n",
              "                                                               splitter='best'))],\n",
              "                                verbose=False),\n",
              "             iid='deprecated', n_jobs=None,\n",
              "             param_grid={'dec_tree__criterion': ['gini', 'entropy'],\n",
              "                         'dec_tree__max_depth': [2, 4, 6, 8, 10, 12],\n",
              "                         'pca__n_components': [1, 2, 3, 4, 5, 6, 7, 8, 9, 10,\n",
              "                                               11, 12, 13, 14, 15, 16, 17, 18,\n",
              "                                               19, 20, 21, 22, 23, 24, 25, 26,\n",
              "                                               27, 28, 29, 30, ...]},\n",
              "             pre_dispatch='2*n_jobs', refit=True, return_train_score=False,\n",
              "             scoring=None, verbose=0)"
            ]
          },
          "metadata": {
            "tags": []
          },
          "execution_count": 0
        }
      ]
    },
    {
      "cell_type": "code",
      "metadata": {
        "colab": {
          "base_uri": "https://localhost:8080/"
        },
        "id": "AI3RHlCdbabs",
        "outputId": "d9bde4aa-1e5f-466b-8c23-e7aa2ddfd432"
      },
      "source": [
        "print('Best Criterion:', clf_GS.best_estimator_.get_params()['dec_tree__criterion'])\n",
        "print('Best max_depth:', clf_GS.best_estimator_.get_params()['dec_tree__max_depth'])\n",
        "print('Best Number Of Components:', clf_GS.best_estimator_.get_params()['pca__n_components'])\n",
        "print(); print(clf_GS.best_estimator_.get_params()['dec_tree'])"
      ],
      "execution_count": null,
      "outputs": [
        {
          "output_type": "stream",
          "text": [
            "Best Criterion: entropy\n",
            "Best max_depth: 6\n",
            "Best Number Of Components: 61\n",
            "\n",
            "DecisionTreeClassifier(ccp_alpha=0.0, class_weight=None, criterion='entropy',\n",
            "                       max_depth=6, max_features=None, max_leaf_nodes=None,\n",
            "                       min_impurity_decrease=0.0, min_impurity_split=None,\n",
            "                       min_samples_leaf=1, min_samples_split=2,\n",
            "                       min_weight_fraction_leaf=0.0, presort='deprecated',\n",
            "                       random_state=None, splitter='best')\n"
          ],
          "name": "stdout"
        }
      ]
    },
    {
      "cell_type": "code",
      "metadata": {
        "colab": {
          "base_uri": "https://localhost:8080/"
        },
        "id": "EUXxOLJ_PWgC",
        "outputId": "6706be3e-0773-4e92-b2ee-616b685822b4"
      },
      "source": [
        "# train the model with grid search tunned parameter \n",
        "pca = decomposition.PCA(n_components=61)\n",
        "clf = tree.DecisionTreeClassifier(criterion='entropy', max_depth=6)\n",
        "\n",
        "#create pipeline \n",
        "pipeline_steps = [('scale', StandardScaler()), ('pca', pca), ('decisiontree', clf)]\n",
        "pipeline = Pipeline(pipeline_steps)\n",
        "print(pipeline)\n",
        "\n",
        "#prediction step, with x_test and we will validate accuracy against y_test\n",
        "pred = pipeline.fit(x_train, y_train)\n",
        "prediction = pred.predict(x_test)\n",
        "\n",
        "#test accuracy\n",
        "accuracy = sklearn.metrics.accuracy_score(y_test, prediction)\n",
        "print(\"Accuracy: %.1f%%\"% (accuracy*100))\n",
        "\n",
        "#more comprehensive report \n",
        "print(sklearn.metrics.classification_report(y_test,prediction))"
      ],
      "execution_count": null,
      "outputs": [
        {
          "output_type": "stream",
          "text": [
            "Pipeline(memory=None,\n",
            "         steps=[('scale',\n",
            "                 StandardScaler(copy=True, with_mean=True, with_std=True)),\n",
            "                ('pca',\n",
            "                 PCA(copy=True, iterated_power='auto', n_components=61,\n",
            "                     random_state=None, svd_solver='auto', tol=0.0,\n",
            "                     whiten=False)),\n",
            "                ('decisiontree',\n",
            "                 DecisionTreeClassifier(ccp_alpha=0.0, class_weight=None,\n",
            "                                        criterion='entropy', max_depth=6,\n",
            "                                        max_features=None, max_leaf_nodes=None,\n",
            "                                        min_impurity_decrease=0.0,\n",
            "                                        min_impurity_split=None,\n",
            "                                        min_samples_leaf=1, min_samples_split=2,\n",
            "                                        min_weight_fraction_leaf=0.0,\n",
            "                                        presort='deprecated', random_state=None,\n",
            "                                        splitter='best'))],\n",
            "         verbose=False)\n",
            "Accuracy: 95.1%\n",
            "              precision    recall  f1-score   support\n",
            "\n",
            "           0       0.95      1.00      0.97      8240\n",
            "           1       0.60      0.12      0.20       441\n",
            "\n",
            "    accuracy                           0.95      8681\n",
            "   macro avg       0.78      0.56      0.59      8681\n",
            "weighted avg       0.94      0.95      0.94      8681\n",
            "\n"
          ],
          "name": "stdout"
        }
      ]
    },
    {
      "cell_type": "markdown",
      "metadata": {
        "id": "rnKvGXJJlSk7"
      },
      "source": [
        "## Random Forest\n",
        "The logical next step from a single decision tree is multiple ones. In this section, we use a random forrest classification model to fit the train data, tuned via a grid search through the hyper-parameters of the model.\n",
        "\n",
        "The improvement in the recall for bankrupt companies improved visibly, as around 1/3 of them are successfully identified within the test data set. And this improvement comes with little cost in precsision. Yet, in the grander scheme, the recall value is still very low to be truly useful. This indicates that the companies that this model predicts to have high risk would very likely to go bankrupt within 5 years, but the model also misses two-thirds of the eventually bankrupt firms."
      ]
    },
    {
      "cell_type": "code",
      "metadata": {
        "id": "1lmlyFEHnqPS",
        "outputId": "ee9ae294-797e-4877-8908-f28207420e29"
      },
      "source": [
        "from sklearn.ensemble import RandomForestClassifier\n",
        "from sklearn.model_selection import GridSearchCV\n",
        "\n",
        "param_grid = {\n",
        "    'max_depth': [2, 5, 10, 15],\n",
        "    'n_estimators': [100, 140, 200],\n",
        "    'criterion' : ['gini', 'entropy'],\n",
        "    'min_samples_split' : [2, 4],\n",
        "    'min_samples_leaf' : [1 , 3]\n",
        "}\n",
        "\n",
        "rf = RandomForestClassifier()\n",
        "\n",
        "grid_search = GridSearchCV(estimator = rf, param_grid = param_grid)\n",
        "\n",
        "grid_search.fit(x_train, y_train)\n",
        "grid_search.best_params_"
      ],
      "execution_count": null,
      "outputs": [
        {
          "output_type": "execute_result",
          "data": {
            "text/plain": [
              "{'criterion': 'gini',\n",
              " 'max_depth': 15,\n",
              " 'min_samples_leaf': 1,\n",
              " 'min_samples_split': 4,\n",
              " 'n_estimators': 140}"
            ]
          },
          "metadata": {
            "tags": []
          },
          "execution_count": 60
        }
      ]
    },
    {
      "cell_type": "code",
      "metadata": {
        "colab": {
          "base_uri": "https://localhost:8080/"
        },
        "id": "MY7RWv72ZSTG",
        "outputId": "da88c220-fbad-4e5b-eb21-47399719b53e"
      },
      "source": [
        "rf_new = RandomForestClassifier(n_estimators = 140, max_depth = 15, criterion = 'gini', min_samples_split = 4)\n",
        "rf_new.fit(x_train, y_train)\n",
        "y_pred = rf_new.predict(x_test)\n",
        "\n",
        "print(sklearn.metrics.classification_report(y_test,y_pred))"
      ],
      "execution_count": null,
      "outputs": [
        {
          "output_type": "stream",
          "text": [
            "              precision    recall  f1-score   support\n",
            "\n",
            "           0       0.97      1.00      0.98      8240\n",
            "           1       0.95      0.33      0.49       441\n",
            "\n",
            "    accuracy                           0.97      8681\n",
            "   macro avg       0.96      0.67      0.74      8681\n",
            "weighted avg       0.96      0.97      0.96      8681\n",
            "\n"
          ],
          "name": "stdout"
        }
      ]
    },
    {
      "cell_type": "markdown",
      "metadata": {
        "id": "Z8-0whp3s4-e"
      },
      "source": [
        "# Resampling & Refit\n",
        "\n",
        "As demonstrated in EDA, there is a great imbalance between the two sets of companies in the dataset: the number of non-bankrupt companies far exceeds that of bankrupt ones. This is good news for Polish economy but bad news for data scientists. To address the issue, we next attemped to resample the train data set with Smote module and re-run some of the best-performing models "
      ]
    },
    {
      "cell_type": "markdown",
      "metadata": {
        "id": "pJk8ASU6tWGj"
      },
      "source": [
        "## Oversampling\n",
        "For both the logistic regression and the random forest model fitted to the blown up training set, we see a significant improvement in recall. However, this comes with great cost on the precision end, which droped by 39 and 62 percentage points repectively in thw two model. \n",
        "\n",
        "For the random forest model, we achieved 67% in recall rate, the highest by now, and its precision is 33%, visible yet not sufficient for practucal purposes."
      ]
    },
    {
      "cell_type": "code",
      "metadata": {
        "colab": {
          "base_uri": "https://localhost:8080/"
        },
        "id": "QalHOLL0GSjj",
        "outputId": "723abaaf-f855-4efc-e22a-30d9fc6170f8"
      },
      "source": [
        "from imblearn.over_sampling import SMOTE\n",
        "from imblearn.under_sampling import RandomUnderSampler\n",
        "from imblearn.combine import SMOTEENN\n",
        "from imblearn.combine import SMOTETomek\n",
        "\n",
        "smote = SMOTE()\n",
        "x_train1, y_train1 = smote.fit_resample(x_train,y_train)"
      ],
      "execution_count": null,
      "outputs": [
        {
          "output_type": "stream",
          "text": [
            "/usr/local/lib/python3.7/dist-packages/sklearn/externals/six.py:31: FutureWarning:\n",
            "\n",
            "The module is deprecated in version 0.21 and will be removed in version 0.23 since we've dropped support for Python 2.7. Please rely on the official version of six (https://pypi.org/project/six/).\n",
            "\n",
            "/usr/local/lib/python3.7/dist-packages/sklearn/utils/deprecation.py:144: FutureWarning:\n",
            "\n",
            "The sklearn.neighbors.base module is  deprecated in version 0.22 and will be removed in version 0.24. The corresponding classes / functions should instead be imported from sklearn.neighbors. Anything that cannot be imported from sklearn.neighbors is now part of the private API.\n",
            "\n",
            "/usr/local/lib/python3.7/dist-packages/sklearn/utils/deprecation.py:87: FutureWarning:\n",
            "\n",
            "Function safe_indexing is deprecated; safe_indexing is deprecated in version 0.22 and will be removed in version 0.24.\n",
            "\n"
          ],
          "name": "stderr"
        }
      ]
    },
    {
      "cell_type": "markdown",
      "metadata": {
        "id": "hWo3DGfWflgo"
      },
      "source": [
        "### Decision Tree"
      ]
    },
    {
      "cell_type": "code",
      "metadata": {
        "id": "y-ne8jVDpnYQ",
        "outputId": "195d337a-f6a2-4e5b-d349-17e9036b3552"
      },
      "source": [
        "from sklearn import tree \n",
        "smote = SMOTE()\n",
        "x_train1, y_train1 = smote.fit_resample(x_train,y_train)\n",
        "\n",
        "#training step, on x_train and with y_train\n",
        "clf = tree.DecisionTreeClassifier()\n",
        "clf = clf.fit(X=x_train1, y=y_train1)\n",
        "\n",
        "#prediction step, with x_test and we will validate accuracy against y_test\n",
        "prediction = clf.predict(x_test)\n",
        "\n",
        "#test accuracy, ie Jaccard distance of matched items\n",
        "accuracy = sklearn.metrics.accuracy_score(y_test, prediction)\n",
        "print(\"Accuracy: %.1f%%\"% (accuracy*100))\n",
        "\n",
        "#more comprehensive report \n",
        "print(sklearn.metrics.classification_report(y_test, prediction))"
      ],
      "execution_count": null,
      "outputs": [
        {
          "output_type": "stream",
          "text": [
            "Accuracy: 91.4%\n",
            "              precision    recall  f1-score   support\n",
            "\n",
            "           0       0.98      0.93      0.95      8240\n",
            "           1       0.31      0.56      0.40       441\n",
            "\n",
            "    accuracy                           0.91      8681\n",
            "   macro avg       0.64      0.74      0.67      8681\n",
            "weighted avg       0.94      0.91      0.93      8681\n",
            "\n"
          ],
          "name": "stdout"
        }
      ]
    },
    {
      "cell_type": "markdown",
      "metadata": {
        "id": "bVKWn-ecuIzi"
      },
      "source": [
        "### Random Forest"
      ]
    },
    {
      "cell_type": "code",
      "metadata": {
        "colab": {
          "base_uri": "https://localhost:8080/"
        },
        "id": "yOeHLSub89tM",
        "outputId": "7b269244-b6f8-48eb-fd5b-a17510816258"
      },
      "source": [
        "param_grid = {\n",
        "    'max_depth': [5, 10],\n",
        "    'n_estimators': [100, 140],\n",
        "    'criterion' : ['gini', 'entropy'],\n",
        "}\n",
        "\n",
        "rf = RandomForestClassifier()\n",
        "\n",
        "grid_search = GridSearchCV(estimator = rf, param_grid = param_grid)\n",
        "\n",
        "grid_search.fit(x_train1, y_train1)\n",
        "grid_search.best_params_"
      ],
      "execution_count": null,
      "outputs": [
        {
          "output_type": "execute_result",
          "data": {
            "text/plain": [
              "{'criterion': 'gini', 'max_depth': 10, 'n_estimators': 100}"
            ]
          },
          "metadata": {
            "tags": []
          },
          "execution_count": 71
        }
      ]
    },
    {
      "cell_type": "code",
      "metadata": {
        "colab": {
          "base_uri": "https://localhost:8080/"
        },
        "id": "4PBWZa-eEa3N",
        "outputId": "e536b907-1db6-4ef2-bd99-0f85efaf2a78"
      },
      "source": [
        "rf_new = RandomForestClassifier(n_estimators = 100, max_depth = 10, criterion = 'gini')\n",
        "rf_new.fit(x_train1, y_train1)\n",
        "y_pred = rf_new.predict(x_test)\n",
        "\n",
        "print(sklearn.metrics.classification_report(y_test,y_pred))"
      ],
      "execution_count": null,
      "outputs": [
        {
          "output_type": "stream",
          "text": [
            "              precision    recall  f1-score   support\n",
            "\n",
            "           0       0.98      0.93      0.95      8240\n",
            "           1       0.32      0.67      0.44       441\n",
            "\n",
            "    accuracy                           0.91      8681\n",
            "   macro avg       0.65      0.80      0.69      8681\n",
            "weighted avg       0.95      0.91      0.93      8681\n",
            "\n"
          ],
          "name": "stdout"
        }
      ]
    },
    {
      "cell_type": "markdown",
      "metadata": {
        "id": "gVh_-_mrz4BV"
      },
      "source": [
        "## OverSampling & UnderSampling Combined\n",
        "We repeated the last section with a different resampling method, and received limited improvement in recall, again, at the cost of losing precision. The decision tree in this section performs worse than the simple decision tree."
      ]
    },
    {
      "cell_type": "code",
      "metadata": {
        "colab": {
          "base_uri": "https://localhost:8080/"
        },
        "id": "lFlW5JiA19uB",
        "outputId": "1b189082-6325-48c2-eb1f-303b139708f1"
      },
      "source": [
        "smoteenn = SMOTEENN()\n",
        "x_train2, y_train2 = smoteenn.fit_resample(x_train, y_train)"
      ],
      "execution_count": null,
      "outputs": [
        {
          "output_type": "stream",
          "text": [
            "/usr/local/lib/python3.7/dist-packages/sklearn/utils/deprecation.py:87: FutureWarning:\n",
            "\n",
            "Function safe_indexing is deprecated; safe_indexing is deprecated in version 0.22 and will be removed in version 0.24.\n",
            "\n",
            "/usr/local/lib/python3.7/dist-packages/sklearn/utils/deprecation.py:87: FutureWarning:\n",
            "\n",
            "Function safe_indexing is deprecated; safe_indexing is deprecated in version 0.22 and will be removed in version 0.24.\n",
            "\n",
            "/usr/local/lib/python3.7/dist-packages/sklearn/utils/deprecation.py:87: FutureWarning:\n",
            "\n",
            "Function safe_indexing is deprecated; safe_indexing is deprecated in version 0.22 and will be removed in version 0.24.\n",
            "\n",
            "/usr/local/lib/python3.7/dist-packages/sklearn/utils/deprecation.py:87: FutureWarning:\n",
            "\n",
            "Function safe_indexing is deprecated; safe_indexing is deprecated in version 0.22 and will be removed in version 0.24.\n",
            "\n"
          ],
          "name": "stderr"
        }
      ]
    },
    {
      "cell_type": "markdown",
      "metadata": {
        "id": "lnYiL5kFhM7O"
      },
      "source": [
        "### Decision Tree"
      ]
    },
    {
      "cell_type": "code",
      "metadata": {
        "id": "k1TVNwivpnYR",
        "outputId": "492400ff-6421-459f-e81e-dde99ba4fb1c"
      },
      "source": [
        "#training step, on x_train and with y_train\n",
        "clf = tree.DecisionTreeClassifier()\n",
        "clf = clf.fit(X=x_train2, y=y_train2)\n",
        "\n",
        "#prediction step, with x_test and we will validate accuracy against y_test\n",
        "prediction = clf.predict(x_test)\n",
        "\n",
        "#test accuracy, ie Jaccard distance of matched items\n",
        "accuracy = sklearn.metrics.accuracy_score(y_test, prediction)\n",
        "print(\"Accuracy: %.1f%%\"% (accuracy*100))\n",
        "\n",
        "#more comprehensive report \n",
        "print(sklearn.metrics.classification_report(y_test, prediction))"
      ],
      "execution_count": null,
      "outputs": [
        {
          "output_type": "stream",
          "text": [
            "Accuracy: 90.2%\n",
            "              precision    recall  f1-score   support\n",
            "\n",
            "           0       0.98      0.92      0.95      8240\n",
            "           1       0.29      0.63      0.40       441\n",
            "\n",
            "    accuracy                           0.90      8681\n",
            "   macro avg       0.63      0.77      0.67      8681\n",
            "weighted avg       0.94      0.90      0.92      8681\n",
            "\n"
          ],
          "name": "stdout"
        }
      ]
    },
    {
      "cell_type": "markdown",
      "metadata": {
        "id": "P7wr-pdkj_8V"
      },
      "source": [
        "### Random Forest"
      ]
    },
    {
      "cell_type": "code",
      "metadata": {
        "colab": {
          "base_uri": "https://localhost:8080/"
        },
        "id": "3qzXjZnTipGr",
        "outputId": "d41fab4f-90ac-4bdd-ca39-21dca0bd7873"
      },
      "source": [
        "from sklearn.ensemble import RandomForestClassifier\n",
        "from sklearn.model_selection import GridSearchCV\n",
        "\n",
        "param_grid = {\n",
        "    'max_depth': [5, 10],\n",
        "    'n_estimators': [100, 140],\n",
        "    'criterion' : ['gini', 'entropy'],\n",
        "}\n",
        "\n",
        "rf = RandomForestClassifier()\n",
        "\n",
        "grid_search = GridSearchCV(estimator = rf, param_grid = param_grid)\n",
        "\n",
        "grid_search.fit(x_train2, y_train2)\n",
        "grid_search.best_params_"
      ],
      "execution_count": null,
      "outputs": [
        {
          "output_type": "execute_result",
          "data": {
            "text/plain": [
              "{'criterion': 'entropy', 'max_depth': 10, 'n_estimators': 140}"
            ]
          },
          "metadata": {
            "tags": []
          },
          "execution_count": 12
        }
      ]
    },
    {
      "cell_type": "code",
      "metadata": {
        "colab": {
          "base_uri": "https://localhost:8080/"
        },
        "id": "cdfUoGb4wEe6",
        "outputId": "17d9aff9-b165-42a5-c0fa-56523586a61d"
      },
      "source": [
        "rf_new = RandomForestClassifier(n_estimators = 140, max_depth = 10, criterion = 'entropy')\n",
        "rf_new.fit(x_train2, y_train2)\n",
        "y_pred = rf_new.predict(x_test)\n",
        "\n",
        "print(sklearn.metrics.classification_report(y_test,y_pred))"
      ],
      "execution_count": null,
      "outputs": [
        {
          "output_type": "stream",
          "text": [
            "              precision    recall  f1-score   support\n",
            "\n",
            "           0       0.98      0.88      0.93      8240\n",
            "           1       0.25      0.72      0.37       441\n",
            "\n",
            "    accuracy                           0.87      8681\n",
            "   macro avg       0.61      0.80      0.65      8681\n",
            "weighted avg       0.95      0.87      0.90      8681\n",
            "\n"
          ],
          "name": "stdout"
        }
      ]
    },
    {
      "cell_type": "markdown",
      "metadata": {
        "id": "5exGMsvkkdLA"
      },
      "source": [
        "# Neural Network\n",
        "Finally, after a few models with rather limited success, we decided to train a feedfoward neural network with pytorch to explore possible improvements. The number of layers and neurons in each layers are tuned manually.\n",
        "\n",
        "The feedfoward neural network model achieved the highest recall across all of our models with a notably low precision. This model would be more suitable in situations where indentifying more companies in distress is more important than the precision.\n"
      ]
    },
    {
      "cell_type": "markdown",
      "metadata": {
        "id": "5S1JUjoqtgXh"
      },
      "source": [
        "##FNN"
      ]
    },
    {
      "cell_type": "code",
      "metadata": {
        "id": "Ys24mZ3Ckcso"
      },
      "source": [
        "!pip install torch torchvision"
      ],
      "execution_count": null,
      "outputs": []
    },
    {
      "cell_type": "code",
      "metadata": {
        "id": "wL7flYL3qLGy"
      },
      "source": [
        "import shutil\n",
        "import torch\n",
        "import torchvision\n",
        "import torch.nn as nn\n",
        "import torchsummary\n",
        "from torchsummary import summary\n",
        "device = torch.device(\"cuda:0\" if torch.cuda.is_available() else \"cpu\")"
      ],
      "execution_count": null,
      "outputs": []
    },
    {
      "cell_type": "code",
      "metadata": {
        "id": "FZIlXvZRqaVM"
      },
      "source": [
        "bankrupt_data_nn = bankrupt_data\n",
        "features = bankrupt_data_nn.drop(['bankrupt'], axis = 1)\n",
        "label = bankrupt_data_nn['bankrupt']\n",
        "\n",
        "features, test_features, label, test_label = train_test_split(features, label, test_size=0.2, random_state=42)\n",
        "\n",
        "\n",
        "train_data = torch.tensor(np.stack([features[col].values for col in features.columns], 1), dtype = torch.float)\n",
        "train_label = torch.tensor(label.values, dtype = torch.int)\n",
        "\n",
        "test_data = torch.tensor(np.stack([test_features[col].values for col in test_features.columns], 1), dtype = torch.float)\n",
        "test_label = torch.tensor(test_label.values, dtype = torch.int)\n",
        "\n",
        "\n",
        "train_set = torch.utils.data.TensorDataset(train_data, train_label.long())\n",
        "test_set = torch.utils.data.TensorDataset(test_data, test_label.long())\n",
        "\n",
        "train_loader = DataLoader(train_set, 8, True)\n",
        "test_loader = DataLoader(test_set, 1, False)"
      ],
      "execution_count": null,
      "outputs": []
    },
    {
      "cell_type": "code",
      "metadata": {
        "id": "r-iKTapsrAVz"
      },
      "source": [
        "criterion = nn.CrossEntropyLoss()\n",
        "\n",
        "from torch.nn import functional\n",
        "class LogisticRegression(torch.nn.Module):\n",
        "    def __init__(self, input_dim, output_dim):\n",
        "        super(LogisticRegression, self).__init__()\n",
        "        self.linear = torch.nn.Linear(input_dim, output_dim)\n",
        "\n",
        "    def forward(self, x):\n",
        "        outputs = self.linear(x)\n",
        "        return outputs\n",
        "\n",
        "lr_model = LogisticRegression(64, 2)\n",
        "lr_optimizer = torch.optim.Adam(lr_model.parameters(), lr=1e-4)"
      ],
      "execution_count": null,
      "outputs": []
    },
    {
      "cell_type": "code",
      "metadata": {
        "id": "PNed_VsdrM_p"
      },
      "source": [
        "def train_model(model, optimizer, criterion, epochs=10):\n",
        "    for child in model.children():\n",
        "        if hasattr(child, 'reset_parameters'):\n",
        "            child.reset_parameters()\n",
        "    model.train()\n",
        "    model.to(device)\n",
        "\n",
        "    final_training_accuracy = 0\n",
        "    final_training_loss = 0\n",
        "    loss_LIST = []\n",
        "    accuracy_LIST = []\n",
        "\n",
        "    for epoch in range(epochs):\n",
        "        running_loss = 0.0\n",
        "        correct = 0\n",
        "        total = 0\n",
        "        for data, labels in train_loader:\n",
        "            data = data.to(device)\n",
        "            labels = labels.to(device)\n",
        "    \n",
        "            outputs = model(data)\n",
        "            optimizer.zero_grad()\n",
        "\n",
        "            _, predicted = torch.max(outputs.data, 1)\n",
        "\n",
        "            loss = criterion(outputs, labels)\n",
        "            loss.backward()\n",
        "        \n",
        "            optimizer.step()\n",
        "\n",
        "            total += labels.size(0)\n",
        "            correct += (predicted == labels).sum().item()\n",
        "\n",
        "            running_loss += loss.item()\n",
        "        loss_LIST.append(running_loss / len(train_loader))\n",
        "        accuracy_LIST.append(correct/total)\n",
        "\n",
        "        final_training_accuracy = accuracy_LIST[len(accuracy_LIST) - 1]    # TODO: Set this to final training accuracy\n",
        "        final_training_loss = loss_LIST[len(loss_LIST) - 1]    # TODO: Set this to final testing accuracy\n",
        "\n",
        "        print(final_training_accuracy)\n",
        "        print(final_training_loss)\n",
        "    return final_training_loss, final_training_accuracy, loss_LIST, accuracy_LIST"
      ],
      "execution_count": null,
      "outputs": []
    },
    {
      "cell_type": "code",
      "metadata": {
        "id": "Mf95j_1srfty"
      },
      "source": [
        "fnn_model = torch.nn.Sequential(\n",
        "  nn.Linear(64, 16),\n",
        "  nn.ReLU(),\n",
        "  nn.Linear(16, 8),\n",
        "  nn.ReLU(),\n",
        "  nn.Linear(8, 4),\n",
        "  nn.ReLU(),\n",
        "  nn.Linear(4, 2)\n",
        ")"
      ],
      "execution_count": null,
      "outputs": []
    },
    {
      "cell_type": "code",
      "metadata": {
        "id": "SHTvRqMXOvVq",
        "outputId": "3c0944ae-5656-48c3-fbcb-0189448e65ab"
      },
      "source": [
        "fnn_loss_list = []\n",
        "fnn_accuracy_list = []\n",
        "fnn_epochs =20           # TODO: set the number of epochs\n",
        "fnn_optimizer = torch.optim.Adam(fnn_model.parameters(), 1e-4)            # TODO: initialize the optimizer\n",
        "fnn_training_loss, fnn_training_accuracy, fnn_loss_list, fnn_accuracy_list = train_model(fnn_model, fnn_optimizer, criterion, fnn_epochs)\n",
        "\n",
        "print(\"Feedforward Neural Network - the training loss is \", str(fnn_training_loss))\n",
        "print(\"Feedforward Neural Network - the training accuracy is \", str(fnn_training_accuracy))"
      ],
      "execution_count": null,
      "outputs": [
        {
          "output_type": "stream",
          "text": [
            "0.8763967284875014\n",
            "6.39941249765994\n",
            "0.9361536689321507\n",
            "1.5478620786891175\n",
            "0.9369600276465845\n",
            "0.8492586295174985\n",
            "0.9398686787236493\n",
            "1.0701674031623767\n",
            "0.9413950005759705\n",
            "1.0518351441031708\n",
            "0.9440732634489114\n",
            "0.7763396956942135\n",
            "0.9471547056790692\n",
            "0.5302538409826739\n",
            "0.9489402142610298\n",
            "0.5101786185283063\n",
            "0.9491706024651538\n",
            "0.39758557498054287\n",
            "0.9504953346388665\n",
            "0.3947171212023927\n",
            "0.9515896786084552\n",
            "0.30145759553035156\n",
            "0.9512440963022694\n",
            "0.2941129426294893\n",
            "0.9509561110471144\n",
            "0.29640864611527584\n",
            "0.9522520446953116\n",
            "0.3095094201021884\n",
            "0.952568828475982\n",
            "0.254308503925881\n",
            "0.952741619629075\n",
            "0.23461287368652775\n",
            "0.9522808432208271\n",
            "0.22267433083505708\n",
            "0.9514456859808778\n",
            "0.20972293960795138\n",
            "0.9522520446953116\n",
            "0.19641638640657605\n",
            "0.9524248358484045\n",
            "0.19125172711562977\n",
            "Feedforward Neural Network - the training loss is  0.19125172711562977\n",
            "Feedforward Neural Network - the training accuracy is  0.9524248358484045\n"
          ],
          "name": "stdout"
        }
      ]
    },
    {
      "cell_type": "code",
      "metadata": {
        "id": "NH05rY6OOvVq",
        "outputId": "b2aeb92c-8e22-4c97-8773-06a7046d7fbe"
      },
      "source": [
        "sns.set(rc={'figure.figsize':(5,5)})\n",
        "plt.plot(range(1,21), fnn_loss_list, label=\"Losses\")\n",
        "plt.legend()\n",
        "plt.show()\n",
        "plt.plot(range(1,21), fnn_accuracy_list, label=\"Accuracies\")\n",
        "plt.legend()\n",
        "plt.show()"
      ],
      "execution_count": null,
      "outputs": [
        {
          "output_type": "display_data",
          "data": {
            "image/png": "[encoded data removed]",
            "text/plain": [
              "<Figure size 360x360 with 1 Axes>"
            ]
          },
          "metadata": {
            "tags": []
          }
        },
        {
          "output_type": "display_data",
          "data": {
            "image/png": "[encoded data removed]",
            "text/plain": [
              "<Figure size 360x360 with 1 Axes>"
            ]
          },
          "metadata": {
            "tags": []
          }
        }
      ]
    },
    {
      "cell_type": "code",
      "metadata": {
        "id": "ISZeUHIRPlVg"
      },
      "source": [
        "def test_model(model, criterion):\n",
        "    model.eval()\n",
        "    running_loss = 0.0\n",
        "    total = 0\n",
        "    correct = 0\n",
        "    \n",
        "    confusion_matrix = torch.zeros(2, 2)\n",
        "\n",
        "    # TODO: Implement your testing loop with the `test_loader` data\n",
        "    for data, labels in test_loader:\n",
        "        data = torch.flatten(data, 1)\n",
        "        data = data.to(device)\n",
        "        labels = labels.to(device)\n",
        "\n",
        "        outputs = model(data)\n",
        "        _, predicted = torch.max(outputs.data, 1)\n",
        "        \n",
        "        for t, p in zip(labels.view(-1), predicted.view(-1)):\n",
        "            confusion_matrix[t.long(), p.long()] += 1\n",
        "\n",
        "        loss = criterion(outputs, labels)\n",
        "\n",
        "        running_loss = loss.item() / len(test_loader)\n",
        "        total += labels.size(0)\n",
        "        correct += (predicted == labels).sum().item()\n",
        "\n",
        "    testing_loss = running_loss  # TODO: Set this to your testing loss\n",
        "    testing_accuracy = correct/total     # TODO: Set this to your testing accuracy\n",
        "    return  testing_loss, testing_accuracy, confusion_matrix "
      ],
      "execution_count": null,
      "outputs": []
    },
    {
      "cell_type": "code",
      "metadata": {
        "id": "N7jXwOm3OvVr",
        "outputId": "38862361-4cd4-4826-938b-be9c10b7afca"
      },
      "source": [
        "fnn_testing_loss, fnn_testing_accuracy, fnn_confusion_maxtrix = test_model(fnn_model, criterion)\n",
        "\n",
        "cm = np.array(fnn_confusion_maxtrix)\n",
        "\n",
        "print(\"Feedforward Neural Network - the testing loss is \", str(fnn_testing_loss))\n",
        "print(\"Feedforward Neural Network - the testing accuracy is \", str(fnn_testing_accuracy))\n",
        "print(\"Feedforward Neural Network - the testing recall is \", str(cm[1][1] / (cm[1][0]+cm[1][1])))\n",
        "print(\"Feedforward Neural Network - the testing precision is \", str(cm[1][1] / (cm[0][1]+cm[1][1])))\n",
        "print(\"Feedforward Neural Network - the testing confusion matrix is \")\n",
        "print(cm)"
      ],
      "execution_count": null,
      "outputs": [
        {
          "output_type": "stream",
          "text": [
            "Feedforward Neural Network - the testing loss is  3.002206130300218e-06\n",
            "Feedforward Neural Network - the testing accuracy is  0.9485082363782974\n",
            "Feedforward Neural Network - the testing recall is  0.01814059\n",
            "Feedforward Neural Network - the testing precision is  0.36363637\n",
            "Feedforward Neural Network - the testing confusion matrix is \n",
            "[[8.226e+03 1.400e+01]\n",
            " [4.330e+02 8.000e+00]]\n"
          ],
          "name": "stdout"
        }
      ]
    },
    {
      "cell_type": "markdown",
      "metadata": {
        "id": "eETtpgnHxGpR"
      },
      "source": [
        "## FNN with Resampling"
      ]
    },
    {
      "cell_type": "code",
      "metadata": {
        "id": "tZecA3L-yR1W"
      },
      "source": [
        "from imblearn.over_sampling import SMOTE\n",
        "from imblearn.under_sampling import RandomUnderSampler\n",
        "from imblearn.combine import SMOTEENN\n",
        "from imblearn.combine import SMOTETomek\n",
        "\n",
        "\n",
        "bankrupt_data_nn = bankrupt_data_new\n",
        "features = bankrupt_data_nn.drop(['bankrupt'], axis = 1)\n",
        "label = bankrupt_data_nn['bankrupt']\n",
        "\n",
        "features, test_features, label, test_label = train_test_split(features, label, test_size=0.2, random_state=42)\n",
        "\n",
        "smote = SMOTE()\n",
        "features, label = smote.fit_resample(features,label)\n",
        "\n",
        "\n",
        "train_data = torch.tensor(np.stack([features[col].values for col in features.columns], 1), dtype = torch.float)\n",
        "train_label = torch.tensor(label.values, dtype = torch.int)\n",
        "\n",
        "test_data = torch.tensor(np.stack([test_features[col].values for col in test_features.columns], 1), dtype = torch.float)\n",
        "test_label = torch.tensor(test_label.values, dtype = torch.int)\n",
        "\n",
        "\n",
        "train_set = torch.utils.data.TensorDataset(train_data, train_label.long())\n",
        "test_set = torch.utils.data.TensorDataset(test_data, test_label.long())\n",
        "\n",
        "train_loader = DataLoader(train_set, 8, True)\n",
        "test_loader = DataLoader(test_set, 1, False)"
      ],
      "execution_count": null,
      "outputs": []
    },
    {
      "cell_type": "code",
      "metadata": {
        "id": "iEOmDiEQGxVk",
        "outputId": "943d127c-7656-4231-b608-46bb0ca6443d"
      },
      "source": [
        "fnn_loss_list = []\n",
        "fnn_accuracy_list = []\n",
        "fnn_epochs =20           # TODO: set the number of epochs\n",
        "fnn_optimizer = torch.optim.Adam(fnn_model.parameters(), 1e-4)            # TODO: initialize the optimizer\n",
        "fnn_training_loss, fnn_training_accuracy, fnn_loss_list, fnn_accuracy_list = train_model(fnn_model, fnn_optimizer, criterion, fnn_epochs)\n",
        "\n",
        "print(\"Feedforward Neural Network - the training loss is \", str(fnn_training_loss))\n",
        "print(\"Feedforward Neural Network - the training accuracy is \", str(fnn_training_accuracy))"
      ],
      "execution_count": null,
      "outputs": [
        {
          "output_type": "stream",
          "text": [
            "0.6438743423837455\n",
            "3.692077180267776\n",
            "0.681139263469795\n",
            "2.543106355936832\n",
            "0.6927798270544839\n",
            "2.157566242752542\n",
            "0.7084870290862914\n",
            "1.8100691903363393\n",
            "0.6993257543689907\n",
            "1.7521303197343525\n",
            "0.6859013122089859\n",
            "1.3526605743793654\n",
            "0.6876398379391667\n",
            "1.4546271728040634\n",
            "0.7113140230997158\n",
            "1.2086318227440958\n",
            "0.72904698554756\n",
            "1.113576356332836\n",
            "0.7237255850517023\n",
            "0.9420402956382476\n",
            "0.7389943762472032\n",
            "0.6528700391610699\n",
            "0.7449960694200883\n",
            "0.5914559661197769\n",
            "0.7557749289472093\n",
            "0.5562752977154148\n",
            "0.7624871500272117\n",
            "0.5492082327993537\n",
            "0.7662363185583843\n",
            "0.5418268811340156\n",
            "0.7670224345407268\n",
            "0.5338879562180036\n",
            "0.770348309850638\n",
            "0.5177032341348288\n",
            "0.7740974783818105\n",
            "0.5116625040984021\n",
            "0.7722833645764045\n",
            "0.5111170912972167\n",
            "0.7751103585898289\n",
            "0.5023998708120352\n",
            "Feedforward Neural Network - the training loss is  0.5023998708120352\n",
            "Feedforward Neural Network - the training accuracy is  0.7751103585898289\n"
          ],
          "name": "stdout"
        }
      ]
    },
    {
      "cell_type": "code",
      "metadata": {
        "id": "XnfYyQrbGxVl",
        "outputId": "a7fc9fca-30f0-4e35-ef52-8888e19cf781"
      },
      "source": [
        "sns.set(rc={'figure.figsize':(5,5)})\n",
        "plt.plot(range(1,21), fnn_loss_list, label=\"Losses\")\n",
        "plt.legend()\n",
        "plt.show()\n",
        "plt.plot(range(1,21), fnn_accuracy_list, label=\"Accuracies\")\n",
        "plt.legend()\n",
        "plt.show()"
      ],
      "execution_count": null,
      "outputs": [
        {
          "output_type": "display_data",
          "data": {
            "image/png": "[encoded data removed]",
            "text/plain": [
              "<Figure size 360x360 with 1 Axes>"
            ]
          },
          "metadata": {
            "tags": []
          }
        },
        {
          "output_type": "display_data",
          "data": {
            "image/png": "[encoded data removed]",
            "text/plain": [
              "<Figure size 360x360 with 1 Axes>"
            ]
          },
          "metadata": {
            "tags": []
          }
        }
      ]
    },
    {
      "cell_type": "code",
      "metadata": {
        "id": "ZHYgTsF0GxVl",
        "outputId": "8b9ca231-a1d4-4379-8156-30aa9c96fd49"
      },
      "source": [
        "fnn_testing_loss, fnn_testing_accuracy, fnn_confusion_maxtrix = test_model(fnn_model, criterion)\n",
        "\n",
        "cm = np.array(fnn_confusion_maxtrix)\n",
        "\n",
        "print(\"Feedforward Neural Network - the testing loss is \", str(fnn_testing_loss))\n",
        "print(\"Feedforward Neural Network - the testing accuracy is \", str(fnn_testing_accuracy))\n",
        "print(\"Feedforward Neural Network - the testing recall is \", str(cm[1][1] / (cm[1][0]+cm[1][1])))\n",
        "print(\"Feedforward Neural Network - the testing precision is \", str(cm[1][1] / (cm[0][1]+cm[1][1])))\n",
        "print(\"Feedforward Neural Network - the testing confusion matrix is \")\n",
        "print(cm)"
      ],
      "execution_count": null,
      "outputs": [
        {
          "output_type": "stream",
          "text": [
            "Feedforward Neural Network - the testing loss is  4.7325195250917915e-08\n",
            "Feedforward Neural Network - the testing accuracy is  0.7469185577698422\n",
            "Feedforward Neural Network - the testing recall is  0.75736964\n",
            "Feedforward Neural Network - the testing precision is  0.13778877\n",
            "Feedforward Neural Network - the testing confusion matrix is \n",
            "[[6150. 2090.]\n",
            " [ 107.  334.]]\n"
          ],
          "name": "stdout"
        }
      ]
    },
    {
      "cell_type": "markdown",
      "metadata": {
        "id": "9SrYJl7c12U-"
      },
      "source": [
        "#Conclusion\n",
        "Through our various efforts to explore the relationships between the financial data and the likelihood of bankrupcy for firms, we have learned the complex nature of the problem. Even though we have as many as 64 feature to work with, the inherent imbalance of the data and diverse causes of bankrupcy in real life made it very difficult to construct a satisfactory model. It seems that we have to make a precision-recall trade-off when selecting models to use. The following chart detailed three of the best performing models we've constructed for this project:\n",
        "![Screen Shot 2021-05-06 at 8.58.59 AM.png](data:image/png;base64,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)\n",
        "\n",
        "The simple random forest model offers the highest precision with low recall, while the feedfoward neural network model with resampling is the exact opposite. The simple decision tree model and the random forest model are relatively more balanced in the two measure. Comparing with Altman's Z-score formula (and ours), any one of the models would be a better predictor by both measures.\n",
        "\n",
        "In light of the complexity of the issue, we think that potential next steps include obtaining a more complete set of features that not only capture the financial aspect of a firm, but also more infomation on their industry, management, nationality, and more. After separating firms with drastically different business models, for instance, asset-light internet companies and asset-heavy real estate companies, we believe we would be able to develop more preciese and accurate models for each sub-category of companies.\n",
        "\n"
      ]
    }
  ]
}